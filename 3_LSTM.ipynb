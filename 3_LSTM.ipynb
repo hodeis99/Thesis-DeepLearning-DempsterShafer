{
  "cells": [
    {
      "cell_type": "code",
      "source": [
        "import numpy as np\n",
        "import pandas as pd\n",
        "import seaborn as sns\n",
        "import tensorflow as tf\n",
        "from google.colab import drive\n",
        "from tensorflow.keras.models import Sequential\n",
        "from tensorflow.keras.layers import LSTM, Dense, Dropout, BatchNormalization\n",
        "from tensorflow.keras.optimizers import Adam\n",
        "from tensorflow.keras.callbacks import EarlyStopping, ModelCheckpoint\n",
        "from sklearn.model_selection import train_test_split\n",
        "from sklearn.metrics import classification_report, confusion_matrix\n",
        "import matplotlib.pyplot as plt"
      ],
      "metadata": {
        "id": "Yy4aRMXN4cFB"
      },
      "execution_count": null,
      "outputs": []
    },
    {
      "cell_type": "code",
      "source": [
        "drive.mount('/content/drive')\n",
        "\n",
        "train = pd.read_csv('/content/drive/MyDrive/Thesis/Train_dataset_3.csv', low_memory=False)\n",
        "test = pd.read_csv('/content/drive/MyDrive/Thesis/Test_dataset_3.csv', low_memory=False)"
      ],
      "metadata": {
        "colab": {
          "base_uri": "https://localhost:8080/"
        },
        "id": "eUXc5Q005UR9",
        "outputId": "9a341681-9dbe-4dd5-862e-b944b3338c44"
      },
      "execution_count": null,
      "outputs": [
        {
          "output_type": "stream",
          "name": "stdout",
          "text": [
            "Mounted at /content/drive\n"
          ]
        }
      ]
    },
    {
      "cell_type": "code",
      "source": [
        "n_repeats = 5\n",
        "metrics = {\n",
        "    'accuracy': [],\n",
        "    'precision': [],\n",
        "    'recall': [],\n",
        "    'auc': [],\n",
        "    'loss': []\n",
        "}"
      ],
      "metadata": {
        "id": "ga55Qev69WQQ"
      },
      "execution_count": null,
      "outputs": []
    },
    {
      "cell_type": "code",
      "source": [
        "def create_sequences(data, seq_length=5):\n",
        "    sequences = []\n",
        "    targets = []\n",
        "    for i in range(len(data) - seq_length):\n",
        "        seq = data.iloc[i:i+seq_length, :-1].values\n",
        "        label = data.iloc[i+seq_length, -1]\n",
        "        sequences.append(seq)\n",
        "        targets.append(label)\n",
        "    return np.array(sequences), np.array(targets)\n",
        "\n",
        "\n",
        "SEQ_LENGTH = 5\n",
        "FEATURES = train.shape[1] - 1\n",
        "\n",
        "\n",
        "X_train, y_train = create_sequences(train, SEQ_LENGTH)\n",
        "\n",
        "\n",
        "X_test, y_test = create_sequences(test, SEQ_LENGTH)"
      ],
      "metadata": {
        "id": "cKn72PVl4pLU"
      },
      "execution_count": null,
      "outputs": []
    },
    {
      "cell_type": "code",
      "source": [
        "X_train, X_val, y_train, y_val = train_test_split(\n",
        "    X_train, y_train, test_size=0.2, random_state=42, stratify=y_train)"
      ],
      "metadata": {
        "id": "dS_sNBIP4ruG"
      },
      "execution_count": null,
      "outputs": []
    },
    {
      "cell_type": "code",
      "source": [
        "callbacks = [\n",
        "    EarlyStopping(monitor='val_loss', patience=10, restore_best_weights=True),\n",
        "    ModelCheckpoint('best_model.h5', monitor='val_loss', save_best_only=True)\n",
        "]"
      ],
      "metadata": {
        "id": "fbFF-RprA7r_"
      },
      "execution_count": null,
      "outputs": []
    },
    {
      "cell_type": "code",
      "source": [
        "for run in range(n_repeats):\n",
        "    print(f\"\\n{'='*50}\")\n",
        "    print(f\"Run {run+1}/{n_repeats}\")\n",
        "    print(f\"{'='*50}\")\n",
        "\n",
        "    model = Sequential([\n",
        "        LSTM(128, input_shape=(SEQ_LENGTH, FEATURES), return_sequences=True),\n",
        "        BatchNormalization(),\n",
        "        Dropout(0.3),\n",
        "        LSTM(128, return_sequences=False),\n",
        "        BatchNormalization(),\n",
        "        Dropout(0.3),\n",
        "        Dense(64, activation='relu'),\n",
        "        BatchNormalization(),\n",
        "        Dropout(0.3),\n",
        "        Dense(1, activation='sigmoid')\n",
        "    ])\n",
        "\n",
        "    optimizer = Adam(learning_rate=0.0001)\n",
        "    model.compile(optimizer=optimizer,\n",
        "                  loss='binary_crossentropy',\n",
        "                  metrics=['accuracy',\n",
        "                           tf.keras.metrics.Precision(name='precision'),\n",
        "                           tf.keras.metrics.Recall(name='recall'),\n",
        "                           tf.keras.metrics.AUC(name='auc')])\n",
        "\n",
        "    history = model.fit(\n",
        "        X_train, y_train,\n",
        "        validation_data=(X_val, y_val),\n",
        "        epochs=100,\n",
        "        batch_size=64,\n",
        "        callbacks=callbacks,\n",
        "        class_weight={0: 1, 1: 2},\n",
        "        verbose=1\n",
        "    )\n",
        "\n",
        "    results = model.evaluate(X_test, y_test, verbose=0)\n",
        "    metrics['loss'].append(results[0])\n",
        "    metrics['accuracy'].append(results[1])\n",
        "    metrics['precision'].append(results[2])\n",
        "    metrics['recall'].append(results[3])\n",
        "    metrics['auc'].append(results[4])\n",
        "\n",
        "    print(f\"\\nRun {run+1} Results:\")\n",
        "    print(f\"Test Loss: {results[0]:.4f}\")\n",
        "    print(f\"Test Accuracy: {results[1]:.4f}\")\n",
        "    print(f\"Test Precision: {results[2]:.4f}\")\n",
        "    print(f\"Test Recall: {results[3]:.4f}\")\n",
        "    print(f\"Test AUC: {results[4]:.4f}\")"
      ],
      "metadata": {
        "colab": {
          "base_uri": "https://localhost:8080/"
        },
        "id": "gONhjr1p5X8R",
        "outputId": "56c4290c-96d1-4389-ab2e-21b7b524aa66"
      },
      "execution_count": null,
      "outputs": [
        {
          "output_type": "stream",
          "name": "stdout",
          "text": [
            "\n",
            "==================================================\n",
            "Run 1/5\n",
            "==================================================\n",
            "Epoch 1/100\n",
            "\u001b[1m497/500\u001b[0m \u001b[32m━━━━━━━━━━━━━━━━━━━\u001b[0m\u001b[37m━\u001b[0m \u001b[1m0s\u001b[0m 10ms/step - accuracy: 0.8287 - auc: 0.9073 - loss: 0.5311 - precision: 0.8026 - recall: 0.8657"
          ]
        },
        {
          "output_type": "stream",
          "name": "stderr",
          "text": [
            "WARNING:absl:You are saving your model as an HDF5 file via `model.save()` or `keras.saving.save_model(model)`. This file format is considered legacy. We recommend using instead the native Keras format, e.g. `model.save('my_model.keras')` or `keras.saving.save_model(model, 'my_model.keras')`. \n"
          ]
        },
        {
          "output_type": "stream",
          "name": "stdout",
          "text": [
            "\b\b\b\b\b\b\b\b\b\b\b\b\b\b\b\b\b\b\b\b\b\b\b\b\b\b\b\b\b\b\b\b\b\b\b\b\b\b\b\b\b\b\b\b\b\b\b\b\b\b\b\b\b\b\b\b\b\b\b\b\b\b\b\b\b\b\b\b\b\b\b\b\b\b\b\b\b\b\b\b\b\b\b\b\b\b\b\b\b\b\b\b\b\b\b\b\b\b\b\b\b\b\b\b\b\b\b\b\b\b\b\b\b\b\b\b\b\b\b\b\b\b\b\b\b\b\r\u001b[1m500/500\u001b[0m \u001b[32m━━━━━━━━━━━━━━━━━━━━\u001b[0m\u001b[37m\u001b[0m \u001b[1m16s\u001b[0m 15ms/step - accuracy: 0.8290 - auc: 0.9076 - loss: 0.5299 - precision: 0.8029 - recall: 0.8662 - val_accuracy: 0.9312 - val_auc: 0.9844 - val_loss: 0.2042 - val_precision: 0.8995 - val_recall: 0.9710\n",
            "Epoch 2/100\n",
            "\u001b[1m497/500\u001b[0m \u001b[32m━━━━━━━━━━━━━━━━━━━\u001b[0m\u001b[37m━\u001b[0m \u001b[1m0s\u001b[0m 12ms/step - accuracy: 0.9187 - auc: 0.9754 - loss: 0.2771 - precision: 0.8901 - recall: 0.9547"
          ]
        },
        {
          "output_type": "stream",
          "name": "stderr",
          "text": [
            "WARNING:absl:You are saving your model as an HDF5 file via `model.save()` or `keras.saving.save_model(model)`. This file format is considered legacy. We recommend using instead the native Keras format, e.g. `model.save('my_model.keras')` or `keras.saving.save_model(model, 'my_model.keras')`. \n"
          ]
        },
        {
          "output_type": "stream",
          "name": "stdout",
          "text": [
            "\b\b\b\b\b\b\b\b\b\b\b\b\b\b\b\b\b\b\b\b\b\b\b\b\b\b\b\b\b\b\b\b\b\b\b\b\b\b\b\b\b\b\b\b\b\b\b\b\b\b\b\b\b\b\b\b\b\b\b\b\b\b\b\b\b\b\b\b\b\b\b\b\b\b\b\b\b\b\b\b\b\b\b\b\b\b\b\b\b\b\b\b\b\b\b\b\b\b\b\b\b\b\b\b\b\b\b\b\b\b\b\b\b\b\b\b\b\b\b\b\b\b\b\b\b\b\r\u001b[1m500/500\u001b[0m \u001b[32m━━━━━━━━━━━━━━━━━━━━\u001b[0m\u001b[37m\u001b[0m \u001b[1m7s\u001b[0m 14ms/step - accuracy: 0.9187 - auc: 0.9754 - loss: 0.2770 - precision: 0.8902 - recall: 0.9547 - val_accuracy: 0.9426 - val_auc: 0.9879 - val_loss: 0.1529 - val_precision: 0.9177 - val_recall: 0.9725\n",
            "Epoch 3/100\n",
            "\u001b[1m499/500\u001b[0m \u001b[32m━━━━━━━━━━━━━━━━━━━\u001b[0m\u001b[37m━\u001b[0m \u001b[1m0s\u001b[0m 12ms/step - accuracy: 0.9290 - auc: 0.9802 - loss: 0.2450 - precision: 0.9059 - recall: 0.9590"
          ]
        },
        {
          "output_type": "stream",
          "name": "stderr",
          "text": [
            "WARNING:absl:You are saving your model as an HDF5 file via `model.save()` or `keras.saving.save_model(model)`. This file format is considered legacy. We recommend using instead the native Keras format, e.g. `model.save('my_model.keras')` or `keras.saving.save_model(model, 'my_model.keras')`. \n"
          ]
        },
        {
          "output_type": "stream",
          "name": "stdout",
          "text": [
            "\b\b\b\b\b\b\b\b\b\b\b\b\b\b\b\b\b\b\b\b\b\b\b\b\b\b\b\b\b\b\b\b\b\b\b\b\b\b\b\b\b\b\b\b\b\b\b\b\b\b\b\b\b\b\b\b\b\b\b\b\b\b\b\b\b\b\b\b\b\b\b\b\b\b\b\b\b\b\b\b\b\b\b\b\b\b\b\b\b\b\b\b\b\b\b\b\b\b\b\b\b\b\b\b\b\b\b\b\b\b\b\b\b\b\b\b\b\b\b\b\b\b\b\b\b\b\r\u001b[1m500/500\u001b[0m \u001b[32m━━━━━━━━━━━━━━━━━━━━\u001b[0m\u001b[37m\u001b[0m \u001b[1m10s\u001b[0m 13ms/step - accuracy: 0.9290 - auc: 0.9802 - loss: 0.2450 - precision: 0.9059 - recall: 0.9590 - val_accuracy: 0.9519 - val_auc: 0.9903 - val_loss: 0.1252 - val_precision: 0.9460 - val_recall: 0.9585\n",
            "Epoch 4/100\n",
            "\u001b[1m500/500\u001b[0m \u001b[32m━━━━━━━━━━━━━━━━━━━━\u001b[0m\u001b[37m\u001b[0m \u001b[1m6s\u001b[0m 11ms/step - accuracy: 0.9330 - auc: 0.9830 - loss: 0.2278 - precision: 0.9093 - recall: 0.9609 - val_accuracy: 0.9462 - val_auc: 0.9914 - val_loss: 0.1347 - val_precision: 0.9214 - val_recall: 0.9758\n",
            "Epoch 5/100\n",
            "\u001b[1m500/500\u001b[0m \u001b[32m━━━━━━━━━━━━━━━━━━━━\u001b[0m\u001b[37m\u001b[0m \u001b[1m10s\u001b[0m 11ms/step - accuracy: 0.9419 - auc: 0.9863 - loss: 0.2056 - precision: 0.9233 - recall: 0.9644 - val_accuracy: 0.9489 - val_auc: 0.9927 - val_loss: 0.1274 - val_precision: 0.9228 - val_recall: 0.9797\n",
            "Epoch 6/100\n",
            "\u001b[1m498/500\u001b[0m \u001b[32m━━━━━━━━━━━━━━━━━━━\u001b[0m\u001b[37m━\u001b[0m \u001b[1m0s\u001b[0m 10ms/step - accuracy: 0.9406 - auc: 0.9871 - loss: 0.1997 - precision: 0.9217 - recall: 0.9639"
          ]
        },
        {
          "output_type": "stream",
          "name": "stderr",
          "text": [
            "WARNING:absl:You are saving your model as an HDF5 file via `model.save()` or `keras.saving.save_model(model)`. This file format is considered legacy. We recommend using instead the native Keras format, e.g. `model.save('my_model.keras')` or `keras.saving.save_model(model, 'my_model.keras')`. \n"
          ]
        },
        {
          "output_type": "stream",
          "name": "stdout",
          "text": [
            "\b\b\b\b\b\b\b\b\b\b\b\b\b\b\b\b\b\b\b\b\b\b\b\b\b\b\b\b\b\b\b\b\b\b\b\b\b\b\b\b\b\b\b\b\b\b\b\b\b\b\b\b\b\b\b\b\b\b\b\b\b\b\b\b\b\b\b\b\b\b\b\b\b\b\b\b\b\b\b\b\b\b\b\b\b\b\b\b\b\b\b\b\b\b\b\b\b\b\b\b\b\b\b\b\b\b\b\b\b\b\b\b\b\b\b\b\b\b\b\b\b\b\b\b\b\b\r\u001b[1m500/500\u001b[0m \u001b[32m━━━━━━━━━━━━━━━━━━━━\u001b[0m\u001b[37m\u001b[0m \u001b[1m7s\u001b[0m 13ms/step - accuracy: 0.9406 - auc: 0.9871 - loss: 0.1997 - precision: 0.9217 - recall: 0.9639 - val_accuracy: 0.9596 - val_auc: 0.9935 - val_loss: 0.1038 - val_precision: 0.9483 - val_recall: 0.9722\n",
            "Epoch 7/100\n",
            "\u001b[1m496/500\u001b[0m \u001b[32m━━━━━━━━━━━━━━━━━━━\u001b[0m\u001b[37m━\u001b[0m \u001b[1m0s\u001b[0m 10ms/step - accuracy: 0.9462 - auc: 0.9890 - loss: 0.1832 - precision: 0.9282 - recall: 0.9674"
          ]
        },
        {
          "output_type": "stream",
          "name": "stderr",
          "text": [
            "WARNING:absl:You are saving your model as an HDF5 file via `model.save()` or `keras.saving.save_model(model)`. This file format is considered legacy. We recommend using instead the native Keras format, e.g. `model.save('my_model.keras')` or `keras.saving.save_model(model, 'my_model.keras')`. \n"
          ]
        },
        {
          "output_type": "stream",
          "name": "stdout",
          "text": [
            "\b\b\b\b\b\b\b\b\b\b\b\b\b\b\b\b\b\b\b\b\b\b\b\b\b\b\b\b\b\b\b\b\b\b\b\b\b\b\b\b\b\b\b\b\b\b\b\b\b\b\b\b\b\b\b\b\b\b\b\b\b\b\b\b\b\b\b\b\b\b\b\b\b\b\b\b\b\b\b\b\b\b\b\b\b\b\b\b\b\b\b\b\b\b\b\b\b\b\b\b\b\b\b\b\b\b\b\b\b\b\b\b\b\b\b\b\b\b\b\b\b\b\b\b\b\b\r\u001b[1m500/500\u001b[0m \u001b[32m━━━━━━━━━━━━━━━━━━━━\u001b[0m\u001b[37m\u001b[0m \u001b[1m9s\u001b[0m 11ms/step - accuracy: 0.9462 - auc: 0.9890 - loss: 0.1832 - precision: 0.9282 - recall: 0.9675 - val_accuracy: 0.9622 - val_auc: 0.9947 - val_loss: 0.0999 - val_precision: 0.9475 - val_recall: 0.9787\n",
            "Epoch 8/100\n",
            "\u001b[1m497/500\u001b[0m \u001b[32m━━━━━━━━━━━━━━━━━━━\u001b[0m\u001b[37m━\u001b[0m \u001b[1m0s\u001b[0m 10ms/step - accuracy: 0.9514 - auc: 0.9900 - loss: 0.1707 - precision: 0.9346 - recall: 0.9704"
          ]
        },
        {
          "output_type": "stream",
          "name": "stderr",
          "text": [
            "WARNING:absl:You are saving your model as an HDF5 file via `model.save()` or `keras.saving.save_model(model)`. This file format is considered legacy. We recommend using instead the native Keras format, e.g. `model.save('my_model.keras')` or `keras.saving.save_model(model, 'my_model.keras')`. \n"
          ]
        },
        {
          "output_type": "stream",
          "name": "stdout",
          "text": [
            "\b\b\b\b\b\b\b\b\b\b\b\b\b\b\b\b\b\b\b\b\b\b\b\b\b\b\b\b\b\b\b\b\b\b\b\b\b\b\b\b\b\b\b\b\b\b\b\b\b\b\b\b\b\b\b\b\b\b\b\b\b\b\b\b\b\b\b\b\b\b\b\b\b\b\b\b\b\b\b\b\b\b\b\b\b\b\b\b\b\b\b\b\b\b\b\b\b\b\b\b\b\b\b\b\b\b\b\b\b\b\b\b\b\b\b\b\b\b\b\b\b\b\b\b\b\b\r\u001b[1m500/500\u001b[0m \u001b[32m━━━━━━━━━━━━━━━━━━━━\u001b[0m\u001b[37m\u001b[0m \u001b[1m10s\u001b[0m 11ms/step - accuracy: 0.9514 - auc: 0.9900 - loss: 0.1708 - precision: 0.9346 - recall: 0.9704 - val_accuracy: 0.9599 - val_auc: 0.9953 - val_loss: 0.0993 - val_precision: 0.9414 - val_recall: 0.9808\n",
            "Epoch 9/100\n",
            "\u001b[1m496/500\u001b[0m \u001b[32m━━━━━━━━━━━━━━━━━━━\u001b[0m\u001b[37m━\u001b[0m \u001b[1m0s\u001b[0m 10ms/step - accuracy: 0.9523 - auc: 0.9912 - loss: 0.1604 - precision: 0.9330 - recall: 0.9739"
          ]
        },
        {
          "output_type": "stream",
          "name": "stderr",
          "text": [
            "WARNING:absl:You are saving your model as an HDF5 file via `model.save()` or `keras.saving.save_model(model)`. This file format is considered legacy. We recommend using instead the native Keras format, e.g. `model.save('my_model.keras')` or `keras.saving.save_model(model, 'my_model.keras')`. \n"
          ]
        },
        {
          "output_type": "stream",
          "name": "stdout",
          "text": [
            "\b\b\b\b\b\b\b\b\b\b\b\b\b\b\b\b\b\b\b\b\b\b\b\b\b\b\b\b\b\b\b\b\b\b\b\b\b\b\b\b\b\b\b\b\b\b\b\b\b\b\b\b\b\b\b\b\b\b\b\b\b\b\b\b\b\b\b\b\b\b\b\b\b\b\b\b\b\b\b\b\b\b\b\b\b\b\b\b\b\b\b\b\b\b\b\b\b\b\b\b\b\b\b\b\b\b\b\b\b\b\b\b\b\b\b\b\b\b\b\b\b\b\b\b\b\b\r\u001b[1m500/500\u001b[0m \u001b[32m━━━━━━━━━━━━━━━━━━━━\u001b[0m\u001b[37m\u001b[0m \u001b[1m10s\u001b[0m 11ms/step - accuracy: 0.9523 - auc: 0.9912 - loss: 0.1604 - precision: 0.9330 - recall: 0.9739 - val_accuracy: 0.9639 - val_auc: 0.9955 - val_loss: 0.0931 - val_precision: 0.9464 - val_recall: 0.9835\n",
            "Epoch 10/100\n",
            "\u001b[1m498/500\u001b[0m \u001b[32m━━━━━━━━━━━━━━━━━━━\u001b[0m\u001b[37m━\u001b[0m \u001b[1m0s\u001b[0m 10ms/step - accuracy: 0.9533 - auc: 0.9915 - loss: 0.1580 - precision: 0.9350 - recall: 0.9739"
          ]
        },
        {
          "output_type": "stream",
          "name": "stderr",
          "text": [
            "WARNING:absl:You are saving your model as an HDF5 file via `model.save()` or `keras.saving.save_model(model)`. This file format is considered legacy. We recommend using instead the native Keras format, e.g. `model.save('my_model.keras')` or `keras.saving.save_model(model, 'my_model.keras')`. \n"
          ]
        },
        {
          "output_type": "stream",
          "name": "stdout",
          "text": [
            "\b\b\b\b\b\b\b\b\b\b\b\b\b\b\b\b\b\b\b\b\b\b\b\b\b\b\b\b\b\b\b\b\b\b\b\b\b\b\b\b\b\b\b\b\b\b\b\b\b\b\b\b\b\b\b\b\b\b\b\b\b\b\b\b\b\b\b\b\b\b\b\b\b\b\b\b\b\b\b\b\b\b\b\b\b\b\b\b\b\b\b\b\b\b\b\b\b\b\b\b\b\b\b\b\b\b\b\b\b\b\b\b\b\b\b\b\b\b\b\b\b\b\b\b\b\b\r\u001b[1m500/500\u001b[0m \u001b[32m━━━━━━━━━━━━━━━━━━━━\u001b[0m\u001b[37m\u001b[0m \u001b[1m7s\u001b[0m 13ms/step - accuracy: 0.9533 - auc: 0.9915 - loss: 0.1580 - precision: 0.9350 - recall: 0.9739 - val_accuracy: 0.9665 - val_auc: 0.9959 - val_loss: 0.0866 - val_precision: 0.9545 - val_recall: 0.9797\n",
            "Epoch 11/100\n",
            "\u001b[1m500/500\u001b[0m \u001b[32m━━━━━━━━━━━━━━━━━━━━\u001b[0m\u001b[37m\u001b[0m \u001b[1m6s\u001b[0m 11ms/step - accuracy: 0.9585 - auc: 0.9926 - loss: 0.1474 - precision: 0.9426 - recall: 0.9762 - val_accuracy: 0.9459 - val_auc: 0.9947 - val_loss: 0.1443 - val_precision: 0.9084 - val_recall: 0.9918\n",
            "Epoch 12/100\n",
            "\u001b[1m498/500\u001b[0m \u001b[32m━━━━━━━━━━━━━━━━━━━\u001b[0m\u001b[37m━\u001b[0m \u001b[1m0s\u001b[0m 12ms/step - accuracy: 0.9604 - auc: 0.9929 - loss: 0.1417 - precision: 0.9460 - recall: 0.9764"
          ]
        },
        {
          "output_type": "stream",
          "name": "stderr",
          "text": [
            "WARNING:absl:You are saving your model as an HDF5 file via `model.save()` or `keras.saving.save_model(model)`. This file format is considered legacy. We recommend using instead the native Keras format, e.g. `model.save('my_model.keras')` or `keras.saving.save_model(model, 'my_model.keras')`. \n"
          ]
        },
        {
          "output_type": "stream",
          "name": "stdout",
          "text": [
            "\b\b\b\b\b\b\b\b\b\b\b\b\b\b\b\b\b\b\b\b\b\b\b\b\b\b\b\b\b\b\b\b\b\b\b\b\b\b\b\b\b\b\b\b\b\b\b\b\b\b\b\b\b\b\b\b\b\b\b\b\b\b\b\b\b\b\b\b\b\b\b\b\b\b\b\b\b\b\b\b\b\b\b\b\b\b\b\b\b\b\b\b\b\b\b\b\b\b\b\b\b\b\b\b\b\b\b\b\b\b\b\b\b\b\b\b\b\b\b\b\b\b\b\b\b\b\r\u001b[1m500/500\u001b[0m \u001b[32m━━━━━━━━━━━━━━━━━━━━\u001b[0m\u001b[37m\u001b[0m \u001b[1m11s\u001b[0m 14ms/step - accuracy: 0.9604 - auc: 0.9929 - loss: 0.1417 - precision: 0.9460 - recall: 0.9764 - val_accuracy: 0.9692 - val_auc: 0.9963 - val_loss: 0.0787 - val_precision: 0.9578 - val_recall: 0.9818\n",
            "Epoch 13/100\n",
            "\u001b[1m500/500\u001b[0m \u001b[32m━━━━━━━━━━━━━━━━━━━━\u001b[0m\u001b[37m\u001b[0m \u001b[1m0s\u001b[0m 11ms/step - accuracy: 0.9598 - auc: 0.9928 - loss: 0.1413 - precision: 0.9455 - recall: 0.9756"
          ]
        },
        {
          "output_type": "stream",
          "name": "stderr",
          "text": [
            "WARNING:absl:You are saving your model as an HDF5 file via `model.save()` or `keras.saving.save_model(model)`. This file format is considered legacy. We recommend using instead the native Keras format, e.g. `model.save('my_model.keras')` or `keras.saving.save_model(model, 'my_model.keras')`. \n"
          ]
        },
        {
          "output_type": "stream",
          "name": "stdout",
          "text": [
            "\b\b\b\b\b\b\b\b\b\b\b\b\b\b\b\b\b\b\b\b\b\b\b\b\b\b\b\b\b\b\b\b\b\b\b\b\b\b\b\b\b\b\b\b\b\b\b\b\b\b\b\b\b\b\b\b\b\b\b\b\b\b\b\b\b\b\b\b\b\b\b\b\b\b\b\b\b\b\b\b\b\b\b\b\b\b\b\b\b\b\b\b\b\b\b\b\b\b\b\b\b\b\b\b\b\b\b\b\b\b\b\b\b\b\b\b\b\b\b\b\b\b\b\b\b\b\r\u001b[1m500/500\u001b[0m \u001b[32m━━━━━━━━━━━━━━━━━━━━\u001b[0m\u001b[37m\u001b[0m \u001b[1m11s\u001b[0m 14ms/step - accuracy: 0.9598 - auc: 0.9928 - loss: 0.1413 - precision: 0.9455 - recall: 0.9756 - val_accuracy: 0.9727 - val_auc: 0.9968 - val_loss: 0.0700 - val_precision: 0.9676 - val_recall: 0.9783\n",
            "Epoch 14/100\n",
            "\u001b[1m496/500\u001b[0m \u001b[32m━━━━━━━━━━━━━━━━━━━\u001b[0m\u001b[37m━\u001b[0m \u001b[1m0s\u001b[0m 10ms/step - accuracy: 0.9607 - auc: 0.9930 - loss: 0.1387 - precision: 0.9459 - recall: 0.9774"
          ]
        },
        {
          "output_type": "stream",
          "name": "stderr",
          "text": [
            "WARNING:absl:You are saving your model as an HDF5 file via `model.save()` or `keras.saving.save_model(model)`. This file format is considered legacy. We recommend using instead the native Keras format, e.g. `model.save('my_model.keras')` or `keras.saving.save_model(model, 'my_model.keras')`. \n"
          ]
        },
        {
          "output_type": "stream",
          "name": "stdout",
          "text": [
            "\b\b\b\b\b\b\b\b\b\b\b\b\b\b\b\b\b\b\b\b\b\b\b\b\b\b\b\b\b\b\b\b\b\b\b\b\b\b\b\b\b\b\b\b\b\b\b\b\b\b\b\b\b\b\b\b\b\b\b\b\b\b\b\b\b\b\b\b\b\b\b\b\b\b\b\b\b\b\b\b\b\b\b\b\b\b\b\b\b\b\b\b\b\b\b\b\b\b\b\b\b\b\b\b\b\b\b\b\b\b\b\b\b\b\b\b\b\b\b\b\b\b\b\b\b\b\r\u001b[1m500/500\u001b[0m \u001b[32m━━━━━━━━━━━━━━━━━━━━\u001b[0m\u001b[37m\u001b[0m \u001b[1m6s\u001b[0m 11ms/step - accuracy: 0.9607 - auc: 0.9930 - loss: 0.1387 - precision: 0.9459 - recall: 0.9774 - val_accuracy: 0.9742 - val_auc: 0.9972 - val_loss: 0.0664 - val_precision: 0.9707 - val_recall: 0.9780\n",
            "Epoch 15/100\n",
            "\u001b[1m500/500\u001b[0m \u001b[32m━━━━━━━━━━━━━━━━━━━━\u001b[0m\u001b[37m\u001b[0m \u001b[1m11s\u001b[0m 12ms/step - accuracy: 0.9652 - auc: 0.9947 - loss: 0.1225 - precision: 0.9537 - recall: 0.9779 - val_accuracy: 0.9751 - val_auc: 0.9973 - val_loss: 0.0672 - val_precision: 0.9691 - val_recall: 0.9815\n",
            "Epoch 16/100\n",
            "\u001b[1m500/500\u001b[0m \u001b[32m━━━━━━━━━━━━━━━━━━━━\u001b[0m\u001b[37m\u001b[0m \u001b[1m11s\u001b[0m 13ms/step - accuracy: 0.9638 - auc: 0.9941 - loss: 0.1273 - precision: 0.9504 - recall: 0.9789 - val_accuracy: 0.9755 - val_auc: 0.9971 - val_loss: 0.0673 - val_precision: 0.9666 - val_recall: 0.9850\n",
            "Epoch 17/100\n",
            "\u001b[1m500/500\u001b[0m \u001b[32m━━━━━━━━━━━━━━━━━━━━\u001b[0m\u001b[37m\u001b[0m \u001b[1m10s\u001b[0m 14ms/step - accuracy: 0.9665 - auc: 0.9948 - loss: 0.1180 - precision: 0.9542 - recall: 0.9803 - val_accuracy: 0.9737 - val_auc: 0.9971 - val_loss: 0.0732 - val_precision: 0.9608 - val_recall: 0.9877\n",
            "Epoch 18/100\n",
            "\u001b[1m495/500\u001b[0m \u001b[32m━━━━━━━━━━━━━━━━━━━\u001b[0m\u001b[37m━\u001b[0m \u001b[1m0s\u001b[0m 10ms/step - accuracy: 0.9670 - auc: 0.9944 - loss: 0.1191 - precision: 0.9525 - recall: 0.9818"
          ]
        },
        {
          "output_type": "stream",
          "name": "stderr",
          "text": [
            "WARNING:absl:You are saving your model as an HDF5 file via `model.save()` or `keras.saving.save_model(model)`. This file format is considered legacy. We recommend using instead the native Keras format, e.g. `model.save('my_model.keras')` or `keras.saving.save_model(model, 'my_model.keras')`. \n"
          ]
        },
        {
          "output_type": "stream",
          "name": "stdout",
          "text": [
            "\b\b\b\b\b\b\b\b\b\b\b\b\b\b\b\b\b\b\b\b\b\b\b\b\b\b\b\b\b\b\b\b\b\b\b\b\b\b\b\b\b\b\b\b\b\b\b\b\b\b\b\b\b\b\b\b\b\b\b\b\b\b\b\b\b\b\b\b\b\b\b\b\b\b\b\b\b\b\b\b\b\b\b\b\b\b\b\b\b\b\b\b\b\b\b\b\b\b\b\b\b\b\b\b\b\b\b\b\b\b\b\b\b\b\b\b\b\b\b\b\b\b\b\b\b\b\r\u001b[1m500/500\u001b[0m \u001b[32m━━━━━━━━━━━━━━━━━━━━\u001b[0m\u001b[37m\u001b[0m \u001b[1m6s\u001b[0m 12ms/step - accuracy: 0.9670 - auc: 0.9944 - loss: 0.1190 - precision: 0.9525 - recall: 0.9818 - val_accuracy: 0.9776 - val_auc: 0.9975 - val_loss: 0.0638 - val_precision: 0.9702 - val_recall: 0.9855\n",
            "Epoch 19/100\n",
            "\u001b[1m495/500\u001b[0m \u001b[32m━━━━━━━━━━━━━━━━━━━\u001b[0m\u001b[37m━\u001b[0m \u001b[1m0s\u001b[0m 12ms/step - accuracy: 0.9712 - auc: 0.9964 - loss: 0.1010 - precision: 0.9595 - recall: 0.9839"
          ]
        },
        {
          "output_type": "stream",
          "name": "stderr",
          "text": [
            "WARNING:absl:You are saving your model as an HDF5 file via `model.save()` or `keras.saving.save_model(model)`. This file format is considered legacy. We recommend using instead the native Keras format, e.g. `model.save('my_model.keras')` or `keras.saving.save_model(model, 'my_model.keras')`. \n"
          ]
        },
        {
          "output_type": "stream",
          "name": "stdout",
          "text": [
            "\b\b\b\b\b\b\b\b\b\b\b\b\b\b\b\b\b\b\b\b\b\b\b\b\b\b\b\b\b\b\b\b\b\b\b\b\b\b\b\b\b\b\b\b\b\b\b\b\b\b\b\b\b\b\b\b\b\b\b\b\b\b\b\b\b\b\b\b\b\b\b\b\b\b\b\b\b\b\b\b\b\b\b\b\b\b\b\b\b\b\b\b\b\b\b\b\b\b\b\b\b\b\b\b\b\b\b\b\b\b\b\b\b\b\b\b\b\b\b\b\b\b\b\b\b\b\r\u001b[1m500/500\u001b[0m \u001b[32m━━━━━━━━━━━━━━━━━━━━\u001b[0m\u001b[37m\u001b[0m \u001b[1m11s\u001b[0m 13ms/step - accuracy: 0.9712 - auc: 0.9964 - loss: 0.1010 - precision: 0.9595 - recall: 0.9839 - val_accuracy: 0.9791 - val_auc: 0.9976 - val_loss: 0.0591 - val_precision: 0.9764 - val_recall: 0.9820\n",
            "Epoch 20/100\n",
            "\u001b[1m500/500\u001b[0m \u001b[32m━━━━━━━━━━━━━━━━━━━━\u001b[0m\u001b[37m\u001b[0m \u001b[1m6s\u001b[0m 11ms/step - accuracy: 0.9698 - auc: 0.9950 - loss: 0.1120 - precision: 0.9584 - recall: 0.9826 - val_accuracy: 0.9796 - val_auc: 0.9977 - val_loss: 0.0601 - val_precision: 0.9724 - val_recall: 0.9872\n",
            "Epoch 21/100\n",
            "\u001b[1m500/500\u001b[0m \u001b[32m━━━━━━━━━━━━━━━━━━━━\u001b[0m\u001b[37m\u001b[0m \u001b[1m10s\u001b[0m 11ms/step - accuracy: 0.9697 - auc: 0.9954 - loss: 0.1122 - precision: 0.9592 - recall: 0.9814 - val_accuracy: 0.9771 - val_auc: 0.9977 - val_loss: 0.0628 - val_precision: 0.9865 - val_recall: 0.9675\n",
            "Epoch 22/100\n",
            "\u001b[1m497/500\u001b[0m \u001b[32m━━━━━━━━━━━━━━━━━━━\u001b[0m\u001b[37m━\u001b[0m \u001b[1m0s\u001b[0m 10ms/step - accuracy: 0.9721 - auc: 0.9962 - loss: 0.1007 - precision: 0.9605 - recall: 0.9851"
          ]
        },
        {
          "output_type": "stream",
          "name": "stderr",
          "text": [
            "WARNING:absl:You are saving your model as an HDF5 file via `model.save()` or `keras.saving.save_model(model)`. This file format is considered legacy. We recommend using instead the native Keras format, e.g. `model.save('my_model.keras')` or `keras.saving.save_model(model, 'my_model.keras')`. \n"
          ]
        },
        {
          "output_type": "stream",
          "name": "stdout",
          "text": [
            "\b\b\b\b\b\b\b\b\b\b\b\b\b\b\b\b\b\b\b\b\b\b\b\b\b\b\b\b\b\b\b\b\b\b\b\b\b\b\b\b\b\b\b\b\b\b\b\b\b\b\b\b\b\b\b\b\b\b\b\b\b\b\b\b\b\b\b\b\b\b\b\b\b\b\b\b\b\b\b\b\b\b\b\b\b\b\b\b\b\b\b\b\b\b\b\b\b\b\b\b\b\b\b\b\b\b\b\b\b\b\b\b\b\b\b\b\b\b\b\b\b\b\b\b\b\b\r\u001b[1m500/500\u001b[0m \u001b[32m━━━━━━━━━━━━━━━━━━━━\u001b[0m\u001b[37m\u001b[0m \u001b[1m11s\u001b[0m 11ms/step - accuracy: 0.9721 - auc: 0.9962 - loss: 0.1007 - precision: 0.9604 - recall: 0.9851 - val_accuracy: 0.9799 - val_auc: 0.9976 - val_loss: 0.0556 - val_precision: 0.9741 - val_recall: 0.9860\n",
            "Epoch 23/100\n",
            "\u001b[1m498/500\u001b[0m \u001b[32m━━━━━━━━━━━━━━━━━━━\u001b[0m\u001b[37m━\u001b[0m \u001b[1m0s\u001b[0m 12ms/step - accuracy: 0.9728 - auc: 0.9965 - loss: 0.0962 - precision: 0.9622 - recall: 0.9842"
          ]
        },
        {
          "output_type": "stream",
          "name": "stderr",
          "text": [
            "WARNING:absl:You are saving your model as an HDF5 file via `model.save()` or `keras.saving.save_model(model)`. This file format is considered legacy. We recommend using instead the native Keras format, e.g. `model.save('my_model.keras')` or `keras.saving.save_model(model, 'my_model.keras')`. \n"
          ]
        },
        {
          "output_type": "stream",
          "name": "stdout",
          "text": [
            "\b\b\b\b\b\b\b\b\b\b\b\b\b\b\b\b\b\b\b\b\b\b\b\b\b\b\b\b\b\b\b\b\b\b\b\b\b\b\b\b\b\b\b\b\b\b\b\b\b\b\b\b\b\b\b\b\b\b\b\b\b\b\b\b\b\b\b\b\b\b\b\b\b\b\b\b\b\b\b\b\b\b\b\b\b\b\b\b\b\b\b\b\b\b\b\b\b\b\b\b\b\b\b\b\b\b\b\b\b\b\b\b\b\b\b\b\b\b\b\b\b\b\b\b\b\b\r\u001b[1m500/500\u001b[0m \u001b[32m━━━━━━━━━━━━━━━━━━━━\u001b[0m\u001b[37m\u001b[0m \u001b[1m11s\u001b[0m 13ms/step - accuracy: 0.9728 - auc: 0.9965 - loss: 0.0962 - precision: 0.9622 - recall: 0.9842 - val_accuracy: 0.9809 - val_auc: 0.9979 - val_loss: 0.0554 - val_precision: 0.9744 - val_recall: 0.9877\n",
            "Epoch 24/100\n",
            "\u001b[1m500/500\u001b[0m \u001b[32m━━━━━━━━━━━━━━━━━━━━\u001b[0m\u001b[37m\u001b[0m \u001b[1m11s\u001b[0m 14ms/step - accuracy: 0.9735 - auc: 0.9962 - loss: 0.0988 - precision: 0.9632 - recall: 0.9847 - val_accuracy: 0.9786 - val_auc: 0.9978 - val_loss: 0.0621 - val_precision: 0.9668 - val_recall: 0.9912\n",
            "Epoch 25/100\n",
            "\u001b[1m500/500\u001b[0m \u001b[32m━━━━━━━━━━━━━━━━━━━━\u001b[0m\u001b[37m\u001b[0m \u001b[1m9s\u001b[0m 11ms/step - accuracy: 0.9746 - auc: 0.9963 - loss: 0.0959 - precision: 0.9645 - recall: 0.9851 - val_accuracy: 0.9721 - val_auc: 0.9969 - val_loss: 0.0763 - val_precision: 0.9536 - val_recall: 0.9925\n",
            "Epoch 26/100\n",
            "\u001b[1m500/500\u001b[0m \u001b[32m━━━━━━━━━━━━━━━━━━━━\u001b[0m\u001b[37m\u001b[0m \u001b[1m7s\u001b[0m 13ms/step - accuracy: 0.9748 - auc: 0.9965 - loss: 0.0913 - precision: 0.9646 - recall: 0.9857 - val_accuracy: 0.9761 - val_auc: 0.9976 - val_loss: 0.0675 - val_precision: 0.9610 - val_recall: 0.9925\n",
            "Epoch 27/100\n",
            "\u001b[1m500/500\u001b[0m \u001b[32m━━━━━━━━━━━━━━━━━━━━\u001b[0m\u001b[37m\u001b[0m \u001b[1m6s\u001b[0m 11ms/step - accuracy: 0.9762 - auc: 0.9972 - loss: 0.0869 - precision: 0.9675 - recall: 0.9853 - val_accuracy: 0.9731 - val_auc: 0.9971 - val_loss: 0.0757 - val_precision: 0.9561 - val_recall: 0.9918\n",
            "Epoch 28/100\n",
            "\u001b[1m500/500\u001b[0m \u001b[32m━━━━━━━━━━━━━━━━━━━━\u001b[0m\u001b[37m\u001b[0m \u001b[1m10s\u001b[0m 11ms/step - accuracy: 0.9759 - auc: 0.9965 - loss: 0.0916 - precision: 0.9680 - recall: 0.9844 - val_accuracy: 0.9786 - val_auc: 0.9978 - val_loss: 0.0594 - val_precision: 0.9671 - val_recall: 0.9910\n",
            "Epoch 29/100\n",
            "\u001b[1m496/500\u001b[0m \u001b[32m━━━━━━━━━━━━━━━━━━━\u001b[0m\u001b[37m━\u001b[0m \u001b[1m0s\u001b[0m 11ms/step - accuracy: 0.9771 - auc: 0.9965 - loss: 0.0871 - precision: 0.9677 - recall: 0.9870"
          ]
        },
        {
          "output_type": "stream",
          "name": "stderr",
          "text": [
            "WARNING:absl:You are saving your model as an HDF5 file via `model.save()` or `keras.saving.save_model(model)`. This file format is considered legacy. We recommend using instead the native Keras format, e.g. `model.save('my_model.keras')` or `keras.saving.save_model(model, 'my_model.keras')`. \n"
          ]
        },
        {
          "output_type": "stream",
          "name": "stdout",
          "text": [
            "\b\b\b\b\b\b\b\b\b\b\b\b\b\b\b\b\b\b\b\b\b\b\b\b\b\b\b\b\b\b\b\b\b\b\b\b\b\b\b\b\b\b\b\b\b\b\b\b\b\b\b\b\b\b\b\b\b\b\b\b\b\b\b\b\b\b\b\b\b\b\b\b\b\b\b\b\b\b\b\b\b\b\b\b\b\b\b\b\b\b\b\b\b\b\b\b\b\b\b\b\b\b\b\b\b\b\b\b\b\b\b\b\b\b\b\b\b\b\b\b\b\b\b\b\b\b\r\u001b[1m500/500\u001b[0m \u001b[32m━━━━━━━━━━━━━━━━━━━━\u001b[0m\u001b[37m\u001b[0m \u001b[1m11s\u001b[0m 12ms/step - accuracy: 0.9772 - auc: 0.9965 - loss: 0.0871 - precision: 0.9677 - recall: 0.9870 - val_accuracy: 0.9829 - val_auc: 0.9984 - val_loss: 0.0485 - val_precision: 0.9830 - val_recall: 0.9827\n",
            "Epoch 30/100\n",
            "\u001b[1m500/500\u001b[0m \u001b[32m━━━━━━━━━━━━━━━━━━━━\u001b[0m\u001b[37m\u001b[0m \u001b[1m6s\u001b[0m 11ms/step - accuracy: 0.9779 - auc: 0.9970 - loss: 0.0831 - precision: 0.9697 - recall: 0.9868 - val_accuracy: 0.9834 - val_auc: 0.9983 - val_loss: 0.0508 - val_precision: 0.9766 - val_recall: 0.9905\n",
            "Epoch 31/100\n",
            "\u001b[1m500/500\u001b[0m \u001b[32m━━━━━━━━━━━━━━━━━━━━\u001b[0m\u001b[37m\u001b[0m \u001b[1m10s\u001b[0m 11ms/step - accuracy: 0.9774 - auc: 0.9972 - loss: 0.0811 - precision: 0.9690 - recall: 0.9866 - val_accuracy: 0.9821 - val_auc: 0.9984 - val_loss: 0.0492 - val_precision: 0.9763 - val_recall: 0.9883\n",
            "Epoch 32/100\n",
            "\u001b[1m500/500\u001b[0m \u001b[32m━━━━━━━━━━━━━━━━━━━━\u001b[0m\u001b[37m\u001b[0m \u001b[1m11s\u001b[0m 12ms/step - accuracy: 0.9786 - auc: 0.9974 - loss: 0.0799 - precision: 0.9697 - recall: 0.9880 - val_accuracy: 0.9821 - val_auc: 0.9983 - val_loss: 0.0492 - val_precision: 0.9871 - val_recall: 0.9770\n",
            "Epoch 33/100\n",
            "\u001b[1m500/500\u001b[0m \u001b[32m━━━━━━━━━━━━━━━━━━━━\u001b[0m\u001b[37m\u001b[0m \u001b[1m7s\u001b[0m 14ms/step - accuracy: 0.9795 - auc: 0.9970 - loss: 0.0795 - precision: 0.9720 - recall: 0.9872 - val_accuracy: 0.9831 - val_auc: 0.9981 - val_loss: 0.0487 - val_precision: 0.9768 - val_recall: 0.9898\n",
            "Epoch 34/100\n",
            "\u001b[1m500/500\u001b[0m \u001b[32m━━━━━━━━━━━━━━━━━━━━\u001b[0m\u001b[37m\u001b[0m \u001b[1m9s\u001b[0m 11ms/step - accuracy: 0.9783 - auc: 0.9974 - loss: 0.0789 - precision: 0.9698 - recall: 0.9873 - val_accuracy: 0.9821 - val_auc: 0.9982 - val_loss: 0.0501 - val_precision: 0.9739 - val_recall: 0.9908\n",
            "Epoch 35/100\n",
            "\u001b[1m500/500\u001b[0m \u001b[32m━━━━━━━━━━━━━━━━━━━━\u001b[0m\u001b[37m\u001b[0m \u001b[1m0s\u001b[0m 12ms/step - accuracy: 0.9785 - auc: 0.9975 - loss: 0.0763 - precision: 0.9692 - recall: 0.9883"
          ]
        },
        {
          "output_type": "stream",
          "name": "stderr",
          "text": [
            "WARNING:absl:You are saving your model as an HDF5 file via `model.save()` or `keras.saving.save_model(model)`. This file format is considered legacy. We recommend using instead the native Keras format, e.g. `model.save('my_model.keras')` or `keras.saving.save_model(model, 'my_model.keras')`. \n"
          ]
        },
        {
          "output_type": "stream",
          "name": "stdout",
          "text": [
            "\b\b\b\b\b\b\b\b\b\b\b\b\b\b\b\b\b\b\b\b\b\b\b\b\b\b\b\b\b\b\b\b\b\b\b\b\b\b\b\b\b\b\b\b\b\b\b\b\b\b\b\b\b\b\b\b\b\b\b\b\b\b\b\b\b\b\b\b\b\b\b\b\b\b\b\b\b\b\b\b\b\b\b\b\b\b\b\b\b\b\b\b\b\b\b\b\b\b\b\b\b\b\b\b\b\b\b\b\b\b\b\b\b\b\b\b\b\b\b\b\b\b\b\b\b\b\r\u001b[1m500/500\u001b[0m \u001b[32m━━━━━━━━━━━━━━━━━━━━\u001b[0m\u001b[37m\u001b[0m \u001b[1m7s\u001b[0m 14ms/step - accuracy: 0.9785 - auc: 0.9975 - loss: 0.0763 - precision: 0.9692 - recall: 0.9883 - val_accuracy: 0.9854 - val_auc: 0.9985 - val_loss: 0.0447 - val_precision: 0.9865 - val_recall: 0.9843\n",
            "Epoch 36/100\n",
            "\u001b[1m500/500\u001b[0m \u001b[32m━━━━━━━━━━━━━━━━━━━━\u001b[0m\u001b[37m\u001b[0m \u001b[1m10s\u001b[0m 14ms/step - accuracy: 0.9796 - auc: 0.9978 - loss: 0.0734 - precision: 0.9724 - recall: 0.9878 - val_accuracy: 0.9837 - val_auc: 0.9983 - val_loss: 0.0473 - val_precision: 0.9889 - val_recall: 0.9785\n",
            "Epoch 37/100\n",
            "\u001b[1m500/500\u001b[0m \u001b[32m━━━━━━━━━━━━━━━━━━━━\u001b[0m\u001b[37m\u001b[0m \u001b[1m9s\u001b[0m 11ms/step - accuracy: 0.9792 - auc: 0.9974 - loss: 0.0779 - precision: 0.9716 - recall: 0.9872 - val_accuracy: 0.9845 - val_auc: 0.9982 - val_loss: 0.0469 - val_precision: 0.9850 - val_recall: 0.9840\n",
            "Epoch 38/100\n",
            "\u001b[1m497/500\u001b[0m \u001b[32m━━━━━━━━━━━━━━━━━━━\u001b[0m\u001b[37m━\u001b[0m \u001b[1m0s\u001b[0m 12ms/step - accuracy: 0.9819 - auc: 0.9980 - loss: 0.0676 - precision: 0.9737 - recall: 0.9903"
          ]
        },
        {
          "output_type": "stream",
          "name": "stderr",
          "text": [
            "WARNING:absl:You are saving your model as an HDF5 file via `model.save()` or `keras.saving.save_model(model)`. This file format is considered legacy. We recommend using instead the native Keras format, e.g. `model.save('my_model.keras')` or `keras.saving.save_model(model, 'my_model.keras')`. \n"
          ]
        },
        {
          "output_type": "stream",
          "name": "stdout",
          "text": [
            "\b\b\b\b\b\b\b\b\b\b\b\b\b\b\b\b\b\b\b\b\b\b\b\b\b\b\b\b\b\b\b\b\b\b\b\b\b\b\b\b\b\b\b\b\b\b\b\b\b\b\b\b\b\b\b\b\b\b\b\b\b\b\b\b\b\b\b\b\b\b\b\b\b\b\b\b\b\b\b\b\b\b\b\b\b\b\b\b\b\b\b\b\b\b\b\b\b\b\b\b\b\b\b\b\b\b\b\b\b\b\b\b\b\b\b\b\b\b\b\b\b\b\b\b\b\b\r\u001b[1m500/500\u001b[0m \u001b[32m━━━━━━━━━━━━━━━━━━━━\u001b[0m\u001b[37m\u001b[0m \u001b[1m7s\u001b[0m 14ms/step - accuracy: 0.9819 - auc: 0.9980 - loss: 0.0677 - precision: 0.9737 - recall: 0.9903 - val_accuracy: 0.9849 - val_auc: 0.9985 - val_loss: 0.0433 - val_precision: 0.9840 - val_recall: 0.9858\n",
            "Epoch 39/100\n",
            "\u001b[1m500/500\u001b[0m \u001b[32m━━━━━━━━━━━━━━━━━━━━\u001b[0m\u001b[37m\u001b[0m \u001b[1m10s\u001b[0m 14ms/step - accuracy: 0.9811 - auc: 0.9977 - loss: 0.0690 - precision: 0.9740 - recall: 0.9887 - val_accuracy: 0.9741 - val_auc: 0.9983 - val_loss: 0.0675 - val_precision: 0.9932 - val_recall: 0.9548\n",
            "Epoch 40/100\n",
            "\u001b[1m500/500\u001b[0m \u001b[32m━━━━━━━━━━━━━━━━━━━━\u001b[0m\u001b[37m\u001b[0m \u001b[1m9s\u001b[0m 11ms/step - accuracy: 0.9824 - auc: 0.9982 - loss: 0.0645 - precision: 0.9747 - recall: 0.9905 - val_accuracy: 0.9842 - val_auc: 0.9984 - val_loss: 0.0446 - val_precision: 0.9874 - val_recall: 0.9810\n",
            "Epoch 41/100\n",
            "\u001b[1m500/500\u001b[0m \u001b[32m━━━━━━━━━━━━━━━━━━━━\u001b[0m\u001b[37m\u001b[0m \u001b[1m10s\u001b[0m 11ms/step - accuracy: 0.9817 - auc: 0.9978 - loss: 0.0669 - precision: 0.9751 - recall: 0.9889 - val_accuracy: 0.9800 - val_auc: 0.9985 - val_loss: 0.0532 - val_precision: 0.9921 - val_recall: 0.9678\n",
            "Epoch 42/100\n",
            "\u001b[1m500/500\u001b[0m \u001b[32m━━━━━━━━━━━━━━━━━━━━\u001b[0m\u001b[37m\u001b[0m \u001b[1m7s\u001b[0m 14ms/step - accuracy: 0.9815 - auc: 0.9978 - loss: 0.0687 - precision: 0.9745 - recall: 0.9889 - val_accuracy: 0.9825 - val_auc: 0.9985 - val_loss: 0.0484 - val_precision: 0.9728 - val_recall: 0.9927\n",
            "Epoch 43/100\n",
            "\u001b[1m497/500\u001b[0m \u001b[32m━━━━━━━━━━━━━━━━━━━\u001b[0m\u001b[37m━\u001b[0m \u001b[1m0s\u001b[0m 10ms/step - accuracy: 0.9826 - auc: 0.9979 - loss: 0.0651 - precision: 0.9758 - recall: 0.9898"
          ]
        },
        {
          "output_type": "stream",
          "name": "stderr",
          "text": [
            "WARNING:absl:You are saving your model as an HDF5 file via `model.save()` or `keras.saving.save_model(model)`. This file format is considered legacy. We recommend using instead the native Keras format, e.g. `model.save('my_model.keras')` or `keras.saving.save_model(model, 'my_model.keras')`. \n"
          ]
        },
        {
          "output_type": "stream",
          "name": "stdout",
          "text": [
            "\b\b\b\b\b\b\b\b\b\b\b\b\b\b\b\b\b\b\b\b\b\b\b\b\b\b\b\b\b\b\b\b\b\b\b\b\b\b\b\b\b\b\b\b\b\b\b\b\b\b\b\b\b\b\b\b\b\b\b\b\b\b\b\b\b\b\b\b\b\b\b\b\b\b\b\b\b\b\b\b\b\b\b\b\b\b\b\b\b\b\b\b\b\b\b\b\b\b\b\b\b\b\b\b\b\b\b\b\b\b\b\b\b\b\b\b\b\b\b\b\b\b\b\b\b\b\r\u001b[1m500/500\u001b[0m \u001b[32m━━━━━━━━━━━━━━━━━━━━\u001b[0m\u001b[37m\u001b[0m \u001b[1m9s\u001b[0m 12ms/step - accuracy: 0.9826 - auc: 0.9979 - loss: 0.0651 - precision: 0.9758 - recall: 0.9898 - val_accuracy: 0.9875 - val_auc: 0.9983 - val_loss: 0.0409 - val_precision: 0.9858 - val_recall: 0.9893\n",
            "Epoch 44/100\n",
            "\u001b[1m500/500\u001b[0m \u001b[32m━━━━━━━━━━━━━━━━━━━━\u001b[0m\u001b[37m\u001b[0m \u001b[1m7s\u001b[0m 14ms/step - accuracy: 0.9800 - auc: 0.9977 - loss: 0.0692 - precision: 0.9711 - recall: 0.9892 - val_accuracy: 0.9817 - val_auc: 0.9984 - val_loss: 0.0510 - val_precision: 0.9711 - val_recall: 0.9930\n",
            "Epoch 45/100\n",
            "\u001b[1m499/500\u001b[0m \u001b[32m━━━━━━━━━━━━━━━━━━━\u001b[0m\u001b[37m━\u001b[0m \u001b[1m0s\u001b[0m 10ms/step - accuracy: 0.9836 - auc: 0.9984 - loss: 0.0592 - precision: 0.9760 - recall: 0.9914"
          ]
        },
        {
          "output_type": "stream",
          "name": "stderr",
          "text": [
            "WARNING:absl:You are saving your model as an HDF5 file via `model.save()` or `keras.saving.save_model(model)`. This file format is considered legacy. We recommend using instead the native Keras format, e.g. `model.save('my_model.keras')` or `keras.saving.save_model(model, 'my_model.keras')`. \n"
          ]
        },
        {
          "output_type": "stream",
          "name": "stdout",
          "text": [
            "\b\b\b\b\b\b\b\b\b\b\b\b\b\b\b\b\b\b\b\b\b\b\b\b\b\b\b\b\b\b\b\b\b\b\b\b\b\b\b\b\b\b\b\b\b\b\b\b\b\b\b\b\b\b\b\b\b\b\b\b\b\b\b\b\b\b\b\b\b\b\b\b\b\b\b\b\b\b\b\b\b\b\b\b\b\b\b\b\b\b\b\b\b\b\b\b\b\b\b\b\b\b\b\b\b\b\b\b\b\b\b\b\b\b\b\b\b\b\b\b\b\b\b\b\b\b\r\u001b[1m500/500\u001b[0m \u001b[32m━━━━━━━━━━━━━━━━━━━━\u001b[0m\u001b[37m\u001b[0m \u001b[1m6s\u001b[0m 12ms/step - accuracy: 0.9836 - auc: 0.9984 - loss: 0.0593 - precision: 0.9760 - recall: 0.9914 - val_accuracy: 0.9856 - val_auc: 0.9987 - val_loss: 0.0407 - val_precision: 0.9824 - val_recall: 0.9890\n",
            "Epoch 46/100\n",
            "\u001b[1m499/500\u001b[0m \u001b[32m━━━━━━━━━━━━━━━━━━━\u001b[0m\u001b[37m━\u001b[0m \u001b[1m0s\u001b[0m 10ms/step - accuracy: 0.9840 - auc: 0.9983 - loss: 0.0596 - precision: 0.9780 - recall: 0.9908"
          ]
        },
        {
          "output_type": "stream",
          "name": "stderr",
          "text": [
            "WARNING:absl:You are saving your model as an HDF5 file via `model.save()` or `keras.saving.save_model(model)`. This file format is considered legacy. We recommend using instead the native Keras format, e.g. `model.save('my_model.keras')` or `keras.saving.save_model(model, 'my_model.keras')`. \n"
          ]
        },
        {
          "output_type": "stream",
          "name": "stdout",
          "text": [
            "\b\b\b\b\b\b\b\b\b\b\b\b\b\b\b\b\b\b\b\b\b\b\b\b\b\b\b\b\b\b\b\b\b\b\b\b\b\b\b\b\b\b\b\b\b\b\b\b\b\b\b\b\b\b\b\b\b\b\b\b\b\b\b\b\b\b\b\b\b\b\b\b\b\b\b\b\b\b\b\b\b\b\b\b\b\b\b\b\b\b\b\b\b\b\b\b\b\b\b\b\b\b\b\b\b\b\b\b\b\b\b\b\b\b\b\b\b\b\b\b\b\b\b\b\b\b\r\u001b[1m500/500\u001b[0m \u001b[32m━━━━━━━━━━━━━━━━━━━━\u001b[0m\u001b[37m\u001b[0m \u001b[1m10s\u001b[0m 11ms/step - accuracy: 0.9840 - auc: 0.9983 - loss: 0.0596 - precision: 0.9780 - recall: 0.9908 - val_accuracy: 0.9861 - val_auc: 0.9984 - val_loss: 0.0397 - val_precision: 0.9843 - val_recall: 0.9880\n",
            "Epoch 47/100\n",
            "\u001b[1m500/500\u001b[0m \u001b[32m━━━━━━━━━━━━━━━━━━━━\u001b[0m\u001b[37m\u001b[0m \u001b[1m11s\u001b[0m 13ms/step - accuracy: 0.9837 - auc: 0.9982 - loss: 0.0621 - precision: 0.9765 - recall: 0.9911 - val_accuracy: 0.9846 - val_auc: 0.9989 - val_loss: 0.0428 - val_precision: 0.9919 - val_recall: 0.9772\n",
            "Epoch 48/100\n",
            "\u001b[1m500/500\u001b[0m \u001b[32m━━━━━━━━━━━━━━━━━━━━\u001b[0m\u001b[37m\u001b[0m \u001b[1m10s\u001b[0m 13ms/step - accuracy: 0.9849 - auc: 0.9981 - loss: 0.0600 - precision: 0.9784 - recall: 0.9917 - val_accuracy: 0.9776 - val_auc: 0.9975 - val_loss: 0.0636 - val_precision: 0.9618 - val_recall: 0.9948\n",
            "Epoch 49/100\n",
            "\u001b[1m499/500\u001b[0m \u001b[32m━━━━━━━━━━━━━━━━━━━\u001b[0m\u001b[37m━\u001b[0m \u001b[1m0s\u001b[0m 12ms/step - accuracy: 0.9825 - auc: 0.9977 - loss: 0.0631 - precision: 0.9749 - recall: 0.9907"
          ]
        },
        {
          "output_type": "stream",
          "name": "stderr",
          "text": [
            "WARNING:absl:You are saving your model as an HDF5 file via `model.save()` or `keras.saving.save_model(model)`. This file format is considered legacy. We recommend using instead the native Keras format, e.g. `model.save('my_model.keras')` or `keras.saving.save_model(model, 'my_model.keras')`. \n"
          ]
        },
        {
          "output_type": "stream",
          "name": "stdout",
          "text": [
            "\b\b\b\b\b\b\b\b\b\b\b\b\b\b\b\b\b\b\b\b\b\b\b\b\b\b\b\b\b\b\b\b\b\b\b\b\b\b\b\b\b\b\b\b\b\b\b\b\b\b\b\b\b\b\b\b\b\b\b\b\b\b\b\b\b\b\b\b\b\b\b\b\b\b\b\b\b\b\b\b\b\b\b\b\b\b\b\b\b\b\b\b\b\b\b\b\b\b\b\b\b\b\b\b\b\b\b\b\b\b\b\b\b\b\b\b\b\b\b\b\b\b\b\b\b\b\r\u001b[1m500/500\u001b[0m \u001b[32m━━━━━━━━━━━━━━━━━━━━\u001b[0m\u001b[37m\u001b[0m \u001b[1m11s\u001b[0m 14ms/step - accuracy: 0.9825 - auc: 0.9977 - loss: 0.0631 - precision: 0.9749 - recall: 0.9907 - val_accuracy: 0.9867 - val_auc: 0.9987 - val_loss: 0.0388 - val_precision: 0.9841 - val_recall: 0.9895\n",
            "Epoch 50/100\n",
            "\u001b[1m500/500\u001b[0m \u001b[32m━━━━━━━━━━━━━━━━━━━━\u001b[0m\u001b[37m\u001b[0m \u001b[1m9s\u001b[0m 11ms/step - accuracy: 0.9846 - auc: 0.9985 - loss: 0.0574 - precision: 0.9781 - recall: 0.9916 - val_accuracy: 0.9841 - val_auc: 0.9985 - val_loss: 0.0429 - val_precision: 0.9773 - val_recall: 0.9912\n",
            "Epoch 51/100\n",
            "\u001b[1m500/500\u001b[0m \u001b[32m━━━━━━━━━━━━━━━━━━━━\u001b[0m\u001b[37m\u001b[0m \u001b[1m10s\u001b[0m 11ms/step - accuracy: 0.9836 - auc: 0.9980 - loss: 0.0611 - precision: 0.9769 - recall: 0.9909 - val_accuracy: 0.9857 - val_auc: 0.9986 - val_loss: 0.0412 - val_precision: 0.9793 - val_recall: 0.9925\n",
            "Epoch 52/100\n",
            "\u001b[1m500/500\u001b[0m \u001b[32m━━━━━━━━━━━━━━━━━━━━\u001b[0m\u001b[37m\u001b[0m \u001b[1m10s\u001b[0m 11ms/step - accuracy: 0.9857 - auc: 0.9985 - loss: 0.0533 - precision: 0.9806 - recall: 0.9912 - val_accuracy: 0.9777 - val_auc: 0.9978 - val_loss: 0.0642 - val_precision: 0.9616 - val_recall: 0.9952\n",
            "Epoch 53/100\n",
            "\u001b[1m495/500\u001b[0m \u001b[32m━━━━━━━━━━━━━━━━━━━\u001b[0m\u001b[37m━\u001b[0m \u001b[1m0s\u001b[0m 11ms/step - accuracy: 0.9858 - auc: 0.9985 - loss: 0.0556 - precision: 0.9795 - recall: 0.9921"
          ]
        },
        {
          "output_type": "stream",
          "name": "stderr",
          "text": [
            "WARNING:absl:You are saving your model as an HDF5 file via `model.save()` or `keras.saving.save_model(model)`. This file format is considered legacy. We recommend using instead the native Keras format, e.g. `model.save('my_model.keras')` or `keras.saving.save_model(model, 'my_model.keras')`. \n"
          ]
        },
        {
          "output_type": "stream",
          "name": "stdout",
          "text": [
            "\b\b\b\b\b\b\b\b\b\b\b\b\b\b\b\b\b\b\b\b\b\b\b\b\b\b\b\b\b\b\b\b\b\b\b\b\b\b\b\b\b\b\b\b\b\b\b\b\b\b\b\b\b\b\b\b\b\b\b\b\b\b\b\b\b\b\b\b\b\b\b\b\b\b\b\b\b\b\b\b\b\b\b\b\b\b\b\b\b\b\b\b\b\b\b\b\b\b\b\b\b\b\b\b\b\b\b\b\b\b\b\b\b\b\b\b\b\b\b\b\b\b\b\b\b\b\r\u001b[1m500/500\u001b[0m \u001b[32m━━━━━━━━━━━━━━━━━━━━\u001b[0m\u001b[37m\u001b[0m \u001b[1m11s\u001b[0m 13ms/step - accuracy: 0.9858 - auc: 0.9985 - loss: 0.0556 - precision: 0.9795 - recall: 0.9921 - val_accuracy: 0.9877 - val_auc: 0.9989 - val_loss: 0.0356 - val_precision: 0.9873 - val_recall: 0.9883\n",
            "Epoch 54/100\n",
            "\u001b[1m500/500\u001b[0m \u001b[32m━━━━━━━━━━━━━━━━━━━━\u001b[0m\u001b[37m\u001b[0m \u001b[1m6s\u001b[0m 12ms/step - accuracy: 0.9859 - auc: 0.9987 - loss: 0.0530 - precision: 0.9802 - recall: 0.9918 - val_accuracy: 0.9871 - val_auc: 0.9985 - val_loss: 0.0379 - val_precision: 0.9865 - val_recall: 0.9877\n",
            "Epoch 55/100\n",
            "\u001b[1m500/500\u001b[0m \u001b[32m━━━━━━━━━━━━━━━━━━━━\u001b[0m\u001b[37m\u001b[0m \u001b[1m7s\u001b[0m 13ms/step - accuracy: 0.9856 - auc: 0.9982 - loss: 0.0554 - precision: 0.9805 - recall: 0.9911 - val_accuracy: 0.9805 - val_auc: 0.9988 - val_loss: 0.0503 - val_precision: 0.9936 - val_recall: 0.9672\n",
            "Epoch 56/100\n",
            "\u001b[1m500/500\u001b[0m \u001b[32m━━━━━━━━━━━━━━━━━━━━\u001b[0m\u001b[37m\u001b[0m \u001b[1m10s\u001b[0m 14ms/step - accuracy: 0.9846 - auc: 0.9982 - loss: 0.0563 - precision: 0.9789 - recall: 0.9907 - val_accuracy: 0.9875 - val_auc: 0.9989 - val_loss: 0.0358 - val_precision: 0.9873 - val_recall: 0.9877\n",
            "Epoch 57/100\n",
            "\u001b[1m500/500\u001b[0m \u001b[32m━━━━━━━━━━━━━━━━━━━━\u001b[0m\u001b[37m\u001b[0m \u001b[1m0s\u001b[0m 10ms/step - accuracy: 0.9859 - auc: 0.9984 - loss: 0.0543 - precision: 0.9812 - recall: 0.9908"
          ]
        },
        {
          "output_type": "stream",
          "name": "stderr",
          "text": [
            "WARNING:absl:You are saving your model as an HDF5 file via `model.save()` or `keras.saving.save_model(model)`. This file format is considered legacy. We recommend using instead the native Keras format, e.g. `model.save('my_model.keras')` or `keras.saving.save_model(model, 'my_model.keras')`. \n"
          ]
        },
        {
          "output_type": "stream",
          "name": "stdout",
          "text": [
            "\b\b\b\b\b\b\b\b\b\b\b\b\b\b\b\b\b\b\b\b\b\b\b\b\b\b\b\b\b\b\b\b\b\b\b\b\b\b\b\b\b\b\b\b\b\b\b\b\b\b\b\b\b\b\b\b\b\b\b\b\b\b\b\b\b\b\b\b\b\b\b\b\b\b\b\b\b\b\b\b\b\b\b\b\b\b\b\b\b\b\b\b\b\b\b\b\b\b\b\b\b\b\b\b\b\b\b\b\b\b\b\b\b\b\b\b\b\b\b\b\b\b\b\b\b\b\r\u001b[1m500/500\u001b[0m \u001b[32m━━━━━━━━━━━━━━━━━━━━\u001b[0m\u001b[37m\u001b[0m \u001b[1m10s\u001b[0m 13ms/step - accuracy: 0.9859 - auc: 0.9984 - loss: 0.0543 - precision: 0.9812 - recall: 0.9908 - val_accuracy: 0.9881 - val_auc: 0.9990 - val_loss: 0.0356 - val_precision: 0.9880 - val_recall: 0.9883\n",
            "Epoch 58/100\n",
            "\u001b[1m500/500\u001b[0m \u001b[32m━━━━━━━━━━━━━━━━━━━━\u001b[0m\u001b[37m\u001b[0m \u001b[1m9s\u001b[0m 11ms/step - accuracy: 0.9860 - auc: 0.9984 - loss: 0.0535 - precision: 0.9800 - recall: 0.9923 - val_accuracy: 0.9866 - val_auc: 0.9991 - val_loss: 0.0389 - val_precision: 0.9810 - val_recall: 0.9925\n",
            "Epoch 59/100\n",
            "\u001b[1m500/500\u001b[0m \u001b[32m━━━━━━━━━━━━━━━━━━━━\u001b[0m\u001b[37m\u001b[0m \u001b[1m7s\u001b[0m 14ms/step - accuracy: 0.9855 - auc: 0.9987 - loss: 0.0511 - precision: 0.9789 - recall: 0.9926 - val_accuracy: 0.9865 - val_auc: 0.9987 - val_loss: 0.0361 - val_precision: 0.9853 - val_recall: 0.9877\n",
            "Epoch 60/100\n",
            "\u001b[1m500/500\u001b[0m \u001b[32m━━━━━━━━━━━━━━━━━━━━\u001b[0m\u001b[37m\u001b[0m \u001b[1m6s\u001b[0m 11ms/step - accuracy: 0.9878 - auc: 0.9985 - loss: 0.0498 - precision: 0.9825 - recall: 0.9931 - val_accuracy: 0.9867 - val_auc: 0.9990 - val_loss: 0.0369 - val_precision: 0.9902 - val_recall: 0.9833\n",
            "Epoch 61/100\n",
            "\u001b[1m500/500\u001b[0m \u001b[32m━━━━━━━━━━━━━━━━━━━━\u001b[0m\u001b[37m\u001b[0m \u001b[1m10s\u001b[0m 11ms/step - accuracy: 0.9857 - auc: 0.9987 - loss: 0.0529 - precision: 0.9794 - recall: 0.9920 - val_accuracy: 0.9839 - val_auc: 0.9988 - val_loss: 0.0429 - val_precision: 0.9931 - val_recall: 0.9745\n",
            "Epoch 62/100\n",
            "\u001b[1m498/500\u001b[0m \u001b[32m━━━━━━━━━━━━━━━━━━━\u001b[0m\u001b[37m━\u001b[0m \u001b[1m0s\u001b[0m 14ms/step - accuracy: 0.9854 - auc: 0.9985 - loss: 0.0521 - precision: 0.9796 - recall: 0.9917"
          ]
        },
        {
          "output_type": "stream",
          "name": "stderr",
          "text": [
            "WARNING:absl:You are saving your model as an HDF5 file via `model.save()` or `keras.saving.save_model(model)`. This file format is considered legacy. We recommend using instead the native Keras format, e.g. `model.save('my_model.keras')` or `keras.saving.save_model(model, 'my_model.keras')`. \n"
          ]
        },
        {
          "output_type": "stream",
          "name": "stdout",
          "text": [
            "\b\b\b\b\b\b\b\b\b\b\b\b\b\b\b\b\b\b\b\b\b\b\b\b\b\b\b\b\b\b\b\b\b\b\b\b\b\b\b\b\b\b\b\b\b\b\b\b\b\b\b\b\b\b\b\b\b\b\b\b\b\b\b\b\b\b\b\b\b\b\b\b\b\b\b\b\b\b\b\b\b\b\b\b\b\b\b\b\b\b\b\b\b\b\b\b\b\b\b\b\b\b\b\b\b\b\b\b\b\b\b\b\b\b\b\b\b\b\b\b\b\b\b\b\b\b\r\u001b[1m500/500\u001b[0m \u001b[32m━━━━━━━━━━━━━━━━━━━━\u001b[0m\u001b[37m\u001b[0m \u001b[1m12s\u001b[0m 16ms/step - accuracy: 0.9854 - auc: 0.9985 - loss: 0.0521 - precision: 0.9796 - recall: 0.9917 - val_accuracy: 0.9877 - val_auc: 0.9990 - val_loss: 0.0346 - val_precision: 0.9834 - val_recall: 0.9923\n",
            "Epoch 63/100\n",
            "\u001b[1m500/500\u001b[0m \u001b[32m━━━━━━━━━━━━━━━━━━━━\u001b[0m\u001b[37m\u001b[0m \u001b[1m6s\u001b[0m 12ms/step - accuracy: 0.9845 - auc: 0.9985 - loss: 0.0550 - precision: 0.9782 - recall: 0.9911 - val_accuracy: 0.9876 - val_auc: 0.9990 - val_loss: 0.0347 - val_precision: 0.9846 - val_recall: 0.9908\n",
            "Epoch 64/100\n",
            "\u001b[1m500/500\u001b[0m \u001b[32m━━━━━━━━━━━━━━━━━━━━\u001b[0m\u001b[37m\u001b[0m \u001b[1m7s\u001b[0m 13ms/step - accuracy: 0.9874 - auc: 0.9989 - loss: 0.0466 - precision: 0.9834 - recall: 0.9917 - val_accuracy: 0.9866 - val_auc: 0.9987 - val_loss: 0.0369 - val_precision: 0.9814 - val_recall: 0.9920\n",
            "Epoch 65/100\n",
            "\u001b[1m500/500\u001b[0m \u001b[32m━━━━━━━━━━━━━━━━━━━━\u001b[0m\u001b[37m\u001b[0m \u001b[1m10s\u001b[0m 14ms/step - accuracy: 0.9872 - auc: 0.9990 - loss: 0.0454 - precision: 0.9821 - recall: 0.9926 - val_accuracy: 0.9877 - val_auc: 0.9989 - val_loss: 0.0365 - val_precision: 0.9824 - val_recall: 0.9933\n",
            "Epoch 66/100\n",
            "\u001b[1m498/500\u001b[0m \u001b[32m━━━━━━━━━━━━━━━━━━━\u001b[0m\u001b[37m━\u001b[0m \u001b[1m0s\u001b[0m 10ms/step - accuracy: 0.9878 - auc: 0.9989 - loss: 0.0460 - precision: 0.9829 - recall: 0.9930"
          ]
        },
        {
          "output_type": "stream",
          "name": "stderr",
          "text": [
            "WARNING:absl:You are saving your model as an HDF5 file via `model.save()` or `keras.saving.save_model(model)`. This file format is considered legacy. We recommend using instead the native Keras format, e.g. `model.save('my_model.keras')` or `keras.saving.save_model(model, 'my_model.keras')`. \n"
          ]
        },
        {
          "output_type": "stream",
          "name": "stdout",
          "text": [
            "\b\b\b\b\b\b\b\b\b\b\b\b\b\b\b\b\b\b\b\b\b\b\b\b\b\b\b\b\b\b\b\b\b\b\b\b\b\b\b\b\b\b\b\b\b\b\b\b\b\b\b\b\b\b\b\b\b\b\b\b\b\b\b\b\b\b\b\b\b\b\b\b\b\b\b\b\b\b\b\b\b\b\b\b\b\b\b\b\b\b\b\b\b\b\b\b\b\b\b\b\b\b\b\b\b\b\b\b\b\b\b\b\b\b\b\b\b\b\b\b\b\b\b\b\b\b\r\u001b[1m500/500\u001b[0m \u001b[32m━━━━━━━━━━━━━━━━━━━━\u001b[0m\u001b[37m\u001b[0m \u001b[1m9s\u001b[0m 12ms/step - accuracy: 0.9878 - auc: 0.9989 - loss: 0.0460 - precision: 0.9829 - recall: 0.9930 - val_accuracy: 0.9881 - val_auc: 0.9990 - val_loss: 0.0342 - val_precision: 0.9837 - val_recall: 0.9927\n",
            "Epoch 67/100\n",
            "\u001b[1m500/500\u001b[0m \u001b[32m━━━━━━━━━━━━━━━━━━━━\u001b[0m\u001b[37m\u001b[0m \u001b[1m7s\u001b[0m 13ms/step - accuracy: 0.9876 - auc: 0.9990 - loss: 0.0464 - precision: 0.9827 - recall: 0.9927 - val_accuracy: 0.9850 - val_auc: 0.9987 - val_loss: 0.0397 - val_precision: 0.9767 - val_recall: 0.9937\n",
            "Epoch 68/100\n",
            "\u001b[1m500/500\u001b[0m \u001b[32m━━━━━━━━━━━━━━━━━━━━\u001b[0m\u001b[37m\u001b[0m \u001b[1m10s\u001b[0m 14ms/step - accuracy: 0.9877 - auc: 0.9989 - loss: 0.0448 - precision: 0.9825 - recall: 0.9929 - val_accuracy: 0.9872 - val_auc: 0.9986 - val_loss: 0.0370 - val_precision: 0.9810 - val_recall: 0.9937\n",
            "Epoch 69/100\n",
            "\u001b[1m500/500\u001b[0m \u001b[32m━━━━━━━━━━━━━━━━━━━━\u001b[0m\u001b[37m\u001b[0m \u001b[1m6s\u001b[0m 11ms/step - accuracy: 0.9868 - auc: 0.9990 - loss: 0.0446 - precision: 0.9821 - recall: 0.9917 - val_accuracy: 0.9842 - val_auc: 0.9985 - val_loss: 0.0436 - val_precision: 0.9748 - val_recall: 0.9942\n",
            "Epoch 70/100\n",
            "\u001b[1m499/500\u001b[0m \u001b[32m━━━━━━━━━━━━━━━━━━━\u001b[0m\u001b[37m━\u001b[0m \u001b[1m0s\u001b[0m 13ms/step - accuracy: 0.9883 - auc: 0.9990 - loss: 0.0420 - precision: 0.9845 - recall: 0.9925"
          ]
        },
        {
          "output_type": "stream",
          "name": "stderr",
          "text": [
            "WARNING:absl:You are saving your model as an HDF5 file via `model.save()` or `keras.saving.save_model(model)`. This file format is considered legacy. We recommend using instead the native Keras format, e.g. `model.save('my_model.keras')` or `keras.saving.save_model(model, 'my_model.keras')`. \n"
          ]
        },
        {
          "output_type": "stream",
          "name": "stdout",
          "text": [
            "\b\b\b\b\b\b\b\b\b\b\b\b\b\b\b\b\b\b\b\b\b\b\b\b\b\b\b\b\b\b\b\b\b\b\b\b\b\b\b\b\b\b\b\b\b\b\b\b\b\b\b\b\b\b\b\b\b\b\b\b\b\b\b\b\b\b\b\b\b\b\b\b\b\b\b\b\b\b\b\b\b\b\b\b\b\b\b\b\b\b\b\b\b\b\b\b\b\b\b\b\b\b\b\b\b\b\b\b\b\b\b\b\b\b\b\b\b\b\b\b\b\b\b\b\b\b\r\u001b[1m500/500\u001b[0m \u001b[32m━━━━━━━━━━━━━━━━━━━━\u001b[0m\u001b[37m\u001b[0m \u001b[1m7s\u001b[0m 14ms/step - accuracy: 0.9883 - auc: 0.9990 - loss: 0.0420 - precision: 0.9845 - recall: 0.9925 - val_accuracy: 0.9881 - val_auc: 0.9992 - val_loss: 0.0339 - val_precision: 0.9919 - val_recall: 0.9843\n",
            "Epoch 71/100\n",
            "\u001b[1m500/500\u001b[0m \u001b[32m━━━━━━━━━━━━━━━━━━━━\u001b[0m\u001b[37m\u001b[0m \u001b[1m9s\u001b[0m 11ms/step - accuracy: 0.9873 - auc: 0.9987 - loss: 0.0479 - precision: 0.9820 - recall: 0.9930 - val_accuracy: 0.9879 - val_auc: 0.9990 - val_loss: 0.0340 - val_precision: 0.9832 - val_recall: 0.9927\n",
            "Epoch 72/100\n",
            "\u001b[1m499/500\u001b[0m \u001b[32m━━━━━━━━━━━━━━━━━━━\u001b[0m\u001b[37m━\u001b[0m \u001b[1m0s\u001b[0m 10ms/step - accuracy: 0.9865 - auc: 0.9989 - loss: 0.0472 - precision: 0.9807 - recall: 0.9923"
          ]
        },
        {
          "output_type": "stream",
          "name": "stderr",
          "text": [
            "WARNING:absl:You are saving your model as an HDF5 file via `model.save()` or `keras.saving.save_model(model)`. This file format is considered legacy. We recommend using instead the native Keras format, e.g. `model.save('my_model.keras')` or `keras.saving.save_model(model, 'my_model.keras')`. \n"
          ]
        },
        {
          "output_type": "stream",
          "name": "stdout",
          "text": [
            "\b\b\b\b\b\b\b\b\b\b\b\b\b\b\b\b\b\b\b\b\b\b\b\b\b\b\b\b\b\b\b\b\b\b\b\b\b\b\b\b\b\b\b\b\b\b\b\b\b\b\b\b\b\b\b\b\b\b\b\b\b\b\b\b\b\b\b\b\b\b\b\b\b\b\b\b\b\b\b\b\b\b\b\b\b\b\b\b\b\b\b\b\b\b\b\b\b\b\b\b\b\b\b\b\b\b\b\b\b\b\b\b\b\b\b\b\b\b\b\b\b\b\b\b\b\b\r\u001b[1m500/500\u001b[0m \u001b[32m━━━━━━━━━━━━━━━━━━━━\u001b[0m\u001b[37m\u001b[0m \u001b[1m10s\u001b[0m 11ms/step - accuracy: 0.9865 - auc: 0.9989 - loss: 0.0472 - precision: 0.9807 - recall: 0.9923 - val_accuracy: 0.9885 - val_auc: 0.9992 - val_loss: 0.0322 - val_precision: 0.9853 - val_recall: 0.9918\n",
            "Epoch 73/100\n",
            "\u001b[1m500/500\u001b[0m \u001b[32m━━━━━━━━━━━━━━━━━━━━\u001b[0m\u001b[37m\u001b[0m \u001b[1m10s\u001b[0m 11ms/step - accuracy: 0.9874 - auc: 0.9989 - loss: 0.0451 - precision: 0.9820 - recall: 0.9932 - val_accuracy: 0.9854 - val_auc: 0.9986 - val_loss: 0.0409 - val_precision: 0.9767 - val_recall: 0.9945\n",
            "Epoch 74/100\n",
            "\u001b[1m500/500\u001b[0m \u001b[32m━━━━━━━━━━━━━━━━━━━━\u001b[0m\u001b[37m\u001b[0m \u001b[1m11s\u001b[0m 13ms/step - accuracy: 0.9875 - auc: 0.9989 - loss: 0.0453 - precision: 0.9816 - recall: 0.9937 - val_accuracy: 0.9872 - val_auc: 0.9985 - val_loss: 0.0374 - val_precision: 0.9810 - val_recall: 0.9937\n",
            "Epoch 75/100\n",
            "\u001b[1m500/500\u001b[0m \u001b[32m━━━━━━━━━━━━━━━━━━━━\u001b[0m\u001b[37m\u001b[0m \u001b[1m7s\u001b[0m 13ms/step - accuracy: 0.9883 - auc: 0.9988 - loss: 0.0430 - precision: 0.9836 - recall: 0.9931 - val_accuracy: 0.9872 - val_auc: 0.9989 - val_loss: 0.0354 - val_precision: 0.9810 - val_recall: 0.9937\n",
            "Epoch 76/100\n",
            "\u001b[1m498/500\u001b[0m \u001b[32m━━━━━━━━━━━━━━━━━━━\u001b[0m\u001b[37m━\u001b[0m \u001b[1m0s\u001b[0m 11ms/step - accuracy: 0.9890 - auc: 0.9991 - loss: 0.0392 - precision: 0.9840 - recall: 0.9944"
          ]
        },
        {
          "output_type": "stream",
          "name": "stderr",
          "text": [
            "WARNING:absl:You are saving your model as an HDF5 file via `model.save()` or `keras.saving.save_model(model)`. This file format is considered legacy. We recommend using instead the native Keras format, e.g. `model.save('my_model.keras')` or `keras.saving.save_model(model, 'my_model.keras')`. \n"
          ]
        },
        {
          "output_type": "stream",
          "name": "stdout",
          "text": [
            "\b\b\b\b\b\b\b\b\b\b\b\b\b\b\b\b\b\b\b\b\b\b\b\b\b\b\b\b\b\b\b\b\b\b\b\b\b\b\b\b\b\b\b\b\b\b\b\b\b\b\b\b\b\b\b\b\b\b\b\b\b\b\b\b\b\b\b\b\b\b\b\b\b\b\b\b\b\b\b\b\b\b\b\b\b\b\b\b\b\b\b\b\b\b\b\b\b\b\b\b\b\b\b\b\b\b\b\b\b\b\b\b\b\b\b\b\b\b\b\b\b\b\b\b\b\b\r\u001b[1m500/500\u001b[0m \u001b[32m━━━━━━━━━━━━━━━━━━━━\u001b[0m\u001b[37m\u001b[0m \u001b[1m6s\u001b[0m 12ms/step - accuracy: 0.9890 - auc: 0.9991 - loss: 0.0392 - precision: 0.9840 - recall: 0.9944 - val_accuracy: 0.9887 - val_auc: 0.9992 - val_loss: 0.0313 - val_precision: 0.9868 - val_recall: 0.9908\n",
            "Epoch 77/100\n",
            "\u001b[1m500/500\u001b[0m \u001b[32m━━━━━━━━━━━━━━━━━━━━\u001b[0m\u001b[37m\u001b[0m \u001b[1m12s\u001b[0m 15ms/step - accuracy: 0.9887 - auc: 0.9991 - loss: 0.0425 - precision: 0.9839 - recall: 0.9936 - val_accuracy: 0.9822 - val_auc: 0.9992 - val_loss: 0.0458 - val_precision: 0.9934 - val_recall: 0.9710\n",
            "Epoch 78/100\n",
            "\u001b[1m497/500\u001b[0m \u001b[32m━━━━━━━━━━━━━━━━━━━\u001b[0m\u001b[37m━\u001b[0m \u001b[1m0s\u001b[0m 11ms/step - accuracy: 0.9901 - auc: 0.9989 - loss: 0.0407 - precision: 0.9869 - recall: 0.9933"
          ]
        },
        {
          "output_type": "stream",
          "name": "stderr",
          "text": [
            "WARNING:absl:You are saving your model as an HDF5 file via `model.save()` or `keras.saving.save_model(model)`. This file format is considered legacy. We recommend using instead the native Keras format, e.g. `model.save('my_model.keras')` or `keras.saving.save_model(model, 'my_model.keras')`. \n"
          ]
        },
        {
          "output_type": "stream",
          "name": "stdout",
          "text": [
            "\b\b\b\b\b\b\b\b\b\b\b\b\b\b\b\b\b\b\b\b\b\b\b\b\b\b\b\b\b\b\b\b\b\b\b\b\b\b\b\b\b\b\b\b\b\b\b\b\b\b\b\b\b\b\b\b\b\b\b\b\b\b\b\b\b\b\b\b\b\b\b\b\b\b\b\b\b\b\b\b\b\b\b\b\b\b\b\b\b\b\b\b\b\b\b\b\b\b\b\b\b\b\b\b\b\b\b\b\b\b\b\b\b\b\b\b\b\b\b\b\b\b\b\b\b\b\r\u001b[1m500/500\u001b[0m \u001b[32m━━━━━━━━━━━━━━━━━━━━\u001b[0m\u001b[37m\u001b[0m \u001b[1m9s\u001b[0m 13ms/step - accuracy: 0.9901 - auc: 0.9989 - loss: 0.0407 - precision: 0.9869 - recall: 0.9933 - val_accuracy: 0.9894 - val_auc: 0.9994 - val_loss: 0.0286 - val_precision: 0.9880 - val_recall: 0.9908\n",
            "Epoch 79/100\n",
            "\u001b[1m500/500\u001b[0m \u001b[32m━━━━━━━━━━━━━━━━━━━━\u001b[0m\u001b[37m\u001b[0m \u001b[1m6s\u001b[0m 12ms/step - accuracy: 0.9883 - auc: 0.9990 - loss: 0.0416 - precision: 0.9833 - recall: 0.9937 - val_accuracy: 0.9882 - val_auc: 0.9986 - val_loss: 0.0335 - val_precision: 0.9844 - val_recall: 0.9923\n",
            "Epoch 80/100\n",
            "\u001b[1m500/500\u001b[0m \u001b[32m━━━━━━━━━━━━━━━━━━━━\u001b[0m\u001b[37m\u001b[0m \u001b[1m11s\u001b[0m 14ms/step - accuracy: 0.9903 - auc: 0.9992 - loss: 0.0383 - precision: 0.9867 - recall: 0.9939 - val_accuracy: 0.9890 - val_auc: 0.9993 - val_loss: 0.0299 - val_precision: 0.9888 - val_recall: 0.9893\n",
            "Epoch 81/100\n",
            "\u001b[1m500/500\u001b[0m \u001b[32m━━━━━━━━━━━━━━━━━━━━\u001b[0m\u001b[37m\u001b[0m \u001b[1m6s\u001b[0m 11ms/step - accuracy: 0.9883 - auc: 0.9989 - loss: 0.0411 - precision: 0.9836 - recall: 0.9932 - val_accuracy: 0.9886 - val_auc: 0.9990 - val_loss: 0.0300 - val_precision: 0.9895 - val_recall: 0.9877\n",
            "Epoch 82/100\n",
            "\u001b[1m500/500\u001b[0m \u001b[32m━━━━━━━━━━━━━━━━━━━━\u001b[0m\u001b[37m\u001b[0m \u001b[1m10s\u001b[0m 11ms/step - accuracy: 0.9886 - auc: 0.9992 - loss: 0.0398 - precision: 0.9832 - recall: 0.9940 - val_accuracy: 0.9884 - val_auc: 0.9993 - val_loss: 0.0308 - val_precision: 0.9875 - val_recall: 0.9893\n",
            "Epoch 83/100\n",
            "\u001b[1m500/500\u001b[0m \u001b[32m━━━━━━━━━━━━━━━━━━━━\u001b[0m\u001b[37m\u001b[0m \u001b[1m11s\u001b[0m 12ms/step - accuracy: 0.9892 - auc: 0.9987 - loss: 0.0414 - precision: 0.9838 - recall: 0.9948 - val_accuracy: 0.9837 - val_auc: 0.9992 - val_loss: 0.0411 - val_precision: 0.9921 - val_recall: 0.9753\n",
            "Epoch 84/100\n",
            "\u001b[1m500/500\u001b[0m \u001b[32m━━━━━━━━━━━━━━━━━━━━\u001b[0m\u001b[37m\u001b[0m \u001b[1m7s\u001b[0m 13ms/step - accuracy: 0.9913 - auc: 0.9995 - loss: 0.0321 - precision: 0.9873 - recall: 0.9954 - val_accuracy: 0.9891 - val_auc: 0.9991 - val_loss: 0.0309 - val_precision: 0.9917 - val_recall: 0.9865\n",
            "Epoch 85/100\n",
            "\u001b[1m500/500\u001b[0m \u001b[32m━━━━━━━━━━━━━━━━━━━━\u001b[0m\u001b[37m\u001b[0m \u001b[1m9s\u001b[0m 11ms/step - accuracy: 0.9885 - auc: 0.9993 - loss: 0.0390 - precision: 0.9838 - recall: 0.9935 - val_accuracy: 0.9876 - val_auc: 0.9986 - val_loss: 0.0367 - val_precision: 0.9808 - val_recall: 0.9948\n",
            "Epoch 86/100\n",
            "\u001b[1m500/500\u001b[0m \u001b[32m━━━━━━━━━━━━━━━━━━━━\u001b[0m\u001b[37m\u001b[0m \u001b[1m7s\u001b[0m 14ms/step - accuracy: 0.9895 - auc: 0.9990 - loss: 0.0385 - precision: 0.9853 - recall: 0.9940 - val_accuracy: 0.9876 - val_auc: 0.9986 - val_loss: 0.0341 - val_precision: 0.9808 - val_recall: 0.9948\n",
            "Epoch 87/100\n",
            "\u001b[1m500/500\u001b[0m \u001b[32m━━━━━━━━━━━━━━━━━━━━\u001b[0m\u001b[37m\u001b[0m \u001b[1m10s\u001b[0m 14ms/step - accuracy: 0.9891 - auc: 0.9989 - loss: 0.0408 - precision: 0.9846 - recall: 0.9938 - val_accuracy: 0.9872 - val_auc: 0.9993 - val_loss: 0.0329 - val_precision: 0.9917 - val_recall: 0.9827\n",
            "Epoch 88/100\n",
            "\u001b[1m500/500\u001b[0m \u001b[32m━━━━━━━━━━━━━━━━━━━━\u001b[0m\u001b[37m\u001b[0m \u001b[1m9s\u001b[0m 11ms/step - accuracy: 0.9915 - auc: 0.9992 - loss: 0.0342 - precision: 0.9887 - recall: 0.9944 - val_accuracy: 0.9860 - val_auc: 0.9983 - val_loss: 0.0419 - val_precision: 0.9755 - val_recall: 0.9970\n",
            "\n",
            "Run 1 Results:\n",
            "Test Loss: 0.0875\n",
            "Test Accuracy: 0.9703\n",
            "Test Precision: 0.9461\n",
            "Test Recall: 0.9344\n",
            "Test AUC: 0.9907\n",
            "\n",
            "==================================================\n",
            "Run 2/5\n",
            "==================================================\n",
            "Epoch 1/100\n",
            "\u001b[1m500/500\u001b[0m \u001b[32m━━━━━━━━━━━━━━━━━━━━\u001b[0m\u001b[37m\u001b[0m \u001b[1m10s\u001b[0m 13ms/step - accuracy: 0.8212 - auc: 0.8961 - loss: 0.5724 - precision: 0.8025 - recall: 0.8510 - val_accuracy: 0.9400 - val_auc: 0.9849 - val_loss: 0.2037 - val_precision: 0.9243 - val_recall: 0.9585\n",
            "Epoch 2/100\n",
            "\u001b[1m500/500\u001b[0m \u001b[32m━━━━━━━━━━━━━━━━━━━━\u001b[0m\u001b[37m\u001b[0m \u001b[1m10s\u001b[0m 11ms/step - accuracy: 0.9197 - auc: 0.9762 - loss: 0.2741 - precision: 0.8909 - recall: 0.9574 - val_accuracy: 0.9454 - val_auc: 0.9885 - val_loss: 0.1414 - val_precision: 0.9265 - val_recall: 0.9675\n",
            "Epoch 3/100\n",
            "\u001b[1m500/500\u001b[0m \u001b[32m━━━━━━━━━━━━━━━━━━━━\u001b[0m\u001b[37m\u001b[0m \u001b[1m10s\u001b[0m 11ms/step - accuracy: 0.9255 - auc: 0.9799 - loss: 0.2516 - precision: 0.8976 - recall: 0.9591 - val_accuracy: 0.9464 - val_auc: 0.9902 - val_loss: 0.1396 - val_precision: 0.9240 - val_recall: 0.9728\n",
            "Epoch 4/100\n",
            "\u001b[1m500/500\u001b[0m \u001b[32m━━━━━━━━━━━━━━━━━━━━\u001b[0m\u001b[37m\u001b[0m \u001b[1m8s\u001b[0m 16ms/step - accuracy: 0.9358 - auc: 0.9830 - loss: 0.2259 - precision: 0.9136 - recall: 0.9630 - val_accuracy: 0.9514 - val_auc: 0.9906 - val_loss: 0.1307 - val_precision: 0.9664 - val_recall: 0.9352\n",
            "Epoch 5/100\n",
            "\u001b[1m500/500\u001b[0m \u001b[32m━━━━━━━━━━━━━━━━━━━━\u001b[0m\u001b[37m\u001b[0m \u001b[1m8s\u001b[0m 11ms/step - accuracy: 0.9402 - auc: 0.9848 - loss: 0.2111 - precision: 0.9210 - recall: 0.9641 - val_accuracy: 0.9382 - val_auc: 0.9915 - val_loss: 0.1537 - val_precision: 0.9043 - val_recall: 0.9803\n",
            "Epoch 6/100\n",
            "\u001b[1m500/500\u001b[0m \u001b[32m━━━━━━━━━━━━━━━━━━━━\u001b[0m\u001b[37m\u001b[0m \u001b[1m10s\u001b[0m 12ms/step - accuracy: 0.9381 - auc: 0.9859 - loss: 0.2068 - precision: 0.9169 - recall: 0.9638 - val_accuracy: 0.9572 - val_auc: 0.9934 - val_loss: 0.1106 - val_precision: 0.9411 - val_recall: 0.9755\n",
            "Epoch 7/100\n",
            "\u001b[1m500/500\u001b[0m \u001b[32m━━━━━━━━━━━━━━━━━━━━\u001b[0m\u001b[37m\u001b[0m \u001b[1m11s\u001b[0m 13ms/step - accuracy: 0.9431 - auc: 0.9884 - loss: 0.1886 - precision: 0.9218 - recall: 0.9678 - val_accuracy: 0.9537 - val_auc: 0.9939 - val_loss: 0.1168 - val_precision: 0.9311 - val_recall: 0.9800\n",
            "Epoch 8/100\n",
            "\u001b[1m500/500\u001b[0m \u001b[32m━━━━━━━━━━━━━━━━━━━━\u001b[0m\u001b[37m\u001b[0m \u001b[1m10s\u001b[0m 14ms/step - accuracy: 0.9483 - auc: 0.9888 - loss: 0.1799 - precision: 0.9287 - recall: 0.9710 - val_accuracy: 0.9524 - val_auc: 0.9946 - val_loss: 0.1177 - val_precision: 0.9261 - val_recall: 0.9833\n",
            "Epoch 9/100\n",
            "\u001b[1m500/500\u001b[0m \u001b[32m━━━━━━━━━━━━━━━━━━━━\u001b[0m\u001b[37m\u001b[0m \u001b[1m6s\u001b[0m 11ms/step - accuracy: 0.9503 - auc: 0.9909 - loss: 0.1664 - precision: 0.9319 - recall: 0.9713 - val_accuracy: 0.9667 - val_auc: 0.9953 - val_loss: 0.0894 - val_precision: 0.9594 - val_recall: 0.9747\n",
            "Epoch 10/100\n",
            "\u001b[1m500/500\u001b[0m \u001b[32m━━━━━━━━━━━━━━━━━━━━\u001b[0m\u001b[37m\u001b[0m \u001b[1m11s\u001b[0m 12ms/step - accuracy: 0.9521 - auc: 0.9917 - loss: 0.1579 - precision: 0.9337 - recall: 0.9734 - val_accuracy: 0.9672 - val_auc: 0.9958 - val_loss: 0.0842 - val_precision: 0.9597 - val_recall: 0.9755\n",
            "Epoch 11/100\n",
            "\u001b[1m500/500\u001b[0m \u001b[32m━━━━━━━━━━━━━━━━━━━━\u001b[0m\u001b[37m\u001b[0m \u001b[1m11s\u001b[0m 14ms/step - accuracy: 0.9580 - auc: 0.9922 - loss: 0.1519 - precision: 0.9455 - recall: 0.9732 - val_accuracy: 0.9689 - val_auc: 0.9960 - val_loss: 0.0844 - val_precision: 0.9769 - val_recall: 0.9605\n",
            "Epoch 12/100\n",
            "\u001b[1m500/500\u001b[0m \u001b[32m━━━━━━━━━━━━━━━━━━━━\u001b[0m\u001b[37m\u001b[0m \u001b[1m11s\u001b[0m 14ms/step - accuracy: 0.9590 - auc: 0.9927 - loss: 0.1447 - precision: 0.9448 - recall: 0.9749 - val_accuracy: 0.9512 - val_auc: 0.9953 - val_loss: 0.1214 - val_precision: 0.9188 - val_recall: 0.9900\n",
            "Epoch 13/100\n",
            "\u001b[1m500/500\u001b[0m \u001b[32m━━━━━━━━━━━━━━━━━━━━\u001b[0m\u001b[37m\u001b[0m \u001b[1m9s\u001b[0m 11ms/step - accuracy: 0.9601 - auc: 0.9934 - loss: 0.1398 - precision: 0.9445 - recall: 0.9773 - val_accuracy: 0.9681 - val_auc: 0.9958 - val_loss: 0.0817 - val_precision: 0.9577 - val_recall: 0.9795\n",
            "Epoch 14/100\n",
            "\u001b[1m500/500\u001b[0m \u001b[32m━━━━━━━━━━━━━━━━━━━━\u001b[0m\u001b[37m\u001b[0m \u001b[1m7s\u001b[0m 14ms/step - accuracy: 0.9604 - auc: 0.9934 - loss: 0.1357 - precision: 0.9476 - recall: 0.9750 - val_accuracy: 0.9649 - val_auc: 0.9961 - val_loss: 0.0923 - val_precision: 0.9441 - val_recall: 0.9883\n",
            "Epoch 15/100\n",
            "\u001b[1m500/500\u001b[0m \u001b[32m━━━━━━━━━━━━━━━━━━━━\u001b[0m\u001b[37m\u001b[0m \u001b[1m10s\u001b[0m 13ms/step - accuracy: 0.9656 - auc: 0.9944 - loss: 0.1243 - precision: 0.9534 - recall: 0.9795 - val_accuracy: 0.9726 - val_auc: 0.9968 - val_loss: 0.0721 - val_precision: 0.9644 - val_recall: 0.9815\n",
            "Epoch 16/100\n",
            "\u001b[1m500/500\u001b[0m \u001b[32m━━━━━━━━━━━━━━━━━━━━\u001b[0m\u001b[37m\u001b[0m \u001b[1m10s\u001b[0m 11ms/step - accuracy: 0.9638 - auc: 0.9936 - loss: 0.1300 - precision: 0.9508 - recall: 0.9783 - val_accuracy: 0.9629 - val_auc: 0.9961 - val_loss: 0.0950 - val_precision: 0.9395 - val_recall: 0.9895\n",
            "Epoch 17/100\n",
            "\u001b[1m500/500\u001b[0m \u001b[32m━━━━━━━━━━━━━━━━━━━━\u001b[0m\u001b[37m\u001b[0m \u001b[1m7s\u001b[0m 14ms/step - accuracy: 0.9648 - auc: 0.9945 - loss: 0.1250 - precision: 0.9522 - recall: 0.9784 - val_accuracy: 0.9764 - val_auc: 0.9973 - val_loss: 0.0641 - val_precision: 0.9727 - val_recall: 0.9803\n",
            "Epoch 18/100\n",
            "\u001b[1m500/500\u001b[0m \u001b[32m━━━━━━━━━━━━━━━━━━━━\u001b[0m\u001b[37m\u001b[0m \u001b[1m11s\u001b[0m 15ms/step - accuracy: 0.9670 - auc: 0.9946 - loss: 0.1227 - precision: 0.9548 - recall: 0.9802 - val_accuracy: 0.9725 - val_auc: 0.9973 - val_loss: 0.0700 - val_precision: 0.9587 - val_recall: 0.9875\n",
            "Epoch 19/100\n",
            "\u001b[1m500/500\u001b[0m \u001b[32m━━━━━━━━━━━━━━━━━━━━\u001b[0m\u001b[37m\u001b[0m \u001b[1m9s\u001b[0m 12ms/step - accuracy: 0.9690 - auc: 0.9951 - loss: 0.1136 - precision: 0.9578 - recall: 0.9818 - val_accuracy: 0.9766 - val_auc: 0.9975 - val_loss: 0.0630 - val_precision: 0.9716 - val_recall: 0.9820\n",
            "Epoch 20/100\n",
            "\u001b[1m500/500\u001b[0m \u001b[32m━━━━━━━━━━━━━━━━━━━━\u001b[0m\u001b[37m\u001b[0m \u001b[1m10s\u001b[0m 12ms/step - accuracy: 0.9670 - auc: 0.9948 - loss: 0.1159 - precision: 0.9526 - recall: 0.9820 - val_accuracy: 0.9751 - val_auc: 0.9976 - val_loss: 0.0661 - val_precision: 0.9621 - val_recall: 0.9893\n",
            "Epoch 21/100\n",
            "\u001b[1m500/500\u001b[0m \u001b[32m━━━━━━━━━━━━━━━━━━━━\u001b[0m\u001b[37m\u001b[0m \u001b[1m7s\u001b[0m 13ms/step - accuracy: 0.9690 - auc: 0.9957 - loss: 0.1068 - precision: 0.9557 - recall: 0.9834 - val_accuracy: 0.9792 - val_auc: 0.9976 - val_loss: 0.0608 - val_precision: 0.9797 - val_recall: 0.9787\n",
            "Epoch 22/100\n",
            "\u001b[1m500/500\u001b[0m \u001b[32m━━━━━━━━━━━━━━━━━━━━\u001b[0m\u001b[37m\u001b[0m \u001b[1m9s\u001b[0m 11ms/step - accuracy: 0.9711 - auc: 0.9958 - loss: 0.1058 - precision: 0.9590 - recall: 0.9842 - val_accuracy: 0.9724 - val_auc: 0.9971 - val_loss: 0.0748 - val_precision: 0.9545 - val_recall: 0.9920\n",
            "Epoch 23/100\n",
            "\u001b[1m500/500\u001b[0m \u001b[32m━━━━━━━━━━━━━━━━━━━━\u001b[0m\u001b[37m\u001b[0m \u001b[1m10s\u001b[0m 11ms/step - accuracy: 0.9703 - auc: 0.9951 - loss: 0.1110 - precision: 0.9598 - recall: 0.9815 - val_accuracy: 0.9744 - val_auc: 0.9976 - val_loss: 0.0690 - val_precision: 0.9582 - val_recall: 0.9920\n",
            "Epoch 24/100\n",
            "\u001b[1m500/500\u001b[0m \u001b[32m━━━━━━━━━━━━━━━━━━━━\u001b[0m\u001b[37m\u001b[0m \u001b[1m11s\u001b[0m 12ms/step - accuracy: 0.9722 - auc: 0.9965 - loss: 0.0977 - precision: 0.9609 - recall: 0.9846 - val_accuracy: 0.9806 - val_auc: 0.9978 - val_loss: 0.0548 - val_precision: 0.9769 - val_recall: 0.9845\n",
            "Epoch 25/100\n",
            "\u001b[1m500/500\u001b[0m \u001b[32m━━━━━━━━━━━━━━━━━━━━\u001b[0m\u001b[37m\u001b[0m \u001b[1m7s\u001b[0m 13ms/step - accuracy: 0.9729 - auc: 0.9956 - loss: 0.1010 - precision: 0.9612 - recall: 0.9854 - val_accuracy: 0.9796 - val_auc: 0.9976 - val_loss: 0.0600 - val_precision: 0.9708 - val_recall: 0.9890\n",
            "Epoch 26/100\n",
            "\u001b[1m500/500\u001b[0m \u001b[32m━━━━━━━━━━━━━━━━━━━━\u001b[0m\u001b[37m\u001b[0m \u001b[1m9s\u001b[0m 11ms/step - accuracy: 0.9736 - auc: 0.9962 - loss: 0.0955 - precision: 0.9637 - recall: 0.9844 - val_accuracy: 0.9745 - val_auc: 0.9976 - val_loss: 0.0689 - val_precision: 0.9578 - val_recall: 0.9927\n",
            "Epoch 27/100\n",
            "\u001b[1m500/500\u001b[0m \u001b[32m━━━━━━━━━━━━━━━━━━━━\u001b[0m\u001b[37m\u001b[0m \u001b[1m7s\u001b[0m 14ms/step - accuracy: 0.9756 - auc: 0.9968 - loss: 0.0897 - precision: 0.9660 - recall: 0.9862 - val_accuracy: 0.9765 - val_auc: 0.9980 - val_loss: 0.0682 - val_precision: 0.9912 - val_recall: 0.9615\n",
            "Epoch 28/100\n",
            "\u001b[1m500/500\u001b[0m \u001b[32m━━━━━━━━━━━━━━━━━━━━\u001b[0m\u001b[37m\u001b[0m \u001b[1m10s\u001b[0m 13ms/step - accuracy: 0.9748 - auc: 0.9968 - loss: 0.0922 - precision: 0.9640 - recall: 0.9862 - val_accuracy: 0.9727 - val_auc: 0.9973 - val_loss: 0.0719 - val_precision: 0.9543 - val_recall: 0.9930\n",
            "Epoch 29/100\n",
            "\u001b[1m500/500\u001b[0m \u001b[32m━━━━━━━━━━━━━━━━━━━━\u001b[0m\u001b[37m\u001b[0m \u001b[1m10s\u001b[0m 12ms/step - accuracy: 0.9753 - auc: 0.9967 - loss: 0.0904 - precision: 0.9653 - recall: 0.9858 - val_accuracy: 0.9830 - val_auc: 0.9984 - val_loss: 0.0493 - val_precision: 0.9780 - val_recall: 0.9883\n",
            "Epoch 30/100\n",
            "\u001b[1m500/500\u001b[0m \u001b[32m━━━━━━━━━━━━━━━━━━━━\u001b[0m\u001b[37m\u001b[0m \u001b[1m7s\u001b[0m 14ms/step - accuracy: 0.9757 - auc: 0.9969 - loss: 0.0871 - precision: 0.9664 - recall: 0.9859 - val_accuracy: 0.9826 - val_auc: 0.9983 - val_loss: 0.0491 - val_precision: 0.9813 - val_recall: 0.9840\n",
            "Epoch 31/100\n",
            "\u001b[1m500/500\u001b[0m \u001b[32m━━━━━━━━━━━━━━━━━━━━\u001b[0m\u001b[37m\u001b[0m \u001b[1m6s\u001b[0m 11ms/step - accuracy: 0.9758 - auc: 0.9970 - loss: 0.0881 - precision: 0.9658 - recall: 0.9862 - val_accuracy: 0.9841 - val_auc: 0.9983 - val_loss: 0.0470 - val_precision: 0.9845 - val_recall: 0.9837\n",
            "Epoch 32/100\n",
            "\u001b[1m500/500\u001b[0m \u001b[32m━━━━━━━━━━━━━━━━━━━━\u001b[0m\u001b[37m\u001b[0m \u001b[1m10s\u001b[0m 12ms/step - accuracy: 0.9767 - auc: 0.9968 - loss: 0.0860 - precision: 0.9660 - recall: 0.9874 - val_accuracy: 0.9711 - val_auc: 0.9968 - val_loss: 0.0809 - val_precision: 0.9503 - val_recall: 0.9942\n",
            "Epoch 33/100\n",
            "\u001b[1m500/500\u001b[0m \u001b[32m━━━━━━━━━━━━━━━━━━━━\u001b[0m\u001b[37m\u001b[0m \u001b[1m12s\u001b[0m 15ms/step - accuracy: 0.9770 - auc: 0.9972 - loss: 0.0826 - precision: 0.9688 - recall: 0.9861 - val_accuracy: 0.9841 - val_auc: 0.9984 - val_loss: 0.0469 - val_precision: 0.9814 - val_recall: 0.9870\n",
            "Epoch 34/100\n",
            "\u001b[1m500/500\u001b[0m \u001b[32m━━━━━━━━━━━━━━━━━━━━\u001b[0m\u001b[37m\u001b[0m \u001b[1m6s\u001b[0m 13ms/step - accuracy: 0.9790 - auc: 0.9974 - loss: 0.0767 - precision: 0.9695 - recall: 0.9891 - val_accuracy: 0.9794 - val_auc: 0.9979 - val_loss: 0.0547 - val_precision: 0.9678 - val_recall: 0.9918\n",
            "Epoch 35/100\n",
            "\u001b[1m500/500\u001b[0m \u001b[32m━━━━━━━━━━━━━━━━━━━━\u001b[0m\u001b[37m\u001b[0m \u001b[1m6s\u001b[0m 12ms/step - accuracy: 0.9796 - auc: 0.9974 - loss: 0.0795 - precision: 0.9730 - recall: 0.9866 - val_accuracy: 0.9821 - val_auc: 0.9981 - val_loss: 0.0523 - val_precision: 0.9730 - val_recall: 0.9918\n",
            "Epoch 36/100\n",
            "\u001b[1m500/500\u001b[0m \u001b[32m━━━━━━━━━━━━━━━━━━━━\u001b[0m\u001b[37m\u001b[0m \u001b[1m11s\u001b[0m 14ms/step - accuracy: 0.9794 - auc: 0.9973 - loss: 0.0791 - precision: 0.9704 - recall: 0.9892 - val_accuracy: 0.9850 - val_auc: 0.9985 - val_loss: 0.0439 - val_precision: 0.9828 - val_recall: 0.9872\n",
            "Epoch 37/100\n",
            "\u001b[1m500/500\u001b[0m \u001b[32m━━━━━━━━━━━━━━━━━━━━\u001b[0m\u001b[37m\u001b[0m \u001b[1m6s\u001b[0m 12ms/step - accuracy: 0.9812 - auc: 0.9976 - loss: 0.0719 - precision: 0.9743 - recall: 0.9887 - val_accuracy: 0.9842 - val_auc: 0.9982 - val_loss: 0.0462 - val_precision: 0.9783 - val_recall: 0.9905\n",
            "Epoch 38/100\n",
            "\u001b[1m500/500\u001b[0m \u001b[32m━━━━━━━━━━━━━━━━━━━━\u001b[0m\u001b[37m\u001b[0m \u001b[1m10s\u001b[0m 11ms/step - accuracy: 0.9810 - auc: 0.9974 - loss: 0.0727 - precision: 0.9729 - recall: 0.9895 - val_accuracy: 0.9854 - val_auc: 0.9986 - val_loss: 0.0440 - val_precision: 0.9848 - val_recall: 0.9860\n",
            "Epoch 39/100\n",
            "\u001b[1m500/500\u001b[0m \u001b[32m━━━━━━━━━━━━━━━━━━━━\u001b[0m\u001b[37m\u001b[0m \u001b[1m11s\u001b[0m 12ms/step - accuracy: 0.9802 - auc: 0.9976 - loss: 0.0711 - precision: 0.9713 - recall: 0.9898 - val_accuracy: 0.9842 - val_auc: 0.9980 - val_loss: 0.0464 - val_precision: 0.9787 - val_recall: 0.9900\n",
            "Epoch 40/100\n",
            "\u001b[1m500/500\u001b[0m \u001b[32m━━━━━━━━━━━━━━━━━━━━\u001b[0m\u001b[37m\u001b[0m \u001b[1m11s\u001b[0m 14ms/step - accuracy: 0.9821 - auc: 0.9983 - loss: 0.0656 - precision: 0.9749 - recall: 0.9899 - val_accuracy: 0.9850 - val_auc: 0.9985 - val_loss: 0.0446 - val_precision: 0.9795 - val_recall: 0.9908\n",
            "Epoch 41/100\n",
            "\u001b[1m500/500\u001b[0m \u001b[32m━━━━━━━━━━━━━━━━━━━━\u001b[0m\u001b[37m\u001b[0m \u001b[1m6s\u001b[0m 11ms/step - accuracy: 0.9812 - auc: 0.9978 - loss: 0.0684 - precision: 0.9731 - recall: 0.9896 - val_accuracy: 0.9862 - val_auc: 0.9987 - val_loss: 0.0424 - val_precision: 0.9882 - val_recall: 0.9843\n",
            "Epoch 42/100\n",
            "\u001b[1m500/500\u001b[0m \u001b[32m━━━━━━━━━━━━━━━━━━━━\u001b[0m\u001b[37m\u001b[0m \u001b[1m10s\u001b[0m 12ms/step - accuracy: 0.9817 - auc: 0.9977 - loss: 0.0686 - precision: 0.9743 - recall: 0.9893 - val_accuracy: 0.9845 - val_auc: 0.9985 - val_loss: 0.0440 - val_precision: 0.9797 - val_recall: 0.9895\n",
            "Epoch 43/100\n",
            "\u001b[1m500/500\u001b[0m \u001b[32m━━━━━━━━━━━━━━━━━━━━\u001b[0m\u001b[37m\u001b[0m \u001b[1m11s\u001b[0m 12ms/step - accuracy: 0.9814 - auc: 0.9976 - loss: 0.0663 - precision: 0.9723 - recall: 0.9906 - val_accuracy: 0.9849 - val_auc: 0.9984 - val_loss: 0.0420 - val_precision: 0.9814 - val_recall: 0.9885\n",
            "Epoch 44/100\n",
            "\u001b[1m500/500\u001b[0m \u001b[32m━━━━━━━━━━━━━━━━━━━━\u001b[0m\u001b[37m\u001b[0m \u001b[1m6s\u001b[0m 12ms/step - accuracy: 0.9826 - auc: 0.9977 - loss: 0.0664 - precision: 0.9750 - recall: 0.9908 - val_accuracy: 0.9780 - val_auc: 0.9983 - val_loss: 0.0625 - val_precision: 0.9935 - val_recall: 0.9622\n",
            "Epoch 45/100\n",
            "\u001b[1m500/500\u001b[0m \u001b[32m━━━━━━━━━━━━━━━━━━━━\u001b[0m\u001b[37m\u001b[0m \u001b[1m10s\u001b[0m 11ms/step - accuracy: 0.9835 - auc: 0.9983 - loss: 0.0601 - precision: 0.9770 - recall: 0.9903 - val_accuracy: 0.9717 - val_auc: 0.9969 - val_loss: 0.0790 - val_precision: 0.9504 - val_recall: 0.9955\n",
            "Epoch 46/100\n",
            "\u001b[1m500/500\u001b[0m \u001b[32m━━━━━━━━━━━━━━━━━━━━\u001b[0m\u001b[37m\u001b[0m \u001b[1m10s\u001b[0m 12ms/step - accuracy: 0.9825 - auc: 0.9983 - loss: 0.0621 - precision: 0.9751 - recall: 0.9905 - val_accuracy: 0.9854 - val_auc: 0.9987 - val_loss: 0.0393 - val_precision: 0.9838 - val_recall: 0.9870\n",
            "Epoch 47/100\n",
            "\u001b[1m500/500\u001b[0m \u001b[32m━━━━━━━━━━━━━━━━━━━━\u001b[0m\u001b[37m\u001b[0m \u001b[1m12s\u001b[0m 14ms/step - accuracy: 0.9842 - auc: 0.9984 - loss: 0.0574 - precision: 0.9776 - recall: 0.9910 - val_accuracy: 0.9860 - val_auc: 0.9986 - val_loss: 0.0412 - val_precision: 0.9855 - val_recall: 0.9865\n",
            "Epoch 48/100\n",
            "\u001b[1m500/500\u001b[0m \u001b[32m━━━━━━━━━━━━━━━━━━━━\u001b[0m\u001b[37m\u001b[0m \u001b[1m10s\u001b[0m 14ms/step - accuracy: 0.9841 - auc: 0.9984 - loss: 0.0578 - precision: 0.9769 - recall: 0.9915 - val_accuracy: 0.9866 - val_auc: 0.9988 - val_loss: 0.0387 - val_precision: 0.9870 - val_recall: 0.9862\n",
            "Epoch 49/100\n",
            "\u001b[1m500/500\u001b[0m \u001b[32m━━━━━━━━━━━━━━━━━━━━\u001b[0m\u001b[37m\u001b[0m \u001b[1m6s\u001b[0m 11ms/step - accuracy: 0.9835 - auc: 0.9983 - loss: 0.0623 - precision: 0.9778 - recall: 0.9894 - val_accuracy: 0.9861 - val_auc: 0.9987 - val_loss: 0.0406 - val_precision: 0.9810 - val_recall: 0.9915\n",
            "Epoch 50/100\n",
            "\u001b[1m500/500\u001b[0m \u001b[32m━━━━━━━━━━━━━━━━━━━━\u001b[0m\u001b[37m\u001b[0m \u001b[1m10s\u001b[0m 12ms/step - accuracy: 0.9835 - auc: 0.9982 - loss: 0.0629 - precision: 0.9762 - recall: 0.9912 - val_accuracy: 0.9835 - val_auc: 0.9987 - val_loss: 0.0444 - val_precision: 0.9740 - val_recall: 0.9935\n",
            "Epoch 51/100\n",
            "\u001b[1m500/500\u001b[0m \u001b[32m━━━━━━━━━━━━━━━━━━━━\u001b[0m\u001b[37m\u001b[0m \u001b[1m7s\u001b[0m 14ms/step - accuracy: 0.9824 - auc: 0.9984 - loss: 0.0627 - precision: 0.9741 - recall: 0.9911 - val_accuracy: 0.9874 - val_auc: 0.9986 - val_loss: 0.0382 - val_precision: 0.9870 - val_recall: 0.9877\n",
            "Epoch 52/100\n",
            "\u001b[1m500/500\u001b[0m \u001b[32m━━━━━━━━━━━━━━━━━━━━\u001b[0m\u001b[37m\u001b[0m \u001b[1m9s\u001b[0m 12ms/step - accuracy: 0.9839 - auc: 0.9983 - loss: 0.0627 - precision: 0.9773 - recall: 0.9906 - val_accuracy: 0.9792 - val_auc: 0.9985 - val_loss: 0.0586 - val_precision: 0.9933 - val_recall: 0.9650\n",
            "Epoch 53/100\n",
            "\u001b[1m500/500\u001b[0m \u001b[32m━━━━━━━━━━━━━━━━━━━━\u001b[0m\u001b[37m\u001b[0m \u001b[1m7s\u001b[0m 14ms/step - accuracy: 0.9834 - auc: 0.9983 - loss: 0.0600 - precision: 0.9770 - recall: 0.9901 - val_accuracy: 0.9866 - val_auc: 0.9986 - val_loss: 0.0380 - val_precision: 0.9822 - val_recall: 0.9912\n",
            "Epoch 54/100\n",
            "\u001b[1m500/500\u001b[0m \u001b[32m━━━━━━━━━━━━━━━━━━━━\u001b[0m\u001b[37m\u001b[0m \u001b[1m10s\u001b[0m 14ms/step - accuracy: 0.9842 - auc: 0.9983 - loss: 0.0592 - precision: 0.9784 - recall: 0.9905 - val_accuracy: 0.9877 - val_auc: 0.9986 - val_loss: 0.0364 - val_precision: 0.9858 - val_recall: 0.9898\n",
            "Epoch 55/100\n",
            "\u001b[1m500/500\u001b[0m \u001b[32m━━━━━━━━━━━━━━━━━━━━\u001b[0m\u001b[37m\u001b[0m \u001b[1m9s\u001b[0m 12ms/step - accuracy: 0.9847 - auc: 0.9982 - loss: 0.0576 - precision: 0.9790 - recall: 0.9908 - val_accuracy: 0.9877 - val_auc: 0.9988 - val_loss: 0.0360 - val_precision: 0.9877 - val_recall: 0.9877\n",
            "Epoch 56/100\n",
            "\u001b[1m500/500\u001b[0m \u001b[32m━━━━━━━━━━━━━━━━━━━━\u001b[0m\u001b[37m\u001b[0m \u001b[1m7s\u001b[0m 14ms/step - accuracy: 0.9853 - auc: 0.9985 - loss: 0.0555 - precision: 0.9787 - recall: 0.9921 - val_accuracy: 0.9851 - val_auc: 0.9987 - val_loss: 0.0405 - val_precision: 0.9778 - val_recall: 0.9927\n",
            "Epoch 57/100\n",
            "\u001b[1m500/500\u001b[0m \u001b[32m━━━━━━━━━━━━━━━━━━━━\u001b[0m\u001b[37m\u001b[0m \u001b[1m6s\u001b[0m 12ms/step - accuracy: 0.9845 - auc: 0.9984 - loss: 0.0551 - precision: 0.9788 - recall: 0.9904 - val_accuracy: 0.9811 - val_auc: 0.9989 - val_loss: 0.0484 - val_precision: 0.9933 - val_recall: 0.9688\n",
            "Epoch 58/100\n",
            "\u001b[1m500/500\u001b[0m \u001b[32m━━━━━━━━━━━━━━━━━━━━\u001b[0m\u001b[37m\u001b[0m \u001b[1m10s\u001b[0m 11ms/step - accuracy: 0.9861 - auc: 0.9989 - loss: 0.0492 - precision: 0.9799 - recall: 0.9926 - val_accuracy: 0.9816 - val_auc: 0.9988 - val_loss: 0.0452 - val_precision: 0.9936 - val_recall: 0.9695\n",
            "Epoch 59/100\n",
            "\u001b[1m500/500\u001b[0m \u001b[32m━━━━━━━━━━━━━━━━━━━━\u001b[0m\u001b[37m\u001b[0m \u001b[1m10s\u001b[0m 12ms/step - accuracy: 0.9866 - auc: 0.9983 - loss: 0.0539 - precision: 0.9797 - recall: 0.9938 - val_accuracy: 0.9869 - val_auc: 0.9986 - val_loss: 0.0371 - val_precision: 0.9824 - val_recall: 0.9915\n",
            "Epoch 60/100\n",
            "\u001b[1m500/500\u001b[0m \u001b[32m━━━━━━━━━━━━━━━━━━━━\u001b[0m\u001b[37m\u001b[0m \u001b[1m7s\u001b[0m 14ms/step - accuracy: 0.9859 - auc: 0.9983 - loss: 0.0541 - precision: 0.9807 - recall: 0.9913 - val_accuracy: 0.9874 - val_auc: 0.9991 - val_loss: 0.0353 - val_precision: 0.9922 - val_recall: 0.9825\n",
            "Epoch 61/100\n",
            "\u001b[1m500/500\u001b[0m \u001b[32m━━━━━━━━━━━━━━━━━━━━\u001b[0m\u001b[37m\u001b[0m \u001b[1m9s\u001b[0m 12ms/step - accuracy: 0.9871 - auc: 0.9988 - loss: 0.0471 - precision: 0.9818 - recall: 0.9925 - val_accuracy: 0.9867 - val_auc: 0.9990 - val_loss: 0.0363 - val_precision: 0.9912 - val_recall: 0.9822\n",
            "Epoch 62/100\n",
            "\u001b[1m500/500\u001b[0m \u001b[32m━━━━━━━━━━━━━━━━━━━━\u001b[0m\u001b[37m\u001b[0m \u001b[1m7s\u001b[0m 14ms/step - accuracy: 0.9854 - auc: 0.9988 - loss: 0.0512 - precision: 0.9782 - recall: 0.9927 - val_accuracy: 0.9855 - val_auc: 0.9987 - val_loss: 0.0433 - val_precision: 0.9767 - val_recall: 0.9948\n",
            "Epoch 63/100\n",
            "\u001b[1m500/500\u001b[0m \u001b[32m━━━━━━━━━━━━━━━━━━━━\u001b[0m\u001b[37m\u001b[0m \u001b[1m7s\u001b[0m 14ms/step - accuracy: 0.9873 - auc: 0.9987 - loss: 0.0482 - precision: 0.9821 - recall: 0.9927 - val_accuracy: 0.9880 - val_auc: 0.9991 - val_loss: 0.0343 - val_precision: 0.9900 - val_recall: 0.9860\n",
            "Epoch 64/100\n",
            "\u001b[1m500/500\u001b[0m \u001b[32m━━━━━━━━━━━━━━━━━━━━\u001b[0m\u001b[37m\u001b[0m \u001b[1m7s\u001b[0m 14ms/step - accuracy: 0.9861 - auc: 0.9989 - loss: 0.0500 - precision: 0.9820 - recall: 0.9905 - val_accuracy: 0.9879 - val_auc: 0.9991 - val_loss: 0.0329 - val_precision: 0.9907 - val_recall: 0.9850\n",
            "Epoch 65/100\n",
            "\u001b[1m500/500\u001b[0m \u001b[32m━━━━━━━━━━━━━━━━━━━━\u001b[0m\u001b[37m\u001b[0m \u001b[1m6s\u001b[0m 12ms/step - accuracy: 0.9872 - auc: 0.9990 - loss: 0.0440 - precision: 0.9812 - recall: 0.9935 - val_accuracy: 0.9856 - val_auc: 0.9985 - val_loss: 0.0393 - val_precision: 0.9774 - val_recall: 0.9942\n",
            "Epoch 66/100\n",
            "\u001b[1m500/500\u001b[0m \u001b[32m━━━━━━━━━━━━━━━━━━━━\u001b[0m\u001b[37m\u001b[0m \u001b[1m10s\u001b[0m 12ms/step - accuracy: 0.9870 - auc: 0.9985 - loss: 0.0495 - precision: 0.9809 - recall: 0.9935 - val_accuracy: 0.9884 - val_auc: 0.9991 - val_loss: 0.0330 - val_precision: 0.9907 - val_recall: 0.9860\n",
            "Epoch 67/100\n",
            "\u001b[1m500/500\u001b[0m \u001b[32m━━━━━━━━━━━━━━━━━━━━\u001b[0m\u001b[37m\u001b[0m \u001b[1m10s\u001b[0m 12ms/step - accuracy: 0.9871 - auc: 0.9987 - loss: 0.0472 - precision: 0.9810 - recall: 0.9933 - val_accuracy: 0.9859 - val_auc: 0.9988 - val_loss: 0.0375 - val_precision: 0.9786 - val_recall: 0.9935\n",
            "Epoch 68/100\n",
            "\u001b[1m500/500\u001b[0m \u001b[32m━━━━━━━━━━━━━━━━━━━━\u001b[0m\u001b[37m\u001b[0m \u001b[1m11s\u001b[0m 14ms/step - accuracy: 0.9864 - auc: 0.9988 - loss: 0.0499 - precision: 0.9811 - recall: 0.9920 - val_accuracy: 0.9886 - val_auc: 0.9992 - val_loss: 0.0316 - val_precision: 0.9905 - val_recall: 0.9868\n",
            "Epoch 69/100\n",
            "\u001b[1m500/500\u001b[0m \u001b[32m━━━━━━━━━━━━━━━━━━━━\u001b[0m\u001b[37m\u001b[0m \u001b[1m10s\u001b[0m 14ms/step - accuracy: 0.9871 - auc: 0.9988 - loss: 0.0467 - precision: 0.9814 - recall: 0.9931 - val_accuracy: 0.9867 - val_auc: 0.9984 - val_loss: 0.0371 - val_precision: 0.9812 - val_recall: 0.9925\n",
            "Epoch 70/100\n",
            "\u001b[1m500/500\u001b[0m \u001b[32m━━━━━━━━━━━━━━━━━━━━\u001b[0m\u001b[37m\u001b[0m \u001b[1m9s\u001b[0m 12ms/step - accuracy: 0.9887 - auc: 0.9987 - loss: 0.0470 - precision: 0.9840 - recall: 0.9935 - val_accuracy: 0.9886 - val_auc: 0.9990 - val_loss: 0.0321 - val_precision: 0.9858 - val_recall: 0.9915\n",
            "Epoch 71/100\n",
            "\u001b[1m500/500\u001b[0m \u001b[32m━━━━━━━━━━━━━━━━━━━━\u001b[0m\u001b[37m\u001b[0m \u001b[1m10s\u001b[0m 12ms/step - accuracy: 0.9870 - auc: 0.9989 - loss: 0.0466 - precision: 0.9817 - recall: 0.9923 - val_accuracy: 0.9881 - val_auc: 0.9989 - val_loss: 0.0341 - val_precision: 0.9922 - val_recall: 0.9840\n",
            "Epoch 72/100\n",
            "\u001b[1m500/500\u001b[0m \u001b[32m━━━━━━━━━━━━━━━━━━━━\u001b[0m\u001b[37m\u001b[0m \u001b[1m10s\u001b[0m 12ms/step - accuracy: 0.9883 - auc: 0.9992 - loss: 0.0422 - precision: 0.9831 - recall: 0.9938 - val_accuracy: 0.9885 - val_auc: 0.9991 - val_loss: 0.0323 - val_precision: 0.9890 - val_recall: 0.9880\n",
            "Epoch 73/100\n",
            "\u001b[1m500/500\u001b[0m \u001b[32m━━━━━━━━━━━━━━━━━━━━\u001b[0m\u001b[37m\u001b[0m \u001b[1m7s\u001b[0m 15ms/step - accuracy: 0.9870 - auc: 0.9990 - loss: 0.0453 - precision: 0.9815 - recall: 0.9928 - val_accuracy: 0.9874 - val_auc: 0.9986 - val_loss: 0.0339 - val_precision: 0.9834 - val_recall: 0.9915\n",
            "Epoch 74/100\n",
            "\u001b[1m500/500\u001b[0m \u001b[32m━━━━━━━━━━━━━━━━━━━━\u001b[0m\u001b[37m\u001b[0m \u001b[1m9s\u001b[0m 12ms/step - accuracy: 0.9867 - auc: 0.9987 - loss: 0.0466 - precision: 0.9804 - recall: 0.9931 - val_accuracy: 0.9896 - val_auc: 0.9989 - val_loss: 0.0304 - val_precision: 0.9900 - val_recall: 0.9893\n",
            "Epoch 75/100\n",
            "\u001b[1m500/500\u001b[0m \u001b[32m━━━━━━━━━━━━━━━━━━━━\u001b[0m\u001b[37m\u001b[0m \u001b[1m10s\u001b[0m 12ms/step - accuracy: 0.9890 - auc: 0.9992 - loss: 0.0403 - precision: 0.9847 - recall: 0.9934 - val_accuracy: 0.9845 - val_auc: 0.9983 - val_loss: 0.0449 - val_precision: 0.9743 - val_recall: 0.9952\n",
            "Epoch 76/100\n",
            "\u001b[1m500/500\u001b[0m \u001b[32m━━━━━━━━━━━━━━━━━━━━\u001b[0m\u001b[37m\u001b[0m \u001b[1m10s\u001b[0m 12ms/step - accuracy: 0.9889 - auc: 0.9991 - loss: 0.0419 - precision: 0.9843 - recall: 0.9936 - val_accuracy: 0.9865 - val_auc: 0.9992 - val_loss: 0.0342 - val_precision: 0.9937 - val_recall: 0.9793\n",
            "Epoch 77/100\n",
            "\u001b[1m500/500\u001b[0m \u001b[32m━━━━━━━━━━━━━━━━━━━━\u001b[0m\u001b[37m\u001b[0m \u001b[1m7s\u001b[0m 14ms/step - accuracy: 0.9889 - auc: 0.9990 - loss: 0.0428 - precision: 0.9851 - recall: 0.9928 - val_accuracy: 0.9861 - val_auc: 0.9984 - val_loss: 0.0429 - val_precision: 0.9774 - val_recall: 0.9952\n",
            "Epoch 78/100\n",
            "\u001b[1m500/500\u001b[0m \u001b[32m━━━━━━━━━━━━━━━━━━━━\u001b[0m\u001b[37m\u001b[0m \u001b[1m7s\u001b[0m 14ms/step - accuracy: 0.9878 - auc: 0.9986 - loss: 0.0447 - precision: 0.9823 - recall: 0.9935 - val_accuracy: 0.9887 - val_auc: 0.9990 - val_loss: 0.0305 - val_precision: 0.9885 - val_recall: 0.9890\n",
            "Epoch 79/100\n",
            "\u001b[1m500/500\u001b[0m \u001b[32m━━━━━━━━━━━━━━━━━━━━\u001b[0m\u001b[37m\u001b[0m \u001b[1m10s\u001b[0m 14ms/step - accuracy: 0.9896 - auc: 0.9991 - loss: 0.0387 - precision: 0.9856 - recall: 0.9937 - val_accuracy: 0.9681 - val_auc: 0.9988 - val_loss: 0.0786 - val_precision: 0.9971 - val_recall: 0.9390\n",
            "Epoch 80/100\n",
            "\u001b[1m500/500\u001b[0m \u001b[32m━━━━━━━━━━━━━━━━━━━━\u001b[0m\u001b[37m\u001b[0m \u001b[1m10s\u001b[0m 14ms/step - accuracy: 0.9899 - auc: 0.9989 - loss: 0.0400 - precision: 0.9862 - recall: 0.9935 - val_accuracy: 0.9895 - val_auc: 0.9990 - val_loss: 0.0312 - val_precision: 0.9856 - val_recall: 0.9935\n",
            "Epoch 81/100\n",
            "\u001b[1m500/500\u001b[0m \u001b[32m━━━━━━━━━━━━━━━━━━━━\u001b[0m\u001b[37m\u001b[0m \u001b[1m9s\u001b[0m 12ms/step - accuracy: 0.9895 - auc: 0.9991 - loss: 0.0403 - precision: 0.9854 - recall: 0.9936 - val_accuracy: 0.9891 - val_auc: 0.9993 - val_loss: 0.0293 - val_precision: 0.9890 - val_recall: 0.9893\n",
            "Epoch 82/100\n",
            "\u001b[1m500/500\u001b[0m \u001b[32m━━━━━━━━━━━━━━━━━━━━\u001b[0m\u001b[37m\u001b[0m \u001b[1m10s\u001b[0m 12ms/step - accuracy: 0.9897 - auc: 0.9992 - loss: 0.0397 - precision: 0.9855 - recall: 0.9939 - val_accuracy: 0.9886 - val_auc: 0.9989 - val_loss: 0.0312 - val_precision: 0.9846 - val_recall: 0.9927\n",
            "Epoch 83/100\n",
            "\u001b[1m500/500\u001b[0m \u001b[32m━━━━━━━━━━━━━━━━━━━━\u001b[0m\u001b[37m\u001b[0m \u001b[1m10s\u001b[0m 12ms/step - accuracy: 0.9896 - auc: 0.9991 - loss: 0.0383 - precision: 0.9847 - recall: 0.9946 - val_accuracy: 0.9894 - val_auc: 0.9990 - val_loss: 0.0298 - val_precision: 0.9878 - val_recall: 0.9910\n",
            "Epoch 84/100\n",
            "\u001b[1m496/500\u001b[0m \u001b[32m━━━━━━━━━━━━━━━━━━━\u001b[0m\u001b[37m━\u001b[0m \u001b[1m0s\u001b[0m 12ms/step - accuracy: 0.9909 - auc: 0.9993 - loss: 0.0329 - precision: 0.9876 - recall: 0.9943"
          ]
        },
        {
          "output_type": "stream",
          "name": "stderr",
          "text": [
            "WARNING:absl:You are saving your model as an HDF5 file via `model.save()` or `keras.saving.save_model(model)`. This file format is considered legacy. We recommend using instead the native Keras format, e.g. `model.save('my_model.keras')` or `keras.saving.save_model(model, 'my_model.keras')`. \n"
          ]
        },
        {
          "output_type": "stream",
          "name": "stdout",
          "text": [
            "\b\b\b\b\b\b\b\b\b\b\b\b\b\b\b\b\b\b\b\b\b\b\b\b\b\b\b\b\b\b\b\b\b\b\b\b\b\b\b\b\b\b\b\b\b\b\b\b\b\b\b\b\b\b\b\b\b\b\b\b\b\b\b\b\b\b\b\b\b\b\b\b\b\b\b\b\b\b\b\b\b\b\b\b\b\b\b\b\b\b\b\b\b\b\b\b\b\b\b\b\b\b\b\b\b\b\b\b\b\b\b\b\b\b\b\b\b\b\b\b\b\b\b\b\b\b\r\u001b[1m500/500\u001b[0m \u001b[32m━━━━━━━━━━━━━━━━━━━━\u001b[0m\u001b[37m\u001b[0m \u001b[1m11s\u001b[0m 13ms/step - accuracy: 0.9909 - auc: 0.9993 - loss: 0.0330 - precision: 0.9875 - recall: 0.9943 - val_accuracy: 0.9899 - val_auc: 0.9992 - val_loss: 0.0282 - val_precision: 0.9859 - val_recall: 0.9940\n",
            "Epoch 85/100\n",
            "\u001b[1m500/500\u001b[0m \u001b[32m━━━━━━━━━━━━━━━━━━━━\u001b[0m\u001b[37m\u001b[0m \u001b[1m6s\u001b[0m 12ms/step - accuracy: 0.9902 - auc: 0.9992 - loss: 0.0377 - precision: 0.9862 - recall: 0.9945 - val_accuracy: 0.9891 - val_auc: 0.9995 - val_loss: 0.0288 - val_precision: 0.9920 - val_recall: 0.9862\n",
            "Epoch 86/100\n",
            "\u001b[1m495/500\u001b[0m \u001b[32m━━━━━━━━━━━━━━━━━━━\u001b[0m\u001b[37m━\u001b[0m \u001b[1m0s\u001b[0m 12ms/step - accuracy: 0.9897 - auc: 0.9993 - loss: 0.0375 - precision: 0.9858 - recall: 0.9937"
          ]
        },
        {
          "output_type": "stream",
          "name": "stderr",
          "text": [
            "WARNING:absl:You are saving your model as an HDF5 file via `model.save()` or `keras.saving.save_model(model)`. This file format is considered legacy. We recommend using instead the native Keras format, e.g. `model.save('my_model.keras')` or `keras.saving.save_model(model, 'my_model.keras')`. \n"
          ]
        },
        {
          "output_type": "stream",
          "name": "stdout",
          "text": [
            "\b\b\b\b\b\b\b\b\b\b\b\b\b\b\b\b\b\b\b\b\b\b\b\b\b\b\b\b\b\b\b\b\b\b\b\b\b\b\b\b\b\b\b\b\b\b\b\b\b\b\b\b\b\b\b\b\b\b\b\b\b\b\b\b\b\b\b\b\b\b\b\b\b\b\b\b\b\b\b\b\b\b\b\b\b\b\b\b\b\b\b\b\b\b\b\b\b\b\b\b\b\b\b\b\b\b\b\b\b\b\b\b\b\b\b\b\b\b\b\b\b\b\b\b\b\b\r\u001b[1m500/500\u001b[0m \u001b[32m━━━━━━━━━━━━━━━━━━━━\u001b[0m\u001b[37m\u001b[0m \u001b[1m7s\u001b[0m 14ms/step - accuracy: 0.9896 - auc: 0.9993 - loss: 0.0376 - precision: 0.9858 - recall: 0.9937 - val_accuracy: 0.9907 - val_auc: 0.9992 - val_loss: 0.0265 - val_precision: 0.9903 - val_recall: 0.9912\n",
            "Epoch 87/100\n",
            "\u001b[1m500/500\u001b[0m \u001b[32m━━━━━━━━━━━━━━━━━━━━\u001b[0m\u001b[37m\u001b[0m \u001b[1m6s\u001b[0m 11ms/step - accuracy: 0.9896 - auc: 0.9992 - loss: 0.0378 - precision: 0.9857 - recall: 0.9938 - val_accuracy: 0.9886 - val_auc: 0.9988 - val_loss: 0.0337 - val_precision: 0.9834 - val_recall: 0.9940\n",
            "Epoch 88/100\n",
            "\u001b[1m500/500\u001b[0m \u001b[32m━━━━━━━━━━━━━━━━━━━━\u001b[0m\u001b[37m\u001b[0m \u001b[1m10s\u001b[0m 11ms/step - accuracy: 0.9888 - auc: 0.9991 - loss: 0.0398 - precision: 0.9844 - recall: 0.9932 - val_accuracy: 0.9864 - val_auc: 0.9984 - val_loss: 0.0421 - val_precision: 0.9765 - val_recall: 0.9967\n",
            "Epoch 89/100\n",
            "\u001b[1m500/500\u001b[0m \u001b[32m━━━━━━━━━━━━━━━━━━━━\u001b[0m\u001b[37m\u001b[0m \u001b[1m7s\u001b[0m 14ms/step - accuracy: 0.9908 - auc: 0.9993 - loss: 0.0344 - precision: 0.9870 - recall: 0.9950 - val_accuracy: 0.9892 - val_auc: 0.9993 - val_loss: 0.0295 - val_precision: 0.9905 - val_recall: 0.9880\n",
            "Epoch 90/100\n",
            "\u001b[1m500/500\u001b[0m \u001b[32m━━━━━━━━━━━━━━━━━━━━\u001b[0m\u001b[37m\u001b[0m \u001b[1m9s\u001b[0m 12ms/step - accuracy: 0.9912 - auc: 0.9992 - loss: 0.0362 - precision: 0.9880 - recall: 0.9943 - val_accuracy: 0.9874 - val_auc: 0.9989 - val_loss: 0.0367 - val_precision: 0.9784 - val_recall: 0.9967\n",
            "Epoch 91/100\n",
            "\u001b[1m500/500\u001b[0m \u001b[32m━━━━━━━━━━━━━━━━━━━━\u001b[0m\u001b[37m\u001b[0m \u001b[1m10s\u001b[0m 12ms/step - accuracy: 0.9902 - auc: 0.9991 - loss: 0.0369 - precision: 0.9864 - recall: 0.9942 - val_accuracy: 0.9906 - val_auc: 0.9989 - val_loss: 0.0287 - val_precision: 0.9881 - val_recall: 0.9933\n",
            "Epoch 92/100\n",
            "\u001b[1m498/500\u001b[0m \u001b[32m━━━━━━━━━━━━━━━━━━━\u001b[0m\u001b[37m━\u001b[0m \u001b[1m0s\u001b[0m 11ms/step - accuracy: 0.9924 - auc: 0.9994 - loss: 0.0301 - precision: 0.9889 - recall: 0.9960"
          ]
        },
        {
          "output_type": "stream",
          "name": "stderr",
          "text": [
            "WARNING:absl:You are saving your model as an HDF5 file via `model.save()` or `keras.saving.save_model(model)`. This file format is considered legacy. We recommend using instead the native Keras format, e.g. `model.save('my_model.keras')` or `keras.saving.save_model(model, 'my_model.keras')`. \n"
          ]
        },
        {
          "output_type": "stream",
          "name": "stdout",
          "text": [
            "\b\b\b\b\b\b\b\b\b\b\b\b\b\b\b\b\b\b\b\b\b\b\b\b\b\b\b\b\b\b\b\b\b\b\b\b\b\b\b\b\b\b\b\b\b\b\b\b\b\b\b\b\b\b\b\b\b\b\b\b\b\b\b\b\b\b\b\b\b\b\b\b\b\b\b\b\b\b\b\b\b\b\b\b\b\b\b\b\b\b\b\b\b\b\b\b\b\b\b\b\b\b\b\b\b\b\b\b\b\b\b\b\b\b\b\b\b\b\b\b\b\b\b\b\b\b\r\u001b[1m500/500\u001b[0m \u001b[32m━━━━━━━━━━━━━━━━━━━━\u001b[0m\u001b[37m\u001b[0m \u001b[1m11s\u001b[0m 13ms/step - accuracy: 0.9924 - auc: 0.9994 - loss: 0.0301 - precision: 0.9889 - recall: 0.9960 - val_accuracy: 0.9905 - val_auc: 0.9991 - val_loss: 0.0261 - val_precision: 0.9898 - val_recall: 0.9912\n",
            "Epoch 93/100\n",
            "\u001b[1m500/500\u001b[0m \u001b[32m━━━━━━━━━━━━━━━━━━━━\u001b[0m\u001b[37m\u001b[0m \u001b[1m10s\u001b[0m 12ms/step - accuracy: 0.9904 - auc: 0.9994 - loss: 0.0333 - precision: 0.9873 - recall: 0.9937 - val_accuracy: 0.9894 - val_auc: 0.9992 - val_loss: 0.0301 - val_precision: 0.9851 - val_recall: 0.9937\n",
            "Epoch 94/100\n",
            "\u001b[1m500/500\u001b[0m \u001b[32m━━━━━━━━━━━━━━━━━━━━\u001b[0m\u001b[37m\u001b[0m \u001b[1m11s\u001b[0m 14ms/step - accuracy: 0.9902 - auc: 0.9994 - loss: 0.0339 - precision: 0.9857 - recall: 0.9949 - val_accuracy: 0.9907 - val_auc: 0.9991 - val_loss: 0.0276 - val_precision: 0.9893 - val_recall: 0.9923\n",
            "Epoch 95/100\n",
            "\u001b[1m500/500\u001b[0m \u001b[32m━━━━━━━━━━━━━━━━━━━━\u001b[0m\u001b[37m\u001b[0m \u001b[1m10s\u001b[0m 12ms/step - accuracy: 0.9897 - auc: 0.9990 - loss: 0.0370 - precision: 0.9857 - recall: 0.9940 - val_accuracy: 0.9901 - val_auc: 0.9987 - val_loss: 0.0293 - val_precision: 0.9878 - val_recall: 0.9925\n",
            "Epoch 96/100\n",
            "\u001b[1m500/500\u001b[0m \u001b[32m━━━━━━━━━━━━━━━━━━━━\u001b[0m\u001b[37m\u001b[0m \u001b[1m10s\u001b[0m 11ms/step - accuracy: 0.9912 - auc: 0.9994 - loss: 0.0310 - precision: 0.9868 - recall: 0.9957 - val_accuracy: 0.9900 - val_auc: 0.9991 - val_loss: 0.0272 - val_precision: 0.9902 - val_recall: 0.9898\n",
            "Epoch 97/100\n",
            "\u001b[1m500/500\u001b[0m \u001b[32m━━━━━━━━━━━━━━━━━━━━\u001b[0m\u001b[37m\u001b[0m \u001b[1m7s\u001b[0m 14ms/step - accuracy: 0.9920 - auc: 0.9993 - loss: 0.0278 - precision: 0.9871 - recall: 0.9969 - val_accuracy: 0.9864 - val_auc: 0.9983 - val_loss: 0.0409 - val_precision: 0.9777 - val_recall: 0.9955\n",
            "Epoch 98/100\n",
            "\u001b[1m500/500\u001b[0m \u001b[32m━━━━━━━━━━━━━━━━━━━━\u001b[0m\u001b[37m\u001b[0m \u001b[1m6s\u001b[0m 11ms/step - accuracy: 0.9922 - auc: 0.9995 - loss: 0.0280 - precision: 0.9890 - recall: 0.9955 - val_accuracy: 0.9907 - val_auc: 0.9992 - val_loss: 0.0277 - val_precision: 0.9905 - val_recall: 0.9910\n",
            "Epoch 99/100\n",
            "\u001b[1m500/500\u001b[0m \u001b[32m━━━━━━━━━━━━━━━━━━━━\u001b[0m\u001b[37m\u001b[0m \u001b[1m7s\u001b[0m 14ms/step - accuracy: 0.9925 - auc: 0.9994 - loss: 0.0291 - precision: 0.9888 - recall: 0.9963 - val_accuracy: 0.9902 - val_auc: 0.9992 - val_loss: 0.0274 - val_precision: 0.9871 - val_recall: 0.9935\n",
            "Epoch 100/100\n",
            "\u001b[1m500/500\u001b[0m \u001b[32m━━━━━━━━━━━━━━━━━━━━\u001b[0m\u001b[37m\u001b[0m \u001b[1m6s\u001b[0m 11ms/step - accuracy: 0.9903 - auc: 0.9995 - loss: 0.0333 - precision: 0.9860 - recall: 0.9947 - val_accuracy: 0.9901 - val_auc: 0.9991 - val_loss: 0.0267 - val_precision: 0.9878 - val_recall: 0.9925\n",
            "\n",
            "Run 2 Results:\n",
            "Test Loss: 0.0869\n",
            "Test Accuracy: 0.9722\n",
            "Test Precision: 0.9465\n",
            "Test Recall: 0.9420\n",
            "Test AUC: 0.9916\n",
            "\n",
            "==================================================\n",
            "Run 3/5\n",
            "==================================================\n",
            "Epoch 1/100\n",
            "\u001b[1m500/500\u001b[0m \u001b[32m━━━━━━━━━━━━━━━━━━━━\u001b[0m\u001b[37m\u001b[0m \u001b[1m11s\u001b[0m 14ms/step - accuracy: 0.8183 - auc: 0.8985 - loss: 0.5533 - precision: 0.7938 - recall: 0.8510 - val_accuracy: 0.9349 - val_auc: 0.9839 - val_loss: 0.2068 - val_precision: 0.9069 - val_recall: 0.9693\n",
            "Epoch 2/100\n",
            "\u001b[1m500/500\u001b[0m \u001b[32m━━━━━━━━━━━━━━━━━━━━\u001b[0m\u001b[37m\u001b[0m \u001b[1m9s\u001b[0m 11ms/step - accuracy: 0.9146 - auc: 0.9739 - loss: 0.2856 - precision: 0.8844 - recall: 0.9540 - val_accuracy: 0.9312 - val_auc: 0.9877 - val_loss: 0.1844 - val_precision: 0.8940 - val_recall: 0.9785\n",
            "Epoch 3/100\n",
            "\u001b[1m500/500\u001b[0m \u001b[32m━━━━━━━━━━━━━━━━━━━━\u001b[0m\u001b[37m\u001b[0m \u001b[1m10s\u001b[0m 11ms/step - accuracy: 0.9276 - auc: 0.9794 - loss: 0.2534 - precision: 0.9052 - recall: 0.9571 - val_accuracy: 0.9509 - val_auc: 0.9897 - val_loss: 0.1303 - val_precision: 0.9415 - val_recall: 0.9615\n",
            "Epoch 4/100\n",
            "\u001b[1m500/500\u001b[0m \u001b[32m━━━━━━━━━━━━━━━━━━━━\u001b[0m\u001b[37m\u001b[0m \u001b[1m11s\u001b[0m 12ms/step - accuracy: 0.9347 - auc: 0.9844 - loss: 0.2195 - precision: 0.9141 - recall: 0.9597 - val_accuracy: 0.9546 - val_auc: 0.9914 - val_loss: 0.1184 - val_precision: 0.9489 - val_recall: 0.9610\n",
            "Epoch 5/100\n",
            "\u001b[1m500/500\u001b[0m \u001b[32m━━━━━━━━━━━━━━━━━━━━\u001b[0m\u001b[37m\u001b[0m \u001b[1m11s\u001b[0m 14ms/step - accuracy: 0.9369 - auc: 0.9856 - loss: 0.2138 - precision: 0.9159 - recall: 0.9620 - val_accuracy: 0.9275 - val_auc: 0.9908 - val_loss: 0.1840 - val_precision: 0.8834 - val_recall: 0.9850\n",
            "Epoch 6/100\n",
            "\u001b[1m500/500\u001b[0m \u001b[32m━━━━━━━━━━━━━━━━━━━━\u001b[0m\u001b[37m\u001b[0m \u001b[1m10s\u001b[0m 14ms/step - accuracy: 0.9392 - auc: 0.9857 - loss: 0.2053 - precision: 0.9186 - recall: 0.9639 - val_accuracy: 0.9585 - val_auc: 0.9935 - val_loss: 0.1050 - val_precision: 0.9511 - val_recall: 0.9668\n",
            "Epoch 7/100\n",
            "\u001b[1m500/500\u001b[0m \u001b[32m━━━━━━━━━━━━━━━━━━━━\u001b[0m\u001b[37m\u001b[0m \u001b[1m9s\u001b[0m 12ms/step - accuracy: 0.9453 - auc: 0.9878 - loss: 0.1939 - precision: 0.9286 - recall: 0.9645 - val_accuracy: 0.9615 - val_auc: 0.9937 - val_loss: 0.1035 - val_precision: 0.9520 - val_recall: 0.9720\n",
            "Epoch 8/100\n",
            "\u001b[1m500/500\u001b[0m \u001b[32m━━━━━━━━━━━━━━━━━━━━\u001b[0m\u001b[37m\u001b[0m \u001b[1m10s\u001b[0m 12ms/step - accuracy: 0.9477 - auc: 0.9889 - loss: 0.1810 - precision: 0.9270 - recall: 0.9713 - val_accuracy: 0.9572 - val_auc: 0.9948 - val_loss: 0.1072 - val_precision: 0.9357 - val_recall: 0.9820\n",
            "Epoch 9/100\n",
            "\u001b[1m500/500\u001b[0m \u001b[32m━━━━━━━━━━━━━━━━━━━━\u001b[0m\u001b[37m\u001b[0m \u001b[1m10s\u001b[0m 12ms/step - accuracy: 0.9494 - auc: 0.9897 - loss: 0.1767 - precision: 0.9313 - recall: 0.9695 - val_accuracy: 0.9622 - val_auc: 0.9952 - val_loss: 0.0988 - val_precision: 0.9445 - val_recall: 0.9822\n",
            "Epoch 10/100\n",
            "\u001b[1m500/500\u001b[0m \u001b[32m━━━━━━━━━━━━━━━━━━━━\u001b[0m\u001b[37m\u001b[0m \u001b[1m11s\u001b[0m 13ms/step - accuracy: 0.9529 - auc: 0.9905 - loss: 0.1645 - precision: 0.9359 - recall: 0.9721 - val_accuracy: 0.9704 - val_auc: 0.9958 - val_loss: 0.0832 - val_precision: 0.9740 - val_recall: 0.9665\n",
            "Epoch 11/100\n",
            "\u001b[1m500/500\u001b[0m \u001b[32m━━━━━━━━━━━━━━━━━━━━\u001b[0m\u001b[37m\u001b[0m \u001b[1m6s\u001b[0m 11ms/step - accuracy: 0.9550 - auc: 0.9918 - loss: 0.1562 - precision: 0.9382 - recall: 0.9745 - val_accuracy: 0.9652 - val_auc: 0.9957 - val_loss: 0.0901 - val_precision: 0.9484 - val_recall: 0.9840\n",
            "Epoch 12/100\n",
            "\u001b[1m500/500\u001b[0m \u001b[32m━━━━━━━━━━━━━━━━━━━━\u001b[0m\u001b[37m\u001b[0m \u001b[1m10s\u001b[0m 11ms/step - accuracy: 0.9581 - auc: 0.9928 - loss: 0.1443 - precision: 0.9413 - recall: 0.9770 - val_accuracy: 0.9714 - val_auc: 0.9965 - val_loss: 0.0783 - val_precision: 0.9602 - val_recall: 0.9835\n",
            "Epoch 13/100\n",
            "\u001b[1m500/500\u001b[0m \u001b[32m━━━━━━━━━━━━━━━━━━━━\u001b[0m\u001b[37m\u001b[0m \u001b[1m7s\u001b[0m 15ms/step - accuracy: 0.9610 - auc: 0.9936 - loss: 0.1367 - precision: 0.9471 - recall: 0.9770 - val_accuracy: 0.9660 - val_auc: 0.9964 - val_loss: 0.0877 - val_precision: 0.9464 - val_recall: 0.9880\n",
            "Epoch 14/100\n",
            "\u001b[1m500/500\u001b[0m \u001b[32m━━━━━━━━━━━━━━━━━━━━\u001b[0m\u001b[37m\u001b[0m \u001b[1m9s\u001b[0m 11ms/step - accuracy: 0.9614 - auc: 0.9932 - loss: 0.1366 - precision: 0.9467 - recall: 0.9777 - val_accuracy: 0.9744 - val_auc: 0.9970 - val_loss: 0.0739 - val_precision: 0.9805 - val_recall: 0.9680\n",
            "Epoch 15/100\n",
            "\u001b[1m500/500\u001b[0m \u001b[32m━━━━━━━━━━━━━━━━━━━━\u001b[0m\u001b[37m\u001b[0m \u001b[1m7s\u001b[0m 14ms/step - accuracy: 0.9635 - auc: 0.9943 - loss: 0.1283 - precision: 0.9493 - recall: 0.9796 - val_accuracy: 0.9624 - val_auc: 0.9956 - val_loss: 0.0978 - val_precision: 0.9380 - val_recall: 0.9902\n",
            "Epoch 16/100\n",
            "\u001b[1m500/500\u001b[0m \u001b[32m━━━━━━━━━━━━━━━━━━━━\u001b[0m\u001b[37m\u001b[0m \u001b[1m11s\u001b[0m 14ms/step - accuracy: 0.9666 - auc: 0.9947 - loss: 0.1201 - precision: 0.9566 - recall: 0.9775 - val_accuracy: 0.9745 - val_auc: 0.9969 - val_loss: 0.0698 - val_precision: 0.9634 - val_recall: 0.9865\n",
            "Epoch 17/100\n",
            "\u001b[1m500/500\u001b[0m \u001b[32m━━━━━━━━━━━━━━━━━━━━\u001b[0m\u001b[37m\u001b[0m \u001b[1m6s\u001b[0m 11ms/step - accuracy: 0.9680 - auc: 0.9950 - loss: 0.1198 - precision: 0.9568 - recall: 0.9803 - val_accuracy: 0.9766 - val_auc: 0.9974 - val_loss: 0.0660 - val_precision: 0.9690 - val_recall: 0.9847\n",
            "Epoch 18/100\n",
            "\u001b[1m500/500\u001b[0m \u001b[32m━━━━━━━━━━━━━━━━━━━━\u001b[0m\u001b[37m\u001b[0m \u001b[1m7s\u001b[0m 14ms/step - accuracy: 0.9685 - auc: 0.9947 - loss: 0.1164 - precision: 0.9574 - recall: 0.9808 - val_accuracy: 0.9760 - val_auc: 0.9971 - val_loss: 0.0655 - val_precision: 0.9664 - val_recall: 0.9862\n",
            "Epoch 19/100\n",
            "\u001b[1m500/500\u001b[0m \u001b[32m━━━━━━━━━━━━━━━━━━━━\u001b[0m\u001b[37m\u001b[0m \u001b[1m9s\u001b[0m 12ms/step - accuracy: 0.9661 - auc: 0.9951 - loss: 0.1143 - precision: 0.9529 - recall: 0.9805 - val_accuracy: 0.9720 - val_auc: 0.9970 - val_loss: 0.0774 - val_precision: 0.9536 - val_recall: 0.9923\n",
            "Epoch 20/100\n",
            "\u001b[1m500/500\u001b[0m \u001b[32m━━━━━━━━━━━━━━━━━━━━\u001b[0m\u001b[37m\u001b[0m \u001b[1m8s\u001b[0m 16ms/step - accuracy: 0.9691 - auc: 0.9955 - loss: 0.1101 - precision: 0.9564 - recall: 0.9832 - val_accuracy: 0.9795 - val_auc: 0.9979 - val_loss: 0.0576 - val_precision: 0.9724 - val_recall: 0.9870\n",
            "Epoch 21/100\n",
            "\u001b[1m500/500\u001b[0m \u001b[32m━━━━━━━━━━━━━━━━━━━━\u001b[0m\u001b[37m\u001b[0m \u001b[1m6s\u001b[0m 12ms/step - accuracy: 0.9735 - auc: 0.9962 - loss: 0.0982 - precision: 0.9646 - recall: 0.9828 - val_accuracy: 0.9799 - val_auc: 0.9979 - val_loss: 0.0569 - val_precision: 0.9729 - val_recall: 0.9872\n",
            "Epoch 22/100\n",
            "\u001b[1m500/500\u001b[0m \u001b[32m━━━━━━━━━━━━━━━━━━━━\u001b[0m\u001b[37m\u001b[0m \u001b[1m7s\u001b[0m 14ms/step - accuracy: 0.9706 - auc: 0.9958 - loss: 0.1023 - precision: 0.9570 - recall: 0.9851 - val_accuracy: 0.9790 - val_auc: 0.9978 - val_loss: 0.0587 - val_precision: 0.9701 - val_recall: 0.9885\n",
            "Epoch 23/100\n",
            "\u001b[1m500/500\u001b[0m \u001b[32m━━━━━━━━━━━━━━━━━━━━\u001b[0m\u001b[37m\u001b[0m \u001b[1m10s\u001b[0m 14ms/step - accuracy: 0.9737 - auc: 0.9959 - loss: 0.0989 - precision: 0.9625 - recall: 0.9860 - val_accuracy: 0.9807 - val_auc: 0.9981 - val_loss: 0.0531 - val_precision: 0.9776 - val_recall: 0.9840\n",
            "Epoch 24/100\n",
            "\u001b[1m500/500\u001b[0m \u001b[32m━━━━━━━━━━━━━━━━━━━━\u001b[0m\u001b[37m\u001b[0m \u001b[1m6s\u001b[0m 11ms/step - accuracy: 0.9742 - auc: 0.9966 - loss: 0.0956 - precision: 0.9638 - recall: 0.9851 - val_accuracy: 0.9756 - val_auc: 0.9972 - val_loss: 0.0687 - val_precision: 0.9599 - val_recall: 0.9927\n",
            "Epoch 25/100\n",
            "\u001b[1m500/500\u001b[0m \u001b[32m━━━━━━━━━━━━━━━━━━━━\u001b[0m\u001b[37m\u001b[0m \u001b[1m7s\u001b[0m 14ms/step - accuracy: 0.9750 - auc: 0.9965 - loss: 0.0931 - precision: 0.9663 - recall: 0.9847 - val_accuracy: 0.9767 - val_auc: 0.9982 - val_loss: 0.0626 - val_precision: 0.9631 - val_recall: 0.9915\n",
            "Epoch 26/100\n",
            "\u001b[1m500/500\u001b[0m \u001b[32m━━━━━━━━━━━━━━━━━━━━\u001b[0m\u001b[37m\u001b[0m \u001b[1m6s\u001b[0m 11ms/step - accuracy: 0.9739 - auc: 0.9969 - loss: 0.0921 - precision: 0.9640 - recall: 0.9849 - val_accuracy: 0.9774 - val_auc: 0.9973 - val_loss: 0.0650 - val_precision: 0.9638 - val_recall: 0.9920\n",
            "Epoch 27/100\n",
            "\u001b[1m500/500\u001b[0m \u001b[32m━━━━━━━━━━━━━━━━━━━━\u001b[0m\u001b[37m\u001b[0m \u001b[1m6s\u001b[0m 13ms/step - accuracy: 0.9758 - auc: 0.9968 - loss: 0.0911 - precision: 0.9680 - recall: 0.9844 - val_accuracy: 0.9825 - val_auc: 0.9981 - val_loss: 0.0516 - val_precision: 0.9849 - val_recall: 0.9800\n",
            "Epoch 28/100\n",
            "\u001b[1m500/500\u001b[0m \u001b[32m━━━━━━━━━━━━━━━━━━━━\u001b[0m\u001b[37m\u001b[0m \u001b[1m6s\u001b[0m 12ms/step - accuracy: 0.9754 - auc: 0.9969 - loss: 0.0886 - precision: 0.9662 - recall: 0.9853 - val_accuracy: 0.9836 - val_auc: 0.9984 - val_loss: 0.0483 - val_precision: 0.9850 - val_recall: 0.9822\n",
            "Epoch 29/100\n",
            "\u001b[1m500/500\u001b[0m \u001b[32m━━━━━━━━━━━━━━━━━━━━\u001b[0m\u001b[37m\u001b[0m \u001b[1m6s\u001b[0m 12ms/step - accuracy: 0.9748 - auc: 0.9969 - loss: 0.0883 - precision: 0.9652 - recall: 0.9849 - val_accuracy: 0.9821 - val_auc: 0.9983 - val_loss: 0.0496 - val_precision: 0.9876 - val_recall: 0.9765\n",
            "Epoch 30/100\n",
            "\u001b[1m500/500\u001b[0m \u001b[32m━━━━━━━━━━━━━━━━━━━━\u001b[0m\u001b[37m\u001b[0m \u001b[1m7s\u001b[0m 13ms/step - accuracy: 0.9762 - auc: 0.9970 - loss: 0.0861 - precision: 0.9679 - recall: 0.9846 - val_accuracy: 0.9807 - val_auc: 0.9980 - val_loss: 0.0555 - val_precision: 0.9695 - val_recall: 0.9927\n",
            "Epoch 31/100\n",
            "\u001b[1m500/500\u001b[0m \u001b[32m━━━━━━━━━━━━━━━━━━━━\u001b[0m\u001b[37m\u001b[0m \u001b[1m11s\u001b[0m 14ms/step - accuracy: 0.9768 - auc: 0.9973 - loss: 0.0831 - precision: 0.9686 - recall: 0.9862 - val_accuracy: 0.9844 - val_auc: 0.9984 - val_loss: 0.0457 - val_precision: 0.9847 - val_recall: 0.9840\n",
            "Epoch 32/100\n",
            "\u001b[1m500/500\u001b[0m \u001b[32m━━━━━━━━━━━━━━━━━━━━\u001b[0m\u001b[37m\u001b[0m \u001b[1m10s\u001b[0m 13ms/step - accuracy: 0.9772 - auc: 0.9971 - loss: 0.0814 - precision: 0.9672 - recall: 0.9879 - val_accuracy: 0.9841 - val_auc: 0.9983 - val_loss: 0.0455 - val_precision: 0.9857 - val_recall: 0.9825\n",
            "Epoch 33/100\n",
            "\u001b[1m500/500\u001b[0m \u001b[32m━━━━━━━━━━━━━━━━━━━━\u001b[0m\u001b[37m\u001b[0m \u001b[1m9s\u001b[0m 11ms/step - accuracy: 0.9796 - auc: 0.9973 - loss: 0.0762 - precision: 0.9712 - recall: 0.9884 - val_accuracy: 0.9835 - val_auc: 0.9983 - val_loss: 0.0472 - val_precision: 0.9801 - val_recall: 0.9870\n",
            "Epoch 34/100\n",
            "\u001b[1m500/500\u001b[0m \u001b[32m━━━━━━━━━━━━━━━━━━━━\u001b[0m\u001b[37m\u001b[0m \u001b[1m10s\u001b[0m 12ms/step - accuracy: 0.9789 - auc: 0.9974 - loss: 0.0767 - precision: 0.9695 - recall: 0.9887 - val_accuracy: 0.9820 - val_auc: 0.9980 - val_loss: 0.0524 - val_precision: 0.9725 - val_recall: 0.9920\n",
            "Epoch 35/100\n",
            "\u001b[1m500/500\u001b[0m \u001b[32m━━━━━━━━━━━━━━━━━━━━\u001b[0m\u001b[37m\u001b[0m \u001b[1m11s\u001b[0m 12ms/step - accuracy: 0.9797 - auc: 0.9973 - loss: 0.0784 - precision: 0.9716 - recall: 0.9882 - val_accuracy: 0.9762 - val_auc: 0.9976 - val_loss: 0.0636 - val_precision: 0.9599 - val_recall: 0.9940\n",
            "Epoch 36/100\n",
            "\u001b[1m500/500\u001b[0m \u001b[32m━━━━━━━━━━━━━━━━━━━━\u001b[0m\u001b[37m\u001b[0m \u001b[1m8s\u001b[0m 16ms/step - accuracy: 0.9814 - auc: 0.9979 - loss: 0.0698 - precision: 0.9747 - recall: 0.9885 - val_accuracy: 0.9745 - val_auc: 0.9981 - val_loss: 0.0669 - val_precision: 0.9938 - val_recall: 0.9550\n",
            "Epoch 37/100\n",
            "\u001b[1m500/500\u001b[0m \u001b[32m━━━━━━━━━━━━━━━━━━━━\u001b[0m\u001b[37m\u001b[0m \u001b[1m8s\u001b[0m 12ms/step - accuracy: 0.9809 - auc: 0.9979 - loss: 0.0698 - precision: 0.9722 - recall: 0.9897 - val_accuracy: 0.9855 - val_auc: 0.9984 - val_loss: 0.0432 - val_precision: 0.9882 - val_recall: 0.9827\n",
            "Epoch 38/100\n",
            "\u001b[1m500/500\u001b[0m \u001b[32m━━━━━━━━━━━━━━━━━━━━\u001b[0m\u001b[37m\u001b[0m \u001b[1m7s\u001b[0m 14ms/step - accuracy: 0.9811 - auc: 0.9981 - loss: 0.0689 - precision: 0.9728 - recall: 0.9902 - val_accuracy: 0.9786 - val_auc: 0.9975 - val_loss: 0.0607 - val_precision: 0.9641 - val_recall: 0.9942\n",
            "Epoch 39/100\n",
            "\u001b[1m500/500\u001b[0m \u001b[32m━━━━━━━━━━━━━━━━━━━━\u001b[0m\u001b[37m\u001b[0m \u001b[1m9s\u001b[0m 12ms/step - accuracy: 0.9823 - auc: 0.9979 - loss: 0.0685 - precision: 0.9752 - recall: 0.9898 - val_accuracy: 0.9826 - val_auc: 0.9984 - val_loss: 0.0483 - val_precision: 0.9889 - val_recall: 0.9762\n",
            "Epoch 40/100\n",
            "\u001b[1m500/500\u001b[0m \u001b[32m━━━━━━━━━━━━━━━━━━━━\u001b[0m\u001b[37m\u001b[0m \u001b[1m10s\u001b[0m 11ms/step - accuracy: 0.9813 - auc: 0.9982 - loss: 0.0637 - precision: 0.9734 - recall: 0.9896 - val_accuracy: 0.9815 - val_auc: 0.9983 - val_loss: 0.0489 - val_precision: 0.9707 - val_recall: 0.9930\n",
            "Epoch 41/100\n",
            "\u001b[1m500/500\u001b[0m \u001b[32m━━━━━━━━━━━━━━━━━━━━\u001b[0m\u001b[37m\u001b[0m \u001b[1m10s\u001b[0m 12ms/step - accuracy: 0.9802 - auc: 0.9979 - loss: 0.0710 - precision: 0.9727 - recall: 0.9879 - val_accuracy: 0.9846 - val_auc: 0.9985 - val_loss: 0.0450 - val_precision: 0.9901 - val_recall: 0.9790\n",
            "Epoch 42/100\n",
            "\u001b[1m500/500\u001b[0m \u001b[32m━━━━━━━━━━━━━━━━━━━━\u001b[0m\u001b[37m\u001b[0m \u001b[1m7s\u001b[0m 14ms/step - accuracy: 0.9831 - auc: 0.9976 - loss: 0.0682 - precision: 0.9768 - recall: 0.9900 - val_accuracy: 0.9845 - val_auc: 0.9987 - val_loss: 0.0435 - val_precision: 0.9778 - val_recall: 0.9915\n",
            "Epoch 43/100\n",
            "\u001b[1m500/500\u001b[0m \u001b[32m━━━━━━━━━━━━━━━━━━━━\u001b[0m\u001b[37m\u001b[0m \u001b[1m6s\u001b[0m 11ms/step - accuracy: 0.9820 - auc: 0.9979 - loss: 0.0686 - precision: 0.9757 - recall: 0.9889 - val_accuracy: 0.9859 - val_auc: 0.9986 - val_loss: 0.0383 - val_precision: 0.9860 - val_recall: 0.9858\n",
            "Epoch 44/100\n",
            "\u001b[1m500/500\u001b[0m \u001b[32m━━━━━━━━━━━━━━━━━━━━\u001b[0m\u001b[37m\u001b[0m \u001b[1m11s\u001b[0m 13ms/step - accuracy: 0.9816 - auc: 0.9982 - loss: 0.0657 - precision: 0.9734 - recall: 0.9897 - val_accuracy: 0.9800 - val_auc: 0.9983 - val_loss: 0.0525 - val_precision: 0.9667 - val_recall: 0.9942\n",
            "Epoch 45/100\n",
            "\u001b[1m500/500\u001b[0m \u001b[32m━━━━━━━━━━━━━━━━━━━━\u001b[0m\u001b[37m\u001b[0m \u001b[1m11s\u001b[0m 14ms/step - accuracy: 0.9818 - auc: 0.9983 - loss: 0.0639 - precision: 0.9728 - recall: 0.9913 - val_accuracy: 0.9876 - val_auc: 0.9987 - val_loss: 0.0379 - val_precision: 0.9868 - val_recall: 0.9885\n",
            "Epoch 46/100\n",
            "\u001b[1m500/500\u001b[0m \u001b[32m━━━━━━━━━━━━━━━━━━━━\u001b[0m\u001b[37m\u001b[0m \u001b[1m6s\u001b[0m 11ms/step - accuracy: 0.9831 - auc: 0.9982 - loss: 0.0624 - precision: 0.9759 - recall: 0.9910 - val_accuracy: 0.9840 - val_auc: 0.9984 - val_loss: 0.0448 - val_precision: 0.9914 - val_recall: 0.9765\n",
            "Epoch 47/100\n",
            "\u001b[1m500/500\u001b[0m \u001b[32m━━━━━━━━━━━━━━━━━━━━\u001b[0m\u001b[37m\u001b[0m \u001b[1m7s\u001b[0m 14ms/step - accuracy: 0.9837 - auc: 0.9985 - loss: 0.0598 - precision: 0.9774 - recall: 0.9905 - val_accuracy: 0.9859 - val_auc: 0.9986 - val_loss: 0.0407 - val_precision: 0.9912 - val_recall: 0.9805\n",
            "Epoch 48/100\n",
            "\u001b[1m500/500\u001b[0m \u001b[32m━━━━━━━━━━━━━━━━━━━━\u001b[0m\u001b[37m\u001b[0m \u001b[1m6s\u001b[0m 12ms/step - accuracy: 0.9839 - auc: 0.9985 - loss: 0.0598 - precision: 0.9780 - recall: 0.9900 - val_accuracy: 0.9860 - val_auc: 0.9988 - val_loss: 0.0406 - val_precision: 0.9892 - val_recall: 0.9827\n",
            "Epoch 49/100\n",
            "\u001b[1m500/500\u001b[0m \u001b[32m━━━━━━━━━━━━━━━━━━━━\u001b[0m\u001b[37m\u001b[0m \u001b[1m7s\u001b[0m 14ms/step - accuracy: 0.9827 - auc: 0.9983 - loss: 0.0612 - precision: 0.9758 - recall: 0.9897 - val_accuracy: 0.9851 - val_auc: 0.9983 - val_loss: 0.0434 - val_precision: 0.9771 - val_recall: 0.9935\n",
            "Epoch 50/100\n",
            "\u001b[1m500/500\u001b[0m \u001b[32m━━━━━━━━━━━━━━━━━━━━\u001b[0m\u001b[37m\u001b[0m \u001b[1m9s\u001b[0m 12ms/step - accuracy: 0.9845 - auc: 0.9984 - loss: 0.0583 - precision: 0.9789 - recall: 0.9903 - val_accuracy: 0.9844 - val_auc: 0.9986 - val_loss: 0.0424 - val_precision: 0.9764 - val_recall: 0.9927\n",
            "Epoch 51/100\n",
            "\u001b[1m500/500\u001b[0m \u001b[32m━━━━━━━━━━━━━━━━━━━━\u001b[0m\u001b[37m\u001b[0m \u001b[1m11s\u001b[0m 13ms/step - accuracy: 0.9855 - auc: 0.9983 - loss: 0.0594 - precision: 0.9805 - recall: 0.9906 - val_accuracy: 0.9862 - val_auc: 0.9985 - val_loss: 0.0390 - val_precision: 0.9833 - val_recall: 0.9893\n",
            "Epoch 52/100\n",
            "\u001b[1m500/500\u001b[0m \u001b[32m━━━━━━━━━━━━━━━━━━━━\u001b[0m\u001b[37m\u001b[0m \u001b[1m10s\u001b[0m 12ms/step - accuracy: 0.9843 - auc: 0.9982 - loss: 0.0592 - precision: 0.9771 - recall: 0.9917 - val_accuracy: 0.9864 - val_auc: 0.9983 - val_loss: 0.0412 - val_precision: 0.9805 - val_recall: 0.9925\n",
            "Epoch 53/100\n",
            "\u001b[1m500/500\u001b[0m \u001b[32m━━━━━━━━━━━━━━━━━━━━\u001b[0m\u001b[37m\u001b[0m \u001b[1m11s\u001b[0m 13ms/step - accuracy: 0.9844 - auc: 0.9983 - loss: 0.0560 - precision: 0.9777 - recall: 0.9912 - val_accuracy: 0.9829 - val_auc: 0.9979 - val_loss: 0.0500 - val_precision: 0.9717 - val_recall: 0.9948\n",
            "Epoch 54/100\n",
            "\u001b[1m500/500\u001b[0m \u001b[32m━━━━━━━━━━━━━━━━━━━━\u001b[0m\u001b[37m\u001b[0m \u001b[1m10s\u001b[0m 14ms/step - accuracy: 0.9854 - auc: 0.9983 - loss: 0.0570 - precision: 0.9790 - recall: 0.9919 - val_accuracy: 0.9850 - val_auc: 0.9985 - val_loss: 0.0401 - val_precision: 0.9785 - val_recall: 0.9918\n",
            "Epoch 55/100\n",
            "\u001b[1m500/500\u001b[0m \u001b[32m━━━━━━━━━━━━━━━━━━━━\u001b[0m\u001b[37m\u001b[0m \u001b[1m9s\u001b[0m 12ms/step - accuracy: 0.9855 - auc: 0.9987 - loss: 0.0527 - precision: 0.9795 - recall: 0.9918 - val_accuracy: 0.9851 - val_auc: 0.9984 - val_loss: 0.0420 - val_precision: 0.9778 - val_recall: 0.9927\n",
            "\n",
            "Run 3 Results:\n",
            "Test Loss: 0.0775\n",
            "Test Accuracy: 0.9722\n",
            "Test Precision: 0.9388\n",
            "Test Recall: 0.9508\n",
            "Test AUC: 0.9937\n",
            "\n",
            "==================================================\n",
            "Run 4/5\n",
            "==================================================\n",
            "Epoch 1/100\n",
            "\u001b[1m500/500\u001b[0m \u001b[32m━━━━━━━━━━━━━━━━━━━━\u001b[0m\u001b[37m\u001b[0m \u001b[1m11s\u001b[0m 15ms/step - accuracy: 0.8172 - auc: 0.8970 - loss: 0.5484 - precision: 0.7884 - recall: 0.8641 - val_accuracy: 0.9281 - val_auc: 0.9832 - val_loss: 0.2186 - val_precision: 0.8916 - val_recall: 0.9747\n",
            "Epoch 2/100\n",
            "\u001b[1m500/500\u001b[0m \u001b[32m━━━━━━━━━━━━━━━━━━━━\u001b[0m\u001b[37m\u001b[0m \u001b[1m9s\u001b[0m 13ms/step - accuracy: 0.9186 - auc: 0.9759 - loss: 0.2780 - precision: 0.8899 - recall: 0.9560 - val_accuracy: 0.9432 - val_auc: 0.9885 - val_loss: 0.1481 - val_precision: 0.9193 - val_recall: 0.9718\n",
            "Epoch 3/100\n",
            "\u001b[1m500/500\u001b[0m \u001b[32m━━━━━━━━━━━━━━━━━━━━\u001b[0m\u001b[37m\u001b[0m \u001b[1m10s\u001b[0m 12ms/step - accuracy: 0.9299 - auc: 0.9818 - loss: 0.2372 - precision: 0.9046 - recall: 0.9619 - val_accuracy: 0.9471 - val_auc: 0.9906 - val_loss: 0.1358 - val_precision: 0.9251 - val_recall: 0.9730\n",
            "Epoch 4/100\n",
            "\u001b[1m500/500\u001b[0m \u001b[32m━━━━━━━━━━━━━━━━━━━━\u001b[0m\u001b[37m\u001b[0m \u001b[1m7s\u001b[0m 14ms/step - accuracy: 0.9342 - auc: 0.9823 - loss: 0.2319 - precision: 0.9134 - recall: 0.9605 - val_accuracy: 0.9537 - val_auc: 0.9916 - val_loss: 0.1221 - val_precision: 0.9373 - val_recall: 0.9725\n",
            "Epoch 5/100\n",
            "\u001b[1m500/500\u001b[0m \u001b[32m━━━━━━━━━━━━━━━━━━━━\u001b[0m\u001b[37m\u001b[0m \u001b[1m6s\u001b[0m 11ms/step - accuracy: 0.9405 - auc: 0.9853 - loss: 0.2076 - precision: 0.9197 - recall: 0.9654 - val_accuracy: 0.9556 - val_auc: 0.9930 - val_loss: 0.1130 - val_precision: 0.9391 - val_recall: 0.9745\n",
            "Epoch 6/100\n",
            "\u001b[1m500/500\u001b[0m \u001b[32m━━━━━━━━━━━━━━━━━━━━\u001b[0m\u001b[37m\u001b[0m \u001b[1m10s\u001b[0m 12ms/step - accuracy: 0.9412 - auc: 0.9877 - loss: 0.1929 - precision: 0.9190 - recall: 0.9675 - val_accuracy: 0.9540 - val_auc: 0.9939 - val_loss: 0.1132 - val_precision: 0.9324 - val_recall: 0.9790\n",
            "Epoch 7/100\n",
            "\u001b[1m500/500\u001b[0m \u001b[32m━━━━━━━━━━━━━━━━━━━━\u001b[0m\u001b[37m\u001b[0m \u001b[1m8s\u001b[0m 15ms/step - accuracy: 0.9451 - auc: 0.9888 - loss: 0.1859 - precision: 0.9264 - recall: 0.9669 - val_accuracy: 0.9510 - val_auc: 0.9941 - val_loss: 0.1176 - val_precision: 0.9255 - val_recall: 0.9810\n",
            "Epoch 8/100\n",
            "\u001b[1m500/500\u001b[0m \u001b[32m━━━━━━━━━━━━━━━━━━━━\u001b[0m\u001b[37m\u001b[0m \u001b[1m6s\u001b[0m 12ms/step - accuracy: 0.9495 - auc: 0.9896 - loss: 0.1751 - precision: 0.9309 - recall: 0.9711 - val_accuracy: 0.9499 - val_auc: 0.9940 - val_loss: 0.1274 - val_precision: 0.9201 - val_recall: 0.9852\n",
            "Epoch 9/100\n",
            "\u001b[1m500/500\u001b[0m \u001b[32m━━━━━━━━━━━━━━━━━━━━\u001b[0m\u001b[37m\u001b[0m \u001b[1m11s\u001b[0m 13ms/step - accuracy: 0.9533 - auc: 0.9916 - loss: 0.1583 - precision: 0.9369 - recall: 0.9718 - val_accuracy: 0.9529 - val_auc: 0.9938 - val_loss: 0.1192 - val_precision: 0.9277 - val_recall: 0.9822\n",
            "Epoch 10/100\n",
            "\u001b[1m500/500\u001b[0m \u001b[32m━━━━━━━━━━━━━━━━━━━━\u001b[0m\u001b[37m\u001b[0m \u001b[1m11s\u001b[0m 14ms/step - accuracy: 0.9526 - auc: 0.9910 - loss: 0.1616 - precision: 0.9348 - recall: 0.9731 - val_accuracy: 0.9569 - val_auc: 0.9947 - val_loss: 0.1113 - val_precision: 0.9317 - val_recall: 0.9860\n",
            "Epoch 11/100\n",
            "\u001b[1m500/500\u001b[0m \u001b[32m━━━━━━━━━━━━━━━━━━━━\u001b[0m\u001b[37m\u001b[0m \u001b[1m6s\u001b[0m 12ms/step - accuracy: 0.9586 - auc: 0.9922 - loss: 0.1503 - precision: 0.9411 - recall: 0.9775 - val_accuracy: 0.9724 - val_auc: 0.9961 - val_loss: 0.0787 - val_precision: 0.9742 - val_recall: 0.9705\n",
            "Epoch 12/100\n",
            "\u001b[1m500/500\u001b[0m \u001b[32m━━━━━━━━━━━━━━━━━━━━\u001b[0m\u001b[37m\u001b[0m \u001b[1m10s\u001b[0m 12ms/step - accuracy: 0.9584 - auc: 0.9929 - loss: 0.1415 - precision: 0.9427 - recall: 0.9763 - val_accuracy: 0.9624 - val_auc: 0.9962 - val_loss: 0.0933 - val_precision: 0.9407 - val_recall: 0.9870\n",
            "Epoch 13/100\n",
            "\u001b[1m500/500\u001b[0m \u001b[32m━━━━━━━━━━━━━━━━━━━━\u001b[0m\u001b[37m\u001b[0m \u001b[1m7s\u001b[0m 15ms/step - accuracy: 0.9611 - auc: 0.9936 - loss: 0.1342 - precision: 0.9444 - recall: 0.9795 - val_accuracy: 0.9577 - val_auc: 0.9951 - val_loss: 0.1094 - val_precision: 0.9312 - val_recall: 0.9885\n",
            "Epoch 14/100\n",
            "\u001b[1m500/500\u001b[0m \u001b[32m━━━━━━━━━━━━━━━━━━━━\u001b[0m\u001b[37m\u001b[0m \u001b[1m6s\u001b[0m 12ms/step - accuracy: 0.9628 - auc: 0.9938 - loss: 0.1323 - precision: 0.9485 - recall: 0.9787 - val_accuracy: 0.9632 - val_auc: 0.9964 - val_loss: 0.0924 - val_precision: 0.9406 - val_recall: 0.9890\n",
            "Epoch 15/100\n",
            "\u001b[1m500/500\u001b[0m \u001b[32m━━━━━━━━━━━━━━━━━━━━\u001b[0m\u001b[37m\u001b[0m \u001b[1m7s\u001b[0m 13ms/step - accuracy: 0.9659 - auc: 0.9943 - loss: 0.1218 - precision: 0.9521 - recall: 0.9812 - val_accuracy: 0.9754 - val_auc: 0.9971 - val_loss: 0.0669 - val_precision: 0.9706 - val_recall: 0.9805\n",
            "Epoch 16/100\n",
            "\u001b[1m500/500\u001b[0m \u001b[32m━━━━━━━━━━━━━━━━━━━━\u001b[0m\u001b[37m\u001b[0m \u001b[1m9s\u001b[0m 12ms/step - accuracy: 0.9658 - auc: 0.9941 - loss: 0.1246 - precision: 0.9529 - recall: 0.9805 - val_accuracy: 0.9731 - val_auc: 0.9968 - val_loss: 0.0706 - val_precision: 0.9631 - val_recall: 0.9840\n",
            "Epoch 17/100\n",
            "\u001b[1m500/500\u001b[0m \u001b[32m━━━━━━━━━━━━━━━━━━━━\u001b[0m\u001b[37m\u001b[0m \u001b[1m10s\u001b[0m 12ms/step - accuracy: 0.9685 - auc: 0.9947 - loss: 0.1186 - precision: 0.9554 - recall: 0.9829 - val_accuracy: 0.9767 - val_auc: 0.9973 - val_loss: 0.0637 - val_precision: 0.9739 - val_recall: 0.9797\n",
            "Epoch 18/100\n",
            "\u001b[1m500/500\u001b[0m \u001b[32m━━━━━━━━━━━━━━━━━━━━\u001b[0m\u001b[37m\u001b[0m \u001b[1m10s\u001b[0m 12ms/step - accuracy: 0.9684 - auc: 0.9945 - loss: 0.1206 - precision: 0.9584 - recall: 0.9802 - val_accuracy: 0.9772 - val_auc: 0.9976 - val_loss: 0.0610 - val_precision: 0.9751 - val_recall: 0.9795\n",
            "Epoch 19/100\n",
            "\u001b[1m500/500\u001b[0m \u001b[32m━━━━━━━━━━━━━━━━━━━━\u001b[0m\u001b[37m\u001b[0m \u001b[1m7s\u001b[0m 13ms/step - accuracy: 0.9708 - auc: 0.9956 - loss: 0.1099 - precision: 0.9615 - recall: 0.9815 - val_accuracy: 0.9786 - val_auc: 0.9977 - val_loss: 0.0591 - val_precision: 0.9795 - val_recall: 0.9778\n",
            "Epoch 20/100\n",
            "\u001b[1m500/500\u001b[0m \u001b[32m━━━━━━━━━━━━━━━━━━━━\u001b[0m\u001b[37m\u001b[0m \u001b[1m6s\u001b[0m 13ms/step - accuracy: 0.9695 - auc: 0.9957 - loss: 0.1087 - precision: 0.9573 - recall: 0.9829 - val_accuracy: 0.9762 - val_auc: 0.9978 - val_loss: 0.0645 - val_precision: 0.9642 - val_recall: 0.9893\n",
            "Epoch 21/100\n",
            "\u001b[1m500/500\u001b[0m \u001b[32m━━━━━━━━━━━━━━━━━━━━\u001b[0m\u001b[37m\u001b[0m \u001b[1m11s\u001b[0m 14ms/step - accuracy: 0.9707 - auc: 0.9956 - loss: 0.1056 - precision: 0.9590 - recall: 0.9833 - val_accuracy: 0.9789 - val_auc: 0.9976 - val_loss: 0.0578 - val_precision: 0.9752 - val_recall: 0.9827\n",
            "Epoch 22/100\n",
            "\u001b[1m500/500\u001b[0m \u001b[32m━━━━━━━━━━━━━━━━━━━━\u001b[0m\u001b[37m\u001b[0m \u001b[1m6s\u001b[0m 12ms/step - accuracy: 0.9702 - auc: 0.9953 - loss: 0.1104 - precision: 0.9590 - recall: 0.9821 - val_accuracy: 0.9801 - val_auc: 0.9979 - val_loss: 0.0564 - val_precision: 0.9769 - val_recall: 0.9835\n",
            "Epoch 23/100\n",
            "\u001b[1m500/500\u001b[0m \u001b[32m━━━━━━━━━━━━━━━━━━━━\u001b[0m\u001b[37m\u001b[0m \u001b[1m7s\u001b[0m 14ms/step - accuracy: 0.9728 - auc: 0.9959 - loss: 0.0991 - precision: 0.9616 - recall: 0.9851 - val_accuracy: 0.9792 - val_auc: 0.9981 - val_loss: 0.0577 - val_precision: 0.9701 - val_recall: 0.9890\n",
            "Epoch 24/100\n",
            "\u001b[1m500/500\u001b[0m \u001b[32m━━━━━━━━━━━━━━━━━━━━\u001b[0m\u001b[37m\u001b[0m \u001b[1m6s\u001b[0m 12ms/step - accuracy: 0.9752 - auc: 0.9968 - loss: 0.0901 - precision: 0.9647 - recall: 0.9864 - val_accuracy: 0.9794 - val_auc: 0.9982 - val_loss: 0.0568 - val_precision: 0.9699 - val_recall: 0.9895\n",
            "Epoch 25/100\n",
            "\u001b[1m500/500\u001b[0m \u001b[32m━━━━━━━━━━━━━━━━━━━━\u001b[0m\u001b[37m\u001b[0m \u001b[1m7s\u001b[0m 14ms/step - accuracy: 0.9761 - auc: 0.9967 - loss: 0.0905 - precision: 0.9668 - recall: 0.9868 - val_accuracy: 0.9814 - val_auc: 0.9980 - val_loss: 0.0541 - val_precision: 0.9755 - val_recall: 0.9875\n",
            "Epoch 26/100\n",
            "\u001b[1m500/500\u001b[0m \u001b[32m━━━━━━━━━━━━━━━━━━━━\u001b[0m\u001b[37m\u001b[0m \u001b[1m7s\u001b[0m 14ms/step - accuracy: 0.9751 - auc: 0.9966 - loss: 0.0922 - precision: 0.9652 - recall: 0.9857 - val_accuracy: 0.9780 - val_auc: 0.9979 - val_loss: 0.0585 - val_precision: 0.9668 - val_recall: 0.9900\n",
            "Epoch 27/100\n",
            "\u001b[1m500/500\u001b[0m \u001b[32m━━━━━━━━━━━━━━━━━━━━\u001b[0m\u001b[37m\u001b[0m \u001b[1m9s\u001b[0m 12ms/step - accuracy: 0.9761 - auc: 0.9966 - loss: 0.0912 - precision: 0.9676 - recall: 0.9856 - val_accuracy: 0.9816 - val_auc: 0.9980 - val_loss: 0.0533 - val_precision: 0.9746 - val_recall: 0.9890\n",
            "Epoch 28/100\n",
            "\u001b[1m500/500\u001b[0m \u001b[32m━━━━━━━━━━━━━━━━━━━━\u001b[0m\u001b[37m\u001b[0m \u001b[1m7s\u001b[0m 15ms/step - accuracy: 0.9762 - auc: 0.9968 - loss: 0.0886 - precision: 0.9680 - recall: 0.9849 - val_accuracy: 0.9805 - val_auc: 0.9979 - val_loss: 0.0541 - val_precision: 0.9722 - val_recall: 0.9893\n",
            "Epoch 29/100\n",
            "\u001b[1m500/500\u001b[0m \u001b[32m━━━━━━━━━━━━━━━━━━━━\u001b[0m\u001b[37m\u001b[0m \u001b[1m9s\u001b[0m 12ms/step - accuracy: 0.9779 - auc: 0.9974 - loss: 0.0808 - precision: 0.9694 - recall: 0.9875 - val_accuracy: 0.9832 - val_auc: 0.9983 - val_loss: 0.0483 - val_precision: 0.9854 - val_recall: 0.9810\n",
            "Epoch 30/100\n",
            "\u001b[1m500/500\u001b[0m \u001b[32m━━━━━━━━━━━━━━━━━━━━\u001b[0m\u001b[37m\u001b[0m \u001b[1m10s\u001b[0m 12ms/step - accuracy: 0.9784 - auc: 0.9976 - loss: 0.0783 - precision: 0.9705 - recall: 0.9868 - val_accuracy: 0.9790 - val_auc: 0.9980 - val_loss: 0.0582 - val_precision: 0.9671 - val_recall: 0.9918\n",
            "Epoch 31/100\n",
            "\u001b[1m500/500\u001b[0m \u001b[32m━━━━━━━━━━━━━━━━━━━━\u001b[0m\u001b[37m\u001b[0m \u001b[1m11s\u001b[0m 12ms/step - accuracy: 0.9753 - auc: 0.9962 - loss: 0.0898 - precision: 0.9639 - recall: 0.9871 - val_accuracy: 0.9822 - val_auc: 0.9984 - val_loss: 0.0508 - val_precision: 0.9742 - val_recall: 0.9908\n",
            "Epoch 32/100\n",
            "\u001b[1m500/500\u001b[0m \u001b[32m━━━━━━━━━━━━━━━━━━━━\u001b[0m\u001b[37m\u001b[0m \u001b[1m11s\u001b[0m 14ms/step - accuracy: 0.9780 - auc: 0.9974 - loss: 0.0807 - precision: 0.9695 - recall: 0.9866 - val_accuracy: 0.9837 - val_auc: 0.9982 - val_loss: 0.0476 - val_precision: 0.9813 - val_recall: 0.9862\n",
            "Epoch 33/100\n",
            "\u001b[1m500/500\u001b[0m \u001b[32m━━━━━━━━━━━━━━━━━━━━\u001b[0m\u001b[37m\u001b[0m \u001b[1m6s\u001b[0m 12ms/step - accuracy: 0.9783 - auc: 0.9971 - loss: 0.0807 - precision: 0.9692 - recall: 0.9876 - val_accuracy: 0.9841 - val_auc: 0.9984 - val_loss: 0.0476 - val_precision: 0.9879 - val_recall: 0.9803\n",
            "Epoch 34/100\n",
            "\u001b[1m500/500\u001b[0m \u001b[32m━━━━━━━━━━━━━━━━━━━━\u001b[0m\u001b[37m\u001b[0m \u001b[1m7s\u001b[0m 14ms/step - accuracy: 0.9798 - auc: 0.9972 - loss: 0.0767 - precision: 0.9717 - recall: 0.9884 - val_accuracy: 0.9851 - val_auc: 0.9980 - val_loss: 0.0467 - val_precision: 0.9814 - val_recall: 0.9890\n",
            "Epoch 35/100\n",
            "\u001b[1m500/500\u001b[0m \u001b[32m━━━━━━━━━━━━━━━━━━━━\u001b[0m\u001b[37m\u001b[0m \u001b[1m10s\u001b[0m 13ms/step - accuracy: 0.9803 - auc: 0.9978 - loss: 0.0735 - precision: 0.9731 - recall: 0.9882 - val_accuracy: 0.9847 - val_auc: 0.9985 - val_loss: 0.0456 - val_precision: 0.9852 - val_recall: 0.9843\n",
            "Epoch 36/100\n",
            "\u001b[1m500/500\u001b[0m \u001b[32m━━━━━━━━━━━━━━━━━━━━\u001b[0m\u001b[37m\u001b[0m \u001b[1m6s\u001b[0m 12ms/step - accuracy: 0.9792 - auc: 0.9976 - loss: 0.0762 - precision: 0.9708 - recall: 0.9886 - val_accuracy: 0.9854 - val_auc: 0.9985 - val_loss: 0.0439 - val_precision: 0.9826 - val_recall: 0.9883\n",
            "Epoch 37/100\n",
            "\u001b[1m500/500\u001b[0m \u001b[32m━━━━━━━━━━━━━━━━━━━━\u001b[0m\u001b[37m\u001b[0m \u001b[1m7s\u001b[0m 14ms/step - accuracy: 0.9813 - auc: 0.9976 - loss: 0.0725 - precision: 0.9748 - recall: 0.9885 - val_accuracy: 0.9837 - val_auc: 0.9984 - val_loss: 0.0475 - val_precision: 0.9764 - val_recall: 0.9915\n",
            "Epoch 38/100\n",
            "\u001b[1m500/500\u001b[0m \u001b[32m━━━━━━━━━━━━━━━━━━━━\u001b[0m\u001b[37m\u001b[0m \u001b[1m9s\u001b[0m 12ms/step - accuracy: 0.9799 - auc: 0.9977 - loss: 0.0728 - precision: 0.9706 - recall: 0.9894 - val_accuracy: 0.9856 - val_auc: 0.9986 - val_loss: 0.0431 - val_precision: 0.9867 - val_recall: 0.9845\n",
            "Epoch 39/100\n",
            "\u001b[1m500/500\u001b[0m \u001b[32m━━━━━━━━━━━━━━━━━━━━\u001b[0m\u001b[37m\u001b[0m \u001b[1m10s\u001b[0m 12ms/step - accuracy: 0.9815 - auc: 0.9980 - loss: 0.0691 - precision: 0.9738 - recall: 0.9900 - val_accuracy: 0.9857 - val_auc: 0.9986 - val_loss: 0.0437 - val_precision: 0.9814 - val_recall: 0.9902\n",
            "Epoch 40/100\n",
            "\u001b[1m500/500\u001b[0m \u001b[32m━━━━━━━━━━━━━━━━━━━━\u001b[0m\u001b[37m\u001b[0m \u001b[1m7s\u001b[0m 14ms/step - accuracy: 0.9802 - auc: 0.9978 - loss: 0.0703 - precision: 0.9746 - recall: 0.9865 - val_accuracy: 0.9764 - val_auc: 0.9972 - val_loss: 0.0707 - val_precision: 0.9584 - val_recall: 0.9960\n",
            "Epoch 41/100\n",
            "\u001b[1m500/500\u001b[0m \u001b[32m━━━━━━━━━━━━━━━━━━━━\u001b[0m\u001b[37m\u001b[0m \u001b[1m7s\u001b[0m 14ms/step - accuracy: 0.9838 - auc: 0.9983 - loss: 0.0616 - precision: 0.9768 - recall: 0.9908 - val_accuracy: 0.9684 - val_auc: 0.9981 - val_loss: 0.0798 - val_precision: 0.9945 - val_recall: 0.9420\n",
            "Epoch 42/100\n",
            "\u001b[1m500/500\u001b[0m \u001b[32m━━━━━━━━━━━━━━━━━━━━\u001b[0m\u001b[37m\u001b[0m \u001b[1m7s\u001b[0m 14ms/step - accuracy: 0.9805 - auc: 0.9976 - loss: 0.0722 - precision: 0.9739 - recall: 0.9876 - val_accuracy: 0.9849 - val_auc: 0.9983 - val_loss: 0.0449 - val_precision: 0.9788 - val_recall: 0.9912\n",
            "Epoch 43/100\n",
            "\u001b[1m500/500\u001b[0m \u001b[32m━━━━━━━━━━━━━━━━━━━━\u001b[0m\u001b[37m\u001b[0m \u001b[1m10s\u001b[0m 13ms/step - accuracy: 0.9829 - auc: 0.9977 - loss: 0.0673 - precision: 0.9754 - recall: 0.9905 - val_accuracy: 0.9845 - val_auc: 0.9986 - val_loss: 0.0441 - val_precision: 0.9776 - val_recall: 0.9918\n",
            "Epoch 44/100\n",
            "\u001b[1m500/500\u001b[0m \u001b[32m━━━━━━━━━━━━━━━━━━━━\u001b[0m\u001b[37m\u001b[0m \u001b[1m9s\u001b[0m 12ms/step - accuracy: 0.9828 - auc: 0.9982 - loss: 0.0641 - precision: 0.9760 - recall: 0.9904 - val_accuracy: 0.9852 - val_auc: 0.9988 - val_loss: 0.0413 - val_precision: 0.9897 - val_recall: 0.9808\n",
            "Epoch 45/100\n",
            "\u001b[1m500/500\u001b[0m \u001b[32m━━━━━━━━━━━━━━━━━━━━\u001b[0m\u001b[37m\u001b[0m \u001b[1m7s\u001b[0m 14ms/step - accuracy: 0.9819 - auc: 0.9979 - loss: 0.0676 - precision: 0.9754 - recall: 0.9887 - val_accuracy: 0.9816 - val_auc: 0.9987 - val_loss: 0.0512 - val_precision: 0.9916 - val_recall: 0.9715\n",
            "Epoch 46/100\n",
            "\u001b[1m500/500\u001b[0m \u001b[32m━━━━━━━━━━━━━━━━━━━━\u001b[0m\u001b[37m\u001b[0m \u001b[1m10s\u001b[0m 14ms/step - accuracy: 0.9834 - auc: 0.9977 - loss: 0.0645 - precision: 0.9760 - recall: 0.9911 - val_accuracy: 0.9865 - val_auc: 0.9985 - val_loss: 0.0400 - val_precision: 0.9822 - val_recall: 0.9910\n",
            "Epoch 47/100\n",
            "\u001b[1m500/500\u001b[0m \u001b[32m━━━━━━━━━━━━━━━━━━━━\u001b[0m\u001b[37m\u001b[0m \u001b[1m6s\u001b[0m 12ms/step - accuracy: 0.9831 - auc: 0.9982 - loss: 0.0613 - precision: 0.9762 - recall: 0.9908 - val_accuracy: 0.9869 - val_auc: 0.9983 - val_loss: 0.0412 - val_precision: 0.9848 - val_recall: 0.9890\n",
            "Epoch 48/100\n",
            "\u001b[1m500/500\u001b[0m \u001b[32m━━━━━━━━━━━━━━━━━━━━\u001b[0m\u001b[37m\u001b[0m \u001b[1m11s\u001b[0m 14ms/step - accuracy: 0.9846 - auc: 0.9982 - loss: 0.0595 - precision: 0.9776 - recall: 0.9918 - val_accuracy: 0.9842 - val_auc: 0.9985 - val_loss: 0.0450 - val_precision: 0.9759 - val_recall: 0.9930\n",
            "Epoch 49/100\n",
            "\u001b[1m500/500\u001b[0m \u001b[32m━━━━━━━━━━━━━━━━━━━━\u001b[0m\u001b[37m\u001b[0m \u001b[1m6s\u001b[0m 12ms/step - accuracy: 0.9856 - auc: 0.9983 - loss: 0.0560 - precision: 0.9788 - recall: 0.9926 - val_accuracy: 0.9851 - val_auc: 0.9987 - val_loss: 0.0418 - val_precision: 0.9901 - val_recall: 0.9800\n",
            "Epoch 50/100\n",
            "\u001b[1m500/500\u001b[0m \u001b[32m━━━━━━━━━━━━━━━━━━━━\u001b[0m\u001b[37m\u001b[0m \u001b[1m10s\u001b[0m 12ms/step - accuracy: 0.9837 - auc: 0.9982 - loss: 0.0606 - precision: 0.9773 - recall: 0.9906 - val_accuracy: 0.9869 - val_auc: 0.9988 - val_loss: 0.0387 - val_precision: 0.9843 - val_recall: 0.9895\n",
            "Epoch 51/100\n",
            "\u001b[1m500/500\u001b[0m \u001b[32m━━━━━━━━━━━━━━━━━━━━\u001b[0m\u001b[37m\u001b[0m \u001b[1m10s\u001b[0m 12ms/step - accuracy: 0.9841 - auc: 0.9987 - loss: 0.0562 - precision: 0.9778 - recall: 0.9909 - val_accuracy: 0.9819 - val_auc: 0.9988 - val_loss: 0.0473 - val_precision: 0.9941 - val_recall: 0.9695\n",
            "Epoch 52/100\n",
            "\u001b[1m500/500\u001b[0m \u001b[32m━━━━━━━━━━━━━━━━━━━━\u001b[0m\u001b[37m\u001b[0m \u001b[1m7s\u001b[0m 13ms/step - accuracy: 0.9843 - auc: 0.9986 - loss: 0.0549 - precision: 0.9784 - recall: 0.9899 - val_accuracy: 0.9875 - val_auc: 0.9988 - val_loss: 0.0361 - val_precision: 0.9873 - val_recall: 0.9877\n",
            "Epoch 53/100\n",
            "\u001b[1m500/500\u001b[0m \u001b[32m━━━━━━━━━━━━━━━━━━━━\u001b[0m\u001b[37m\u001b[0m \u001b[1m9s\u001b[0m 12ms/step - accuracy: 0.9850 - auc: 0.9984 - loss: 0.0566 - precision: 0.9794 - recall: 0.9909 - val_accuracy: 0.9856 - val_auc: 0.9991 - val_loss: 0.0394 - val_precision: 0.9912 - val_recall: 0.9800\n",
            "Epoch 54/100\n",
            "\u001b[1m500/500\u001b[0m \u001b[32m━━━━━━━━━━━━━━━━━━━━\u001b[0m\u001b[37m\u001b[0m \u001b[1m7s\u001b[0m 14ms/step - accuracy: 0.9856 - auc: 0.9986 - loss: 0.0535 - precision: 0.9792 - recall: 0.9923 - val_accuracy: 0.9871 - val_auc: 0.9990 - val_loss: 0.0351 - val_precision: 0.9880 - val_recall: 0.9862\n",
            "Epoch 55/100\n",
            "\u001b[1m500/500\u001b[0m \u001b[32m━━━━━━━━━━━━━━━━━━━━\u001b[0m\u001b[37m\u001b[0m \u001b[1m6s\u001b[0m 12ms/step - accuracy: 0.9851 - auc: 0.9985 - loss: 0.0554 - precision: 0.9786 - recall: 0.9919 - val_accuracy: 0.9837 - val_auc: 0.9985 - val_loss: 0.0439 - val_precision: 0.9752 - val_recall: 0.9927\n",
            "Epoch 56/100\n",
            "\u001b[1m500/500\u001b[0m \u001b[32m━━━━━━━━━━━━━━━━━━━━\u001b[0m\u001b[37m\u001b[0m \u001b[1m10s\u001b[0m 12ms/step - accuracy: 0.9867 - auc: 0.9988 - loss: 0.0487 - precision: 0.9818 - recall: 0.9923 - val_accuracy: 0.9871 - val_auc: 0.9988 - val_loss: 0.0352 - val_precision: 0.9882 - val_recall: 0.9860\n",
            "Epoch 57/100\n",
            "\u001b[1m500/500\u001b[0m \u001b[32m━━━━━━━━━━━━━━━━━━━━\u001b[0m\u001b[37m\u001b[0m \u001b[1m12s\u001b[0m 15ms/step - accuracy: 0.9861 - auc: 0.9985 - loss: 0.0529 - precision: 0.9809 - recall: 0.9916 - val_accuracy: 0.9824 - val_auc: 0.9991 - val_loss: 0.0452 - val_precision: 0.9941 - val_recall: 0.9705\n",
            "Epoch 58/100\n",
            "\u001b[1m500/500\u001b[0m \u001b[32m━━━━━━━━━━━━━━━━━━━━\u001b[0m\u001b[37m\u001b[0m \u001b[1m6s\u001b[0m 12ms/step - accuracy: 0.9876 - auc: 0.9983 - loss: 0.0506 - precision: 0.9823 - recall: 0.9930 - val_accuracy: 0.9867 - val_auc: 0.9988 - val_loss: 0.0380 - val_precision: 0.9807 - val_recall: 0.9930\n",
            "Epoch 59/100\n",
            "\u001b[1m500/500\u001b[0m \u001b[32m━━━━━━━━━━━━━━━━━━━━\u001b[0m\u001b[37m\u001b[0m \u001b[1m10s\u001b[0m 12ms/step - accuracy: 0.9871 - auc: 0.9986 - loss: 0.0520 - precision: 0.9820 - recall: 0.9924 - val_accuracy: 0.9842 - val_auc: 0.9985 - val_loss: 0.0438 - val_precision: 0.9752 - val_recall: 0.9937\n",
            "Epoch 60/100\n",
            "\u001b[1m500/500\u001b[0m \u001b[32m━━━━━━━━━━━━━━━━━━━━\u001b[0m\u001b[37m\u001b[0m \u001b[1m7s\u001b[0m 14ms/step - accuracy: 0.9855 - auc: 0.9987 - loss: 0.0540 - precision: 0.9786 - recall: 0.9928 - val_accuracy: 0.9880 - val_auc: 0.9991 - val_loss: 0.0347 - val_precision: 0.9907 - val_recall: 0.9852\n",
            "Epoch 61/100\n",
            "\u001b[1m500/500\u001b[0m \u001b[32m━━━━━━━━━━━━━━━━━━━━\u001b[0m\u001b[37m\u001b[0m \u001b[1m9s\u001b[0m 12ms/step - accuracy: 0.9867 - auc: 0.9989 - loss: 0.0488 - precision: 0.9812 - recall: 0.9923 - val_accuracy: 0.9872 - val_auc: 0.9985 - val_loss: 0.0381 - val_precision: 0.9839 - val_recall: 0.9908\n",
            "Epoch 62/100\n",
            "\u001b[1m500/500\u001b[0m \u001b[32m━━━━━━━━━━━━━━━━━━━━\u001b[0m\u001b[37m\u001b[0m \u001b[1m10s\u001b[0m 12ms/step - accuracy: 0.9858 - auc: 0.9986 - loss: 0.0541 - precision: 0.9801 - recall: 0.9915 - val_accuracy: 0.9887 - val_auc: 0.9991 - val_loss: 0.0341 - val_precision: 0.9910 - val_recall: 0.9865\n",
            "Epoch 63/100\n",
            "\u001b[1m500/500\u001b[0m \u001b[32m━━━━━━━━━━━━━━━━━━━━\u001b[0m\u001b[37m\u001b[0m \u001b[1m7s\u001b[0m 14ms/step - accuracy: 0.9864 - auc: 0.9985 - loss: 0.0496 - precision: 0.9808 - recall: 0.9921 - val_accuracy: 0.9864 - val_auc: 0.9987 - val_loss: 0.0347 - val_precision: 0.9826 - val_recall: 0.9902\n",
            "Epoch 64/100\n",
            "\u001b[1m500/500\u001b[0m \u001b[32m━━━━━━━━━━━━━━━━━━━━\u001b[0m\u001b[37m\u001b[0m \u001b[1m6s\u001b[0m 12ms/step - accuracy: 0.9864 - auc: 0.9987 - loss: 0.0490 - precision: 0.9813 - recall: 0.9915 - val_accuracy: 0.9869 - val_auc: 0.9990 - val_loss: 0.0383 - val_precision: 0.9924 - val_recall: 0.9812\n",
            "Epoch 65/100\n",
            "\u001b[1m500/500\u001b[0m \u001b[32m━━━━━━━━━━━━━━━━━━━━\u001b[0m\u001b[37m\u001b[0m \u001b[1m7s\u001b[0m 15ms/step - accuracy: 0.9866 - auc: 0.9988 - loss: 0.0485 - precision: 0.9809 - recall: 0.9926 - val_accuracy: 0.9879 - val_auc: 0.9992 - val_loss: 0.0316 - val_precision: 0.9853 - val_recall: 0.9905\n",
            "Epoch 66/100\n",
            "\u001b[1m500/500\u001b[0m \u001b[32m━━━━━━━━━━━━━━━━━━━━\u001b[0m\u001b[37m\u001b[0m \u001b[1m6s\u001b[0m 12ms/step - accuracy: 0.9871 - auc: 0.9987 - loss: 0.0507 - precision: 0.9822 - recall: 0.9920 - val_accuracy: 0.9864 - val_auc: 0.9988 - val_loss: 0.0346 - val_precision: 0.9838 - val_recall: 0.9890\n",
            "Epoch 67/100\n",
            "\u001b[1m500/500\u001b[0m \u001b[32m━━━━━━━━━━━━━━━━━━━━\u001b[0m\u001b[37m\u001b[0m \u001b[1m7s\u001b[0m 14ms/step - accuracy: 0.9866 - auc: 0.9986 - loss: 0.0500 - precision: 0.9810 - recall: 0.9926 - val_accuracy: 0.9877 - val_auc: 0.9990 - val_loss: 0.0323 - val_precision: 0.9887 - val_recall: 0.9868\n",
            "Epoch 68/100\n",
            "\u001b[1m500/500\u001b[0m \u001b[32m━━━━━━━━━━━━━━━━━━━━\u001b[0m\u001b[37m\u001b[0m \u001b[1m6s\u001b[0m 12ms/step - accuracy: 0.9872 - auc: 0.9988 - loss: 0.0473 - precision: 0.9826 - recall: 0.9918 - val_accuracy: 0.9882 - val_auc: 0.9992 - val_loss: 0.0323 - val_precision: 0.9868 - val_recall: 0.9898\n",
            "Epoch 69/100\n",
            "\u001b[1m500/500\u001b[0m \u001b[32m━━━━━━━━━━━━━━━━━━━━\u001b[0m\u001b[37m\u001b[0m \u001b[1m7s\u001b[0m 14ms/step - accuracy: 0.9885 - auc: 0.9989 - loss: 0.0438 - precision: 0.9839 - recall: 0.9933 - val_accuracy: 0.9885 - val_auc: 0.9992 - val_loss: 0.0312 - val_precision: 0.9890 - val_recall: 0.9880\n",
            "Epoch 70/100\n",
            "\u001b[1m500/500\u001b[0m \u001b[32m━━━━━━━━━━━━━━━━━━━━\u001b[0m\u001b[37m\u001b[0m \u001b[1m9s\u001b[0m 12ms/step - accuracy: 0.9880 - auc: 0.9985 - loss: 0.0458 - precision: 0.9829 - recall: 0.9933 - val_accuracy: 0.9886 - val_auc: 0.9990 - val_loss: 0.0320 - val_precision: 0.9885 - val_recall: 0.9887\n",
            "Epoch 71/100\n",
            "\u001b[1m500/500\u001b[0m \u001b[32m━━━━━━━━━━━━━━━━━━━━\u001b[0m\u001b[37m\u001b[0m \u001b[1m11s\u001b[0m 14ms/step - accuracy: 0.9869 - auc: 0.9986 - loss: 0.0493 - precision: 0.9822 - recall: 0.9919 - val_accuracy: 0.9886 - val_auc: 0.9987 - val_loss: 0.0334 - val_precision: 0.9846 - val_recall: 0.9927\n",
            "Epoch 72/100\n",
            "\u001b[1m500/500\u001b[0m \u001b[32m━━━━━━━━━━━━━━━━━━━━\u001b[0m\u001b[37m\u001b[0m \u001b[1m9s\u001b[0m 12ms/step - accuracy: 0.9876 - auc: 0.9989 - loss: 0.0456 - precision: 0.9813 - recall: 0.9941 - val_accuracy: 0.9867 - val_auc: 0.9988 - val_loss: 0.0368 - val_precision: 0.9932 - val_recall: 0.9803\n",
            "Epoch 73/100\n",
            "\u001b[1m500/500\u001b[0m \u001b[32m━━━━━━━━━━━━━━━━━━━━\u001b[0m\u001b[37m\u001b[0m \u001b[1m7s\u001b[0m 14ms/step - accuracy: 0.9886 - auc: 0.9990 - loss: 0.0427 - precision: 0.9845 - recall: 0.9928 - val_accuracy: 0.9885 - val_auc: 0.9991 - val_loss: 0.0304 - val_precision: 0.9851 - val_recall: 0.9920\n",
            "Epoch 74/100\n",
            "\u001b[1m500/500\u001b[0m \u001b[32m━━━━━━━━━━━━━━━━━━━━\u001b[0m\u001b[37m\u001b[0m \u001b[1m9s\u001b[0m 12ms/step - accuracy: 0.9885 - auc: 0.9991 - loss: 0.0420 - precision: 0.9841 - recall: 0.9931 - val_accuracy: 0.9857 - val_auc: 0.9992 - val_loss: 0.0379 - val_precision: 0.9939 - val_recall: 0.9775\n",
            "Epoch 75/100\n",
            "\u001b[1m500/500\u001b[0m \u001b[32m━━━━━━━━━━━━━━━━━━━━\u001b[0m\u001b[37m\u001b[0m \u001b[1m7s\u001b[0m 14ms/step - accuracy: 0.9889 - auc: 0.9991 - loss: 0.0419 - precision: 0.9856 - recall: 0.9926 - val_accuracy: 0.9887 - val_auc: 0.9989 - val_loss: 0.0328 - val_precision: 0.9856 - val_recall: 0.9920\n",
            "Epoch 76/100\n",
            "\u001b[1m500/500\u001b[0m \u001b[32m━━━━━━━━━━━━━━━━━━━━\u001b[0m\u001b[37m\u001b[0m \u001b[1m6s\u001b[0m 12ms/step - accuracy: 0.9899 - auc: 0.9991 - loss: 0.0378 - precision: 0.9849 - recall: 0.9949 - val_accuracy: 0.9857 - val_auc: 0.9982 - val_loss: 0.0415 - val_precision: 0.9765 - val_recall: 0.9955\n",
            "Epoch 77/100\n",
            "\u001b[1m500/500\u001b[0m \u001b[32m━━━━━━━━━━━━━━━━━━━━\u001b[0m\u001b[37m\u001b[0m \u001b[1m7s\u001b[0m 14ms/step - accuracy: 0.9888 - auc: 0.9989 - loss: 0.0410 - precision: 0.9841 - recall: 0.9940 - val_accuracy: 0.9879 - val_auc: 0.9986 - val_loss: 0.0339 - val_precision: 0.9827 - val_recall: 0.9933\n",
            "Epoch 78/100\n",
            "\u001b[1m500/500\u001b[0m \u001b[32m━━━━━━━━━━━━━━━━━━━━\u001b[0m\u001b[37m\u001b[0m \u001b[1m6s\u001b[0m 12ms/step - accuracy: 0.9885 - auc: 0.9989 - loss: 0.0414 - precision: 0.9836 - recall: 0.9936 - val_accuracy: 0.9894 - val_auc: 0.9990 - val_loss: 0.0298 - val_precision: 0.9910 - val_recall: 0.9877\n",
            "Epoch 79/100\n",
            "\u001b[1m500/500\u001b[0m \u001b[32m━━━━━━━━━━━━━━━━━━━━\u001b[0m\u001b[37m\u001b[0m \u001b[1m7s\u001b[0m 14ms/step - accuracy: 0.9892 - auc: 0.9990 - loss: 0.0430 - precision: 0.9847 - recall: 0.9937 - val_accuracy: 0.9899 - val_auc: 0.9989 - val_loss: 0.0302 - val_precision: 0.9871 - val_recall: 0.9927\n",
            "Epoch 80/100\n",
            "\u001b[1m500/500\u001b[0m \u001b[32m━━━━━━━━━━━━━━━━━━━━\u001b[0m\u001b[37m\u001b[0m \u001b[1m10s\u001b[0m 14ms/step - accuracy: 0.9905 - auc: 0.9994 - loss: 0.0360 - precision: 0.9864 - recall: 0.9947 - val_accuracy: 0.9890 - val_auc: 0.9992 - val_loss: 0.0298 - val_precision: 0.9897 - val_recall: 0.9883\n",
            "Epoch 81/100\n",
            "\u001b[1m500/500\u001b[0m \u001b[32m━━━━━━━━━━━━━━━━━━━━\u001b[0m\u001b[37m\u001b[0m \u001b[1m6s\u001b[0m 13ms/step - accuracy: 0.9897 - auc: 0.9992 - loss: 0.0402 - precision: 0.9852 - recall: 0.9944 - val_accuracy: 0.9894 - val_auc: 0.9990 - val_loss: 0.0297 - val_precision: 0.9895 - val_recall: 0.9893\n",
            "Epoch 82/100\n",
            "\u001b[1m500/500\u001b[0m \u001b[32m━━━━━━━━━━━━━━━━━━━━\u001b[0m\u001b[37m\u001b[0m \u001b[1m11s\u001b[0m 14ms/step - accuracy: 0.9877 - auc: 0.9988 - loss: 0.0438 - precision: 0.9819 - recall: 0.9936 - val_accuracy: 0.9896 - val_auc: 0.9994 - val_loss: 0.0290 - val_precision: 0.9863 - val_recall: 0.9930\n",
            "Epoch 83/100\n",
            "\u001b[1m500/500\u001b[0m \u001b[32m━━━━━━━━━━━━━━━━━━━━\u001b[0m\u001b[37m\u001b[0m \u001b[1m10s\u001b[0m 14ms/step - accuracy: 0.9907 - auc: 0.9992 - loss: 0.0342 - precision: 0.9867 - recall: 0.9949 - val_accuracy: 0.9870 - val_auc: 0.9995 - val_loss: 0.0328 - val_precision: 0.9922 - val_recall: 0.9818\n",
            "Epoch 84/100\n",
            "\u001b[1m500/500\u001b[0m \u001b[32m━━━━━━━━━━━━━━━━━━━━\u001b[0m\u001b[37m\u001b[0m \u001b[1m6s\u001b[0m 13ms/step - accuracy: 0.9908 - auc: 0.9992 - loss: 0.0342 - precision: 0.9876 - recall: 0.9943 - val_accuracy: 0.9851 - val_auc: 0.9980 - val_loss: 0.0440 - val_precision: 0.9739 - val_recall: 0.9970\n",
            "Epoch 85/100\n",
            "\u001b[1m500/500\u001b[0m \u001b[32m━━━━━━━━━━━━━━━━━━━━\u001b[0m\u001b[37m\u001b[0m \u001b[1m8s\u001b[0m 15ms/step - accuracy: 0.9893 - auc: 0.9990 - loss: 0.0400 - precision: 0.9849 - recall: 0.9939 - val_accuracy: 0.9896 - val_auc: 0.9992 - val_loss: 0.0283 - val_precision: 0.9910 - val_recall: 0.9883\n",
            "Epoch 86/100\n",
            "\u001b[1m500/500\u001b[0m \u001b[32m━━━━━━━━━━━━━━━━━━━━\u001b[0m\u001b[37m\u001b[0m \u001b[1m6s\u001b[0m 12ms/step - accuracy: 0.9907 - auc: 0.9990 - loss: 0.0389 - precision: 0.9865 - recall: 0.9951 - val_accuracy: 0.9897 - val_auc: 0.9993 - val_loss: 0.0284 - val_precision: 0.9876 - val_recall: 0.9920\n",
            "Epoch 87/100\n",
            "\u001b[1m500/500\u001b[0m \u001b[32m━━━━━━━━━━━━━━━━━━━━\u001b[0m\u001b[37m\u001b[0m \u001b[1m12s\u001b[0m 17ms/step - accuracy: 0.9911 - auc: 0.9994 - loss: 0.0339 - precision: 0.9871 - recall: 0.9951 - val_accuracy: 0.9904 - val_auc: 0.9994 - val_loss: 0.0272 - val_precision: 0.9878 - val_recall: 0.9930\n",
            "Epoch 88/100\n",
            "\u001b[1m500/500\u001b[0m \u001b[32m━━━━━━━━━━━━━━━━━━━━\u001b[0m\u001b[37m\u001b[0m \u001b[1m9s\u001b[0m 14ms/step - accuracy: 0.9900 - auc: 0.9991 - loss: 0.0363 - precision: 0.9858 - recall: 0.9943 - val_accuracy: 0.9905 - val_auc: 0.9994 - val_loss: 0.0278 - val_precision: 0.9895 - val_recall: 0.9915\n",
            "Epoch 89/100\n",
            "\u001b[1m500/500\u001b[0m \u001b[32m━━━━━━━━━━━━━━━━━━━━\u001b[0m\u001b[37m\u001b[0m \u001b[1m9s\u001b[0m 12ms/step - accuracy: 0.9907 - auc: 0.9992 - loss: 0.0356 - precision: 0.9869 - recall: 0.9946 - val_accuracy: 0.9870 - val_auc: 0.9993 - val_loss: 0.0349 - val_precision: 0.9932 - val_recall: 0.9808\n",
            "Epoch 90/100\n",
            "\u001b[1m500/500\u001b[0m \u001b[32m━━━━━━━━━━━━━━━━━━━━\u001b[0m\u001b[37m\u001b[0m \u001b[1m7s\u001b[0m 14ms/step - accuracy: 0.9914 - auc: 0.9994 - loss: 0.0322 - precision: 0.9874 - recall: 0.9954 - val_accuracy: 0.9889 - val_auc: 0.9991 - val_loss: 0.0302 - val_precision: 0.9858 - val_recall: 0.9920\n",
            "Epoch 91/100\n",
            "\u001b[1m500/500\u001b[0m \u001b[32m━━━━━━━━━━━━━━━━━━━━\u001b[0m\u001b[37m\u001b[0m \u001b[1m10s\u001b[0m 13ms/step - accuracy: 0.9899 - auc: 0.9992 - loss: 0.0360 - precision: 0.9856 - recall: 0.9945 - val_accuracy: 0.9892 - val_auc: 0.9990 - val_loss: 0.0277 - val_precision: 0.9858 - val_recall: 0.9927\n",
            "Epoch 92/100\n",
            "\u001b[1m500/500\u001b[0m \u001b[32m━━━━━━━━━━━━━━━━━━━━\u001b[0m\u001b[37m\u001b[0m \u001b[1m10s\u001b[0m 12ms/step - accuracy: 0.9895 - auc: 0.9991 - loss: 0.0364 - precision: 0.9860 - recall: 0.9931 - val_accuracy: 0.9886 - val_auc: 0.9994 - val_loss: 0.0322 - val_precision: 0.9919 - val_recall: 0.9852\n",
            "Epoch 93/100\n",
            "\u001b[1m500/500\u001b[0m \u001b[32m━━━━━━━━━━━━━━━━━━━━\u001b[0m\u001b[37m\u001b[0m \u001b[1m7s\u001b[0m 14ms/step - accuracy: 0.9916 - auc: 0.9989 - loss: 0.0351 - precision: 0.9876 - recall: 0.9958 - val_accuracy: 0.9902 - val_auc: 0.9992 - val_loss: 0.0276 - val_precision: 0.9883 - val_recall: 0.9923\n",
            "Epoch 94/100\n",
            "\u001b[1m500/500\u001b[0m \u001b[32m━━━━━━━━━━━━━━━━━━━━\u001b[0m\u001b[37m\u001b[0m \u001b[1m10s\u001b[0m 14ms/step - accuracy: 0.9910 - auc: 0.9993 - loss: 0.0330 - precision: 0.9868 - recall: 0.9952 - val_accuracy: 0.9907 - val_auc: 0.9990 - val_loss: 0.0282 - val_precision: 0.9878 - val_recall: 0.9937\n",
            "Epoch 95/100\n",
            "\u001b[1m500/500\u001b[0m \u001b[32m━━━━━━━━━━━━━━━━━━━━\u001b[0m\u001b[37m\u001b[0m \u001b[1m9s\u001b[0m 12ms/step - accuracy: 0.9895 - auc: 0.9991 - loss: 0.0385 - precision: 0.9858 - recall: 0.9934 - val_accuracy: 0.9895 - val_auc: 0.9992 - val_loss: 0.0265 - val_precision: 0.9875 - val_recall: 0.9915\n",
            "Epoch 96/100\n",
            "\u001b[1m500/500\u001b[0m \u001b[32m━━━━━━━━━━━━━━━━━━━━\u001b[0m\u001b[37m\u001b[0m \u001b[1m7s\u001b[0m 15ms/step - accuracy: 0.9915 - auc: 0.9988 - loss: 0.0336 - precision: 0.9870 - recall: 0.9959 - val_accuracy: 0.9902 - val_auc: 0.9994 - val_loss: 0.0281 - val_precision: 0.9905 - val_recall: 0.9900\n",
            "Epoch 97/100\n",
            "\u001b[1m500/500\u001b[0m \u001b[32m━━━━━━━━━━━━━━━━━━━━\u001b[0m\u001b[37m\u001b[0m \u001b[1m10s\u001b[0m 13ms/step - accuracy: 0.9912 - auc: 0.9992 - loss: 0.0322 - precision: 0.9870 - recall: 0.9954 - val_accuracy: 0.9904 - val_auc: 0.9991 - val_loss: 0.0284 - val_precision: 0.9873 - val_recall: 0.9935\n",
            "Epoch 98/100\n",
            "\u001b[1m500/500\u001b[0m \u001b[32m━━━━━━━━━━━━━━━━━━━━\u001b[0m\u001b[37m\u001b[0m \u001b[1m7s\u001b[0m 13ms/step - accuracy: 0.9913 - auc: 0.9990 - loss: 0.0335 - precision: 0.9878 - recall: 0.9950 - val_accuracy: 0.9892 - val_auc: 0.9988 - val_loss: 0.0290 - val_precision: 0.9849 - val_recall: 0.9937\n",
            "Epoch 99/100\n",
            "\u001b[1m500/500\u001b[0m \u001b[32m━━━━━━━━━━━━━━━━━━━━\u001b[0m\u001b[37m\u001b[0m \u001b[1m11s\u001b[0m 14ms/step - accuracy: 0.9908 - auc: 0.9994 - loss: 0.0316 - precision: 0.9866 - recall: 0.9951 - val_accuracy: 0.9890 - val_auc: 0.9991 - val_loss: 0.0305 - val_precision: 0.9830 - val_recall: 0.9952\n",
            "Epoch 100/100\n",
            "\u001b[1m500/500\u001b[0m \u001b[32m━━━━━━━━━━━━━━━━━━━━\u001b[0m\u001b[37m\u001b[0m \u001b[1m6s\u001b[0m 12ms/step - accuracy: 0.9913 - auc: 0.9992 - loss: 0.0339 - precision: 0.9873 - recall: 0.9955 - val_accuracy: 0.9897 - val_auc: 0.9993 - val_loss: 0.0288 - val_precision: 0.9910 - val_recall: 0.9885\n",
            "\n",
            "Run 4 Results:\n",
            "Test Loss: 0.0959\n",
            "Test Accuracy: 0.9715\n",
            "Test Precision: 0.9519\n",
            "Test Recall: 0.9332\n",
            "Test AUC: 0.9889\n",
            "\n",
            "==================================================\n",
            "Run 5/5\n",
            "==================================================\n",
            "Epoch 1/100\n",
            "\u001b[1m500/500\u001b[0m \u001b[32m━━━━━━━━━━━━━━━━━━━━\u001b[0m\u001b[37m\u001b[0m \u001b[1m12s\u001b[0m 16ms/step - accuracy: 0.8362 - auc: 0.9153 - loss: 0.5072 - precision: 0.8153 - recall: 0.8638 - val_accuracy: 0.9387 - val_auc: 0.9850 - val_loss: 0.2114 - val_precision: 0.9189 - val_recall: 0.9625\n",
            "Epoch 2/100\n",
            "\u001b[1m500/500\u001b[0m \u001b[32m━━━━━━━━━━━━━━━━━━━━\u001b[0m\u001b[37m\u001b[0m \u001b[1m6s\u001b[0m 12ms/step - accuracy: 0.9180 - auc: 0.9762 - loss: 0.2694 - precision: 0.8899 - recall: 0.9552 - val_accuracy: 0.9449 - val_auc: 0.9885 - val_loss: 0.1433 - val_precision: 0.9258 - val_recall: 0.9672\n",
            "Epoch 3/100\n",
            "\u001b[1m500/500\u001b[0m \u001b[32m━━━━━━━━━━━━━━━━━━━━\u001b[0m\u001b[37m\u001b[0m \u001b[1m11s\u001b[0m 13ms/step - accuracy: 0.9303 - auc: 0.9815 - loss: 0.2407 - precision: 0.9070 - recall: 0.9591 - val_accuracy: 0.9380 - val_auc: 0.9901 - val_loss: 0.1546 - val_precision: 0.9076 - val_recall: 0.9753\n",
            "Epoch 4/100\n",
            "\u001b[1m500/500\u001b[0m \u001b[32m━━━━━━━━━━━━━━━━━━━━\u001b[0m\u001b[37m\u001b[0m \u001b[1m11s\u001b[0m 15ms/step - accuracy: 0.9350 - auc: 0.9845 - loss: 0.2180 - precision: 0.9114 - recall: 0.9629 - val_accuracy: 0.9416 - val_auc: 0.9913 - val_loss: 0.1451 - val_precision: 0.9124 - val_recall: 0.9770\n",
            "Epoch 5/100\n",
            "\u001b[1m500/500\u001b[0m \u001b[32m━━━━━━━━━━━━━━━━━━━━\u001b[0m\u001b[37m\u001b[0m \u001b[1m10s\u001b[0m 14ms/step - accuracy: 0.9404 - auc: 0.9862 - loss: 0.2050 - precision: 0.9196 - recall: 0.9658 - val_accuracy: 0.9569 - val_auc: 0.9921 - val_loss: 0.1135 - val_precision: 0.9600 - val_recall: 0.9535\n",
            "Epoch 6/100\n",
            "\u001b[1m500/500\u001b[0m \u001b[32m━━━━━━━━━━━━━━━━━━━━\u001b[0m\u001b[37m\u001b[0m \u001b[1m9s\u001b[0m 12ms/step - accuracy: 0.9428 - auc: 0.9873 - loss: 0.1968 - precision: 0.9234 - recall: 0.9652 - val_accuracy: 0.9406 - val_auc: 0.9927 - val_loss: 0.1453 - val_precision: 0.9051 - val_recall: 0.9845\n",
            "Epoch 7/100\n",
            "\u001b[1m500/500\u001b[0m \u001b[32m━━━━━━━━━━━━━━━━━━━━\u001b[0m\u001b[37m\u001b[0m \u001b[1m7s\u001b[0m 15ms/step - accuracy: 0.9484 - auc: 0.9897 - loss: 0.1737 - precision: 0.9283 - recall: 0.9713 - val_accuracy: 0.9644 - val_auc: 0.9945 - val_loss: 0.0952 - val_precision: 0.9617 - val_recall: 0.9672\n",
            "Epoch 8/100\n",
            "\u001b[1m500/500\u001b[0m \u001b[32m━━━━━━━━━━━━━━━━━━━━\u001b[0m\u001b[37m\u001b[0m \u001b[1m10s\u001b[0m 14ms/step - accuracy: 0.9539 - auc: 0.9911 - loss: 0.1625 - precision: 0.9358 - recall: 0.9739 - val_accuracy: 0.9646 - val_auc: 0.9952 - val_loss: 0.0908 - val_precision: 0.9556 - val_recall: 0.9745\n",
            "Epoch 9/100\n",
            "\u001b[1m500/500\u001b[0m \u001b[32m━━━━━━━━━━━━━━━━━━━━\u001b[0m\u001b[37m\u001b[0m \u001b[1m6s\u001b[0m 13ms/step - accuracy: 0.9548 - auc: 0.9919 - loss: 0.1562 - precision: 0.9388 - recall: 0.9740 - val_accuracy: 0.9666 - val_auc: 0.9955 - val_loss: 0.0886 - val_precision: 0.9698 - val_recall: 0.9632\n",
            "Epoch 10/100\n",
            "\u001b[1m500/500\u001b[0m \u001b[32m━━━━━━━━━━━━━━━━━━━━\u001b[0m\u001b[37m\u001b[0m \u001b[1m7s\u001b[0m 14ms/step - accuracy: 0.9570 - auc: 0.9923 - loss: 0.1509 - precision: 0.9420 - recall: 0.9742 - val_accuracy: 0.9604 - val_auc: 0.9955 - val_loss: 0.0966 - val_precision: 0.9421 - val_recall: 0.9810\n",
            "Epoch 11/100\n",
            "\u001b[1m500/500\u001b[0m \u001b[32m━━━━━━━━━━━━━━━━━━━━\u001b[0m\u001b[37m\u001b[0m \u001b[1m9s\u001b[0m 12ms/step - accuracy: 0.9595 - auc: 0.9926 - loss: 0.1453 - precision: 0.9435 - recall: 0.9777 - val_accuracy: 0.9615 - val_auc: 0.9959 - val_loss: 0.0959 - val_precision: 0.9389 - val_recall: 0.9872\n",
            "Epoch 12/100\n",
            "\u001b[1m500/500\u001b[0m \u001b[32m━━━━━━━━━━━━━━━━━━━━\u001b[0m\u001b[37m\u001b[0m \u001b[1m10s\u001b[0m 12ms/step - accuracy: 0.9590 - auc: 0.9933 - loss: 0.1403 - precision: 0.9452 - recall: 0.9754 - val_accuracy: 0.9707 - val_auc: 0.9963 - val_loss: 0.0773 - val_precision: 0.9606 - val_recall: 0.9818\n",
            "Epoch 13/100\n",
            "\u001b[1m500/500\u001b[0m \u001b[32m━━━━━━━━━━━━━━━━━━━━\u001b[0m\u001b[37m\u001b[0m \u001b[1m7s\u001b[0m 15ms/step - accuracy: 0.9624 - auc: 0.9940 - loss: 0.1308 - precision: 0.9487 - recall: 0.9779 - val_accuracy: 0.9706 - val_auc: 0.9964 - val_loss: 0.0758 - val_precision: 0.9599 - val_recall: 0.9822\n",
            "Epoch 14/100\n",
            "\u001b[1m500/500\u001b[0m \u001b[32m━━━━━━━━━━━━━━━━━━━━\u001b[0m\u001b[37m\u001b[0m \u001b[1m11s\u001b[0m 17ms/step - accuracy: 0.9643 - auc: 0.9944 - loss: 0.1271 - precision: 0.9511 - recall: 0.9787 - val_accuracy: 0.9630 - val_auc: 0.9963 - val_loss: 0.0959 - val_precision: 0.9374 - val_recall: 0.9923\n",
            "Epoch 15/100\n",
            "\u001b[1m500/500\u001b[0m \u001b[32m━━━━━━━━━━━━━━━━━━━━\u001b[0m\u001b[37m\u001b[0m \u001b[1m7s\u001b[0m 13ms/step - accuracy: 0.9645 - auc: 0.9945 - loss: 0.1222 - precision: 0.9505 - recall: 0.9797 - val_accuracy: 0.9749 - val_auc: 0.9968 - val_loss: 0.0710 - val_precision: 0.9815 - val_recall: 0.9680\n",
            "Epoch 16/100\n",
            "\u001b[1m500/500\u001b[0m \u001b[32m━━━━━━━━━━━━━━━━━━━━\u001b[0m\u001b[37m\u001b[0m \u001b[1m11s\u001b[0m 15ms/step - accuracy: 0.9668 - auc: 0.9941 - loss: 0.1253 - precision: 0.9549 - recall: 0.9802 - val_accuracy: 0.9794 - val_auc: 0.9975 - val_loss: 0.0607 - val_precision: 0.9766 - val_recall: 0.9822\n",
            "Epoch 17/100\n",
            "\u001b[1m500/500\u001b[0m \u001b[32m━━━━━━━━━━━━━━━━━━━━\u001b[0m\u001b[37m\u001b[0m \u001b[1m10s\u001b[0m 15ms/step - accuracy: 0.9698 - auc: 0.9956 - loss: 0.1088 - precision: 0.9596 - recall: 0.9806 - val_accuracy: 0.9727 - val_auc: 0.9972 - val_loss: 0.0708 - val_precision: 0.9570 - val_recall: 0.9900\n",
            "Epoch 18/100\n",
            "\u001b[1m500/500\u001b[0m \u001b[32m━━━━━━━━━━━━━━━━━━━━\u001b[0m\u001b[37m\u001b[0m \u001b[1m6s\u001b[0m 12ms/step - accuracy: 0.9675 - auc: 0.9951 - loss: 0.1138 - precision: 0.9552 - recall: 0.9806 - val_accuracy: 0.9770 - val_auc: 0.9978 - val_loss: 0.0635 - val_precision: 0.9649 - val_recall: 0.9900\n",
            "Epoch 19/100\n",
            "\u001b[1m500/500\u001b[0m \u001b[32m━━━━━━━━━━━━━━━━━━━━\u001b[0m\u001b[37m\u001b[0m \u001b[1m11s\u001b[0m 15ms/step - accuracy: 0.9692 - auc: 0.9959 - loss: 0.1077 - precision: 0.9549 - recall: 0.9849 - val_accuracy: 0.9800 - val_auc: 0.9979 - val_loss: 0.0570 - val_precision: 0.9827 - val_recall: 0.9772\n",
            "Epoch 20/100\n",
            "\u001b[1m500/500\u001b[0m \u001b[32m━━━━━━━━━━━━━━━━━━━━\u001b[0m\u001b[37m\u001b[0m \u001b[1m10s\u001b[0m 15ms/step - accuracy: 0.9710 - auc: 0.9956 - loss: 0.1058 - precision: 0.9602 - recall: 0.9832 - val_accuracy: 0.9800 - val_auc: 0.9978 - val_loss: 0.0561 - val_precision: 0.9800 - val_recall: 0.9800\n",
            "Epoch 21/100\n",
            "\u001b[1m500/500\u001b[0m \u001b[32m━━━━━━━━━━━━━━━━━━━━\u001b[0m\u001b[37m\u001b[0m \u001b[1m9s\u001b[0m 13ms/step - accuracy: 0.9732 - auc: 0.9964 - loss: 0.0985 - precision: 0.9629 - recall: 0.9840 - val_accuracy: 0.9771 - val_auc: 0.9977 - val_loss: 0.0635 - val_precision: 0.9633 - val_recall: 0.9920\n",
            "Epoch 22/100\n",
            "\u001b[1m500/500\u001b[0m \u001b[32m━━━━━━━━━━━━━━━━━━━━\u001b[0m\u001b[37m\u001b[0m \u001b[1m7s\u001b[0m 15ms/step - accuracy: 0.9709 - auc: 0.9953 - loss: 0.1083 - precision: 0.9599 - recall: 0.9826 - val_accuracy: 0.9805 - val_auc: 0.9979 - val_loss: 0.0551 - val_precision: 0.9856 - val_recall: 0.9753\n",
            "Epoch 23/100\n",
            "\u001b[1m500/500\u001b[0m \u001b[32m━━━━━━━━━━━━━━━━━━━━\u001b[0m\u001b[37m\u001b[0m \u001b[1m10s\u001b[0m 15ms/step - accuracy: 0.9744 - auc: 0.9969 - loss: 0.0912 - precision: 0.9637 - recall: 0.9855 - val_accuracy: 0.9740 - val_auc: 0.9977 - val_loss: 0.0686 - val_precision: 0.9571 - val_recall: 0.9925\n",
            "Epoch 24/100\n",
            "\u001b[1m500/500\u001b[0m \u001b[32m━━━━━━━━━━━━━━━━━━━━\u001b[0m\u001b[37m\u001b[0m \u001b[1m9s\u001b[0m 13ms/step - accuracy: 0.9757 - auc: 0.9967 - loss: 0.0902 - precision: 0.9652 - recall: 0.9870 - val_accuracy: 0.9831 - val_auc: 0.9982 - val_loss: 0.0516 - val_precision: 0.9773 - val_recall: 0.9893\n",
            "Epoch 25/100\n",
            "\u001b[1m500/500\u001b[0m \u001b[32m━━━━━━━━━━━━━━━━━━━━\u001b[0m\u001b[37m\u001b[0m \u001b[1m7s\u001b[0m 15ms/step - accuracy: 0.9761 - auc: 0.9968 - loss: 0.0872 - precision: 0.9669 - recall: 0.9862 - val_accuracy: 0.9787 - val_auc: 0.9980 - val_loss: 0.0580 - val_precision: 0.9890 - val_recall: 0.9682\n",
            "Epoch 26/100\n",
            "\u001b[1m500/500\u001b[0m \u001b[32m━━━━━━━━━━━━━━━━━━━━\u001b[0m\u001b[37m\u001b[0m \u001b[1m6s\u001b[0m 12ms/step - accuracy: 0.9773 - auc: 0.9968 - loss: 0.0851 - precision: 0.9681 - recall: 0.9871 - val_accuracy: 0.9835 - val_auc: 0.9981 - val_loss: 0.0487 - val_precision: 0.9782 - val_recall: 0.9890\n",
            "Epoch 27/100\n",
            "\u001b[1m500/500\u001b[0m \u001b[32m━━━━━━━━━━━━━━━━━━━━\u001b[0m\u001b[37m\u001b[0m \u001b[1m10s\u001b[0m 12ms/step - accuracy: 0.9757 - auc: 0.9965 - loss: 0.0892 - precision: 0.9654 - recall: 0.9868 - val_accuracy: 0.9802 - val_auc: 0.9981 - val_loss: 0.0548 - val_precision: 0.9704 - val_recall: 0.9908\n",
            "Epoch 28/100\n",
            "\u001b[1m500/500\u001b[0m \u001b[32m━━━━━━━━━━━━━━━━━━━━\u001b[0m\u001b[37m\u001b[0m \u001b[1m11s\u001b[0m 14ms/step - accuracy: 0.9782 - auc: 0.9971 - loss: 0.0836 - precision: 0.9692 - recall: 0.9878 - val_accuracy: 0.9820 - val_auc: 0.9982 - val_loss: 0.0547 - val_precision: 0.9888 - val_recall: 0.9750\n",
            "Epoch 29/100\n",
            "\u001b[1m500/500\u001b[0m \u001b[32m━━━━━━━━━━━━━━━━━━━━\u001b[0m\u001b[37m\u001b[0m \u001b[1m7s\u001b[0m 14ms/step - accuracy: 0.9775 - auc: 0.9975 - loss: 0.0797 - precision: 0.9685 - recall: 0.9872 - val_accuracy: 0.9837 - val_auc: 0.9984 - val_loss: 0.0463 - val_precision: 0.9830 - val_recall: 0.9845\n",
            "Epoch 30/100\n",
            "\u001b[1m500/500\u001b[0m \u001b[32m━━━━━━━━━━━━━━━━━━━━\u001b[0m\u001b[37m\u001b[0m \u001b[1m7s\u001b[0m 13ms/step - accuracy: 0.9770 - auc: 0.9971 - loss: 0.0823 - precision: 0.9686 - recall: 0.9859 - val_accuracy: 0.9829 - val_auc: 0.9982 - val_loss: 0.0488 - val_precision: 0.9840 - val_recall: 0.9818\n",
            "Epoch 31/100\n",
            "\u001b[1m500/500\u001b[0m \u001b[32m━━━━━━━━━━━━━━━━━━━━\u001b[0m\u001b[37m\u001b[0m \u001b[1m7s\u001b[0m 14ms/step - accuracy: 0.9798 - auc: 0.9973 - loss: 0.0769 - precision: 0.9727 - recall: 0.9871 - val_accuracy: 0.9841 - val_auc: 0.9983 - val_loss: 0.0474 - val_precision: 0.9785 - val_recall: 0.9900\n",
            "Epoch 32/100\n",
            "\u001b[1m500/500\u001b[0m \u001b[32m━━━━━━━━━━━━━━━━━━━━\u001b[0m\u001b[37m\u001b[0m \u001b[1m7s\u001b[0m 14ms/step - accuracy: 0.9774 - auc: 0.9968 - loss: 0.0857 - precision: 0.9696 - recall: 0.9862 - val_accuracy: 0.9836 - val_auc: 0.9983 - val_loss: 0.0498 - val_precision: 0.9914 - val_recall: 0.9758\n",
            "Epoch 33/100\n",
            "\u001b[1m500/500\u001b[0m \u001b[32m━━━━━━━━━━━━━━━━━━━━\u001b[0m\u001b[37m\u001b[0m \u001b[1m11s\u001b[0m 15ms/step - accuracy: 0.9799 - auc: 0.9977 - loss: 0.0731 - precision: 0.9712 - recall: 0.9890 - val_accuracy: 0.9842 - val_auc: 0.9987 - val_loss: 0.0453 - val_precision: 0.9783 - val_recall: 0.9905\n",
            "Epoch 34/100\n",
            "\u001b[1m500/500\u001b[0m \u001b[32m━━━━━━━━━━━━━━━━━━━━\u001b[0m\u001b[37m\u001b[0m \u001b[1m6s\u001b[0m 13ms/step - accuracy: 0.9797 - auc: 0.9974 - loss: 0.0750 - precision: 0.9721 - recall: 0.9875 - val_accuracy: 0.9837 - val_auc: 0.9986 - val_loss: 0.0461 - val_precision: 0.9894 - val_recall: 0.9780\n",
            "Epoch 35/100\n",
            "\u001b[1m500/500\u001b[0m \u001b[32m━━━━━━━━━━━━━━━━━━━━\u001b[0m\u001b[37m\u001b[0m \u001b[1m8s\u001b[0m 15ms/step - accuracy: 0.9799 - auc: 0.9972 - loss: 0.0757 - precision: 0.9714 - recall: 0.9885 - val_accuracy: 0.9842 - val_auc: 0.9985 - val_loss: 0.0463 - val_precision: 0.9780 - val_recall: 0.9908\n",
            "Epoch 36/100\n",
            "\u001b[1m500/500\u001b[0m \u001b[32m━━━━━━━━━━━━━━━━━━━━\u001b[0m\u001b[37m\u001b[0m \u001b[1m10s\u001b[0m 15ms/step - accuracy: 0.9803 - auc: 0.9977 - loss: 0.0737 - precision: 0.9727 - recall: 0.9887 - val_accuracy: 0.9846 - val_auc: 0.9985 - val_loss: 0.0438 - val_precision: 0.9804 - val_recall: 0.9890\n",
            "Epoch 37/100\n",
            "\u001b[1m500/500\u001b[0m \u001b[32m━━━━━━━━━━━━━━━━━━━━\u001b[0m\u001b[37m\u001b[0m \u001b[1m6s\u001b[0m 12ms/step - accuracy: 0.9790 - auc: 0.9975 - loss: 0.0738 - precision: 0.9704 - recall: 0.9877 - val_accuracy: 0.9779 - val_auc: 0.9976 - val_loss: 0.0627 - val_precision: 0.9632 - val_recall: 0.9937\n",
            "Epoch 38/100\n",
            "\u001b[1m500/500\u001b[0m \u001b[32m━━━━━━━━━━━━━━━━━━━━\u001b[0m\u001b[37m\u001b[0m \u001b[1m8s\u001b[0m 15ms/step - accuracy: 0.9818 - auc: 0.9980 - loss: 0.0685 - precision: 0.9761 - recall: 0.9880 - val_accuracy: 0.9856 - val_auc: 0.9985 - val_loss: 0.0426 - val_precision: 0.9836 - val_recall: 0.9877\n",
            "Epoch 39/100\n",
            "\u001b[1m500/500\u001b[0m \u001b[32m━━━━━━━━━━━━━━━━━━━━\u001b[0m\u001b[37m\u001b[0m \u001b[1m6s\u001b[0m 12ms/step - accuracy: 0.9803 - auc: 0.9979 - loss: 0.0724 - precision: 0.9726 - recall: 0.9884 - val_accuracy: 0.9819 - val_auc: 0.9983 - val_loss: 0.0507 - val_precision: 0.9712 - val_recall: 0.9933\n",
            "Epoch 40/100\n",
            "\u001b[1m500/500\u001b[0m \u001b[32m━━━━━━━━━━━━━━━━━━━━\u001b[0m\u001b[37m\u001b[0m \u001b[1m8s\u001b[0m 16ms/step - accuracy: 0.9813 - auc: 0.9978 - loss: 0.0697 - precision: 0.9743 - recall: 0.9892 - val_accuracy: 0.9817 - val_auc: 0.9984 - val_loss: 0.0514 - val_precision: 0.9918 - val_recall: 0.9715\n",
            "Epoch 41/100\n",
            "\u001b[1m500/500\u001b[0m \u001b[32m━━━━━━━━━━━━━━━━━━━━\u001b[0m\u001b[37m\u001b[0m \u001b[1m9s\u001b[0m 12ms/step - accuracy: 0.9826 - auc: 0.9980 - loss: 0.0652 - precision: 0.9746 - recall: 0.9909 - val_accuracy: 0.9836 - val_auc: 0.9985 - val_loss: 0.0479 - val_precision: 0.9750 - val_recall: 0.9927\n",
            "Epoch 42/100\n",
            "\u001b[1m500/500\u001b[0m \u001b[32m━━━━━━━━━━━━━━━━━━━━\u001b[0m\u001b[37m\u001b[0m \u001b[1m7s\u001b[0m 15ms/step - accuracy: 0.9816 - auc: 0.9980 - loss: 0.0669 - precision: 0.9755 - recall: 0.9880 - val_accuracy: 0.9855 - val_auc: 0.9984 - val_loss: 0.0408 - val_precision: 0.9850 - val_recall: 0.9860\n",
            "Epoch 43/100\n",
            "\u001b[1m500/500\u001b[0m \u001b[32m━━━━━━━━━━━━━━━━━━━━\u001b[0m\u001b[37m\u001b[0m \u001b[1m11s\u001b[0m 16ms/step - accuracy: 0.9829 - auc: 0.9983 - loss: 0.0616 - precision: 0.9764 - recall: 0.9896 - val_accuracy: 0.9866 - val_auc: 0.9988 - val_loss: 0.0398 - val_precision: 0.9834 - val_recall: 0.9900\n",
            "Epoch 44/100\n",
            "\u001b[1m500/500\u001b[0m \u001b[32m━━━━━━━━━━━━━━━━━━━━\u001b[0m\u001b[37m\u001b[0m \u001b[1m8s\u001b[0m 15ms/step - accuracy: 0.9843 - auc: 0.9984 - loss: 0.0594 - precision: 0.9782 - recall: 0.9909 - val_accuracy: 0.9820 - val_auc: 0.9987 - val_loss: 0.0482 - val_precision: 0.9928 - val_recall: 0.9710\n",
            "Epoch 45/100\n",
            "\u001b[1m500/500\u001b[0m \u001b[32m━━━━━━━━━━━━━━━━━━━━\u001b[0m\u001b[37m\u001b[0m \u001b[1m10s\u001b[0m 15ms/step - accuracy: 0.9831 - auc: 0.9984 - loss: 0.0596 - precision: 0.9761 - recall: 0.9904 - val_accuracy: 0.9694 - val_auc: 0.9983 - val_loss: 0.0761 - val_precision: 0.9953 - val_recall: 0.9433\n",
            "Epoch 46/100\n",
            "\u001b[1m500/500\u001b[0m \u001b[32m━━━━━━━━━━━━━━━━━━━━\u001b[0m\u001b[37m\u001b[0m \u001b[1m9s\u001b[0m 13ms/step - accuracy: 0.9835 - auc: 0.9983 - loss: 0.0606 - precision: 0.9766 - recall: 0.9908 - val_accuracy: 0.9864 - val_auc: 0.9986 - val_loss: 0.0407 - val_precision: 0.9822 - val_recall: 0.9908\n",
            "Epoch 47/100\n",
            "\u001b[1m500/500\u001b[0m \u001b[32m━━━━━━━━━━━━━━━━━━━━\u001b[0m\u001b[37m\u001b[0m \u001b[1m7s\u001b[0m 15ms/step - accuracy: 0.9862 - auc: 0.9984 - loss: 0.0601 - precision: 0.9804 - recall: 0.9925 - val_accuracy: 0.9870 - val_auc: 0.9986 - val_loss: 0.0383 - val_precision: 0.9839 - val_recall: 0.9902\n",
            "Epoch 48/100\n",
            "\u001b[1m500/500\u001b[0m \u001b[32m━━━━━━━━━━━━━━━━━━━━\u001b[0m\u001b[37m\u001b[0m \u001b[1m11s\u001b[0m 16ms/step - accuracy: 0.9844 - auc: 0.9986 - loss: 0.0547 - precision: 0.9786 - recall: 0.9903 - val_accuracy: 0.9881 - val_auc: 0.9987 - val_loss: 0.0374 - val_precision: 0.9865 - val_recall: 0.9898\n",
            "Epoch 49/100\n",
            "\u001b[1m500/500\u001b[0m \u001b[32m━━━━━━━━━━━━━━━━━━━━\u001b[0m\u001b[37m\u001b[0m \u001b[1m9s\u001b[0m 12ms/step - accuracy: 0.9853 - auc: 0.9985 - loss: 0.0573 - precision: 0.9797 - recall: 0.9912 - val_accuracy: 0.9866 - val_auc: 0.9989 - val_loss: 0.0394 - val_precision: 0.9904 - val_recall: 0.9827\n",
            "Epoch 50/100\n",
            "\u001b[1m500/500\u001b[0m \u001b[32m━━━━━━━━━━━━━━━━━━━━\u001b[0m\u001b[37m\u001b[0m \u001b[1m10s\u001b[0m 12ms/step - accuracy: 0.9851 - auc: 0.9985 - loss: 0.0576 - precision: 0.9799 - recall: 0.9906 - val_accuracy: 0.9856 - val_auc: 0.9988 - val_loss: 0.0411 - val_precision: 0.9786 - val_recall: 0.9930\n",
            "Epoch 51/100\n",
            "\u001b[1m500/500\u001b[0m \u001b[32m━━━━━━━━━━━━━━━━━━━━\u001b[0m\u001b[37m\u001b[0m \u001b[1m10s\u001b[0m 13ms/step - accuracy: 0.9848 - auc: 0.9984 - loss: 0.0570 - precision: 0.9782 - recall: 0.9915 - val_accuracy: 0.9879 - val_auc: 0.9987 - val_loss: 0.0371 - val_precision: 0.9904 - val_recall: 0.9852\n",
            "Epoch 52/100\n",
            "\u001b[1m500/500\u001b[0m \u001b[32m━━━━━━━━━━━━━━━━━━━━\u001b[0m\u001b[37m\u001b[0m \u001b[1m11s\u001b[0m 15ms/step - accuracy: 0.9849 - auc: 0.9982 - loss: 0.0595 - precision: 0.9776 - recall: 0.9924 - val_accuracy: 0.9880 - val_auc: 0.9988 - val_loss: 0.0351 - val_precision: 0.9865 - val_recall: 0.9895\n",
            "Epoch 53/100\n",
            "\u001b[1m500/500\u001b[0m \u001b[32m━━━━━━━━━━━━━━━━━━━━\u001b[0m\u001b[37m\u001b[0m \u001b[1m6s\u001b[0m 13ms/step - accuracy: 0.9840 - auc: 0.9983 - loss: 0.0591 - precision: 0.9774 - recall: 0.9905 - val_accuracy: 0.9865 - val_auc: 0.9988 - val_loss: 0.0363 - val_precision: 0.9882 - val_recall: 0.9847\n",
            "Epoch 54/100\n",
            "\u001b[1m500/500\u001b[0m \u001b[32m━━━━━━━━━━━━━━━━━━━━\u001b[0m\u001b[37m\u001b[0m \u001b[1m7s\u001b[0m 15ms/step - accuracy: 0.9853 - auc: 0.9984 - loss: 0.0559 - precision: 0.9795 - recall: 0.9910 - val_accuracy: 0.9869 - val_auc: 0.9983 - val_loss: 0.0417 - val_precision: 0.9807 - val_recall: 0.9933\n",
            "Epoch 55/100\n",
            "\u001b[1m500/500\u001b[0m \u001b[32m━━━━━━━━━━━━━━━━━━━━\u001b[0m\u001b[37m\u001b[0m \u001b[1m6s\u001b[0m 13ms/step - accuracy: 0.9850 - auc: 0.9985 - loss: 0.0561 - precision: 0.9797 - recall: 0.9908 - val_accuracy: 0.9875 - val_auc: 0.9990 - val_loss: 0.0347 - val_precision: 0.9892 - val_recall: 0.9858\n",
            "Epoch 56/100\n",
            "\u001b[1m500/500\u001b[0m \u001b[32m━━━━━━━━━━━━━━━━━━━━\u001b[0m\u001b[37m\u001b[0m \u001b[1m7s\u001b[0m 15ms/step - accuracy: 0.9841 - auc: 0.9984 - loss: 0.0570 - precision: 0.9784 - recall: 0.9900 - val_accuracy: 0.9849 - val_auc: 0.9989 - val_loss: 0.0404 - val_precision: 0.9774 - val_recall: 0.9927\n",
            "Epoch 57/100\n",
            "\u001b[1m500/500\u001b[0m \u001b[32m━━━━━━━━━━━━━━━━━━━━\u001b[0m\u001b[37m\u001b[0m \u001b[1m11s\u001b[0m 16ms/step - accuracy: 0.9877 - auc: 0.9988 - loss: 0.0475 - precision: 0.9825 - recall: 0.9932 - val_accuracy: 0.9882 - val_auc: 0.9988 - val_loss: 0.0353 - val_precision: 0.9865 - val_recall: 0.9900\n",
            "Epoch 58/100\n",
            "\u001b[1m500/500\u001b[0m \u001b[32m━━━━━━━━━━━━━━━━━━━━\u001b[0m\u001b[37m\u001b[0m \u001b[1m8s\u001b[0m 12ms/step - accuracy: 0.9849 - auc: 0.9983 - loss: 0.0561 - precision: 0.9783 - recall: 0.9919 - val_accuracy: 0.9826 - val_auc: 0.9984 - val_loss: 0.0468 - val_precision: 0.9719 - val_recall: 0.9940\n",
            "Epoch 59/100\n",
            "\u001b[1m500/500\u001b[0m \u001b[32m━━━━━━━━━━━━━━━━━━━━\u001b[0m\u001b[37m\u001b[0m \u001b[1m8s\u001b[0m 15ms/step - accuracy: 0.9869 - auc: 0.9986 - loss: 0.0498 - precision: 0.9804 - recall: 0.9935 - val_accuracy: 0.9877 - val_auc: 0.9987 - val_loss: 0.0354 - val_precision: 0.9839 - val_recall: 0.9918\n",
            "Epoch 60/100\n",
            "\u001b[1m500/500\u001b[0m \u001b[32m━━━━━━━━━━━━━━━━━━━━\u001b[0m\u001b[37m\u001b[0m \u001b[1m6s\u001b[0m 13ms/step - accuracy: 0.9855 - auc: 0.9983 - loss: 0.0522 - precision: 0.9798 - recall: 0.9915 - val_accuracy: 0.9885 - val_auc: 0.9989 - val_loss: 0.0339 - val_precision: 0.9890 - val_recall: 0.9880\n",
            "Epoch 61/100\n",
            "\u001b[1m500/500\u001b[0m \u001b[32m━━━━━━━━━━━━━━━━━━━━\u001b[0m\u001b[37m\u001b[0m \u001b[1m7s\u001b[0m 15ms/step - accuracy: 0.9857 - auc: 0.9984 - loss: 0.0544 - precision: 0.9800 - recall: 0.9917 - val_accuracy: 0.9864 - val_auc: 0.9991 - val_loss: 0.0373 - val_precision: 0.9914 - val_recall: 0.9812\n",
            "Epoch 62/100\n",
            "\u001b[1m500/500\u001b[0m \u001b[32m━━━━━━━━━━━━━━━━━━━━\u001b[0m\u001b[37m\u001b[0m \u001b[1m6s\u001b[0m 13ms/step - accuracy: 0.9860 - auc: 0.9988 - loss: 0.0500 - precision: 0.9810 - recall: 0.9913 - val_accuracy: 0.9886 - val_auc: 0.9990 - val_loss: 0.0335 - val_precision: 0.9902 - val_recall: 0.9870\n",
            "Epoch 63/100\n",
            "\u001b[1m500/500\u001b[0m \u001b[32m━━━━━━━━━━━━━━━━━━━━\u001b[0m\u001b[37m\u001b[0m \u001b[1m11s\u001b[0m 14ms/step - accuracy: 0.9864 - auc: 0.9987 - loss: 0.0496 - precision: 0.9805 - recall: 0.9925 - val_accuracy: 0.9856 - val_auc: 0.9985 - val_loss: 0.0398 - val_precision: 0.9786 - val_recall: 0.9930\n",
            "Epoch 64/100\n",
            "\u001b[1m500/500\u001b[0m \u001b[32m━━━━━━━━━━━━━━━━━━━━\u001b[0m\u001b[37m\u001b[0m \u001b[1m7s\u001b[0m 15ms/step - accuracy: 0.9869 - auc: 0.9989 - loss: 0.0490 - precision: 0.9827 - recall: 0.9913 - val_accuracy: 0.9875 - val_auc: 0.9988 - val_loss: 0.0340 - val_precision: 0.9860 - val_recall: 0.9890\n",
            "Epoch 65/100\n",
            "\u001b[1m500/500\u001b[0m \u001b[32m━━━━━━━━━━━━━━━━━━━━\u001b[0m\u001b[37m\u001b[0m \u001b[1m7s\u001b[0m 13ms/step - accuracy: 0.9868 - auc: 0.9990 - loss: 0.0460 - precision: 0.9816 - recall: 0.9922 - val_accuracy: 0.9887 - val_auc: 0.9992 - val_loss: 0.0333 - val_precision: 0.9915 - val_recall: 0.9860\n",
            "Epoch 66/100\n",
            "\u001b[1m500/500\u001b[0m \u001b[32m━━━━━━━━━━━━━━━━━━━━\u001b[0m\u001b[37m\u001b[0m \u001b[1m11s\u001b[0m 15ms/step - accuracy: 0.9862 - auc: 0.9986 - loss: 0.0501 - precision: 0.9809 - recall: 0.9916 - val_accuracy: 0.9867 - val_auc: 0.9987 - val_loss: 0.0352 - val_precision: 0.9822 - val_recall: 0.9915\n",
            "Epoch 67/100\n",
            "\u001b[1m500/500\u001b[0m \u001b[32m━━━━━━━━━━━━━━━━━━━━\u001b[0m\u001b[37m\u001b[0m \u001b[1m10s\u001b[0m 14ms/step - accuracy: 0.9884 - auc: 0.9989 - loss: 0.0459 - precision: 0.9832 - recall: 0.9936 - val_accuracy: 0.9885 - val_auc: 0.9987 - val_loss: 0.0335 - val_precision: 0.9853 - val_recall: 0.9918\n",
            "Epoch 68/100\n",
            "\u001b[1m500/500\u001b[0m \u001b[32m━━━━━━━━━━━━━━━━━━━━\u001b[0m\u001b[37m\u001b[0m \u001b[1m7s\u001b[0m 14ms/step - accuracy: 0.9878 - auc: 0.9991 - loss: 0.0430 - precision: 0.9829 - recall: 0.9928 - val_accuracy: 0.9896 - val_auc: 0.9991 - val_loss: 0.0310 - val_precision: 0.9895 - val_recall: 0.9898\n",
            "Epoch 69/100\n",
            "\u001b[1m500/500\u001b[0m \u001b[32m━━━━━━━━━━━━━━━━━━━━\u001b[0m\u001b[37m\u001b[0m \u001b[1m7s\u001b[0m 14ms/step - accuracy: 0.9895 - auc: 0.9988 - loss: 0.0442 - precision: 0.9847 - recall: 0.9946 - val_accuracy: 0.9897 - val_auc: 0.9992 - val_loss: 0.0305 - val_precision: 0.9888 - val_recall: 0.9908\n",
            "Epoch 70/100\n",
            "\u001b[1m500/500\u001b[0m \u001b[32m━━━━━━━━━━━━━━━━━━━━\u001b[0m\u001b[37m\u001b[0m \u001b[1m7s\u001b[0m 13ms/step - accuracy: 0.9879 - auc: 0.9990 - loss: 0.0431 - precision: 0.9830 - recall: 0.9927 - val_accuracy: 0.9894 - val_auc: 0.9990 - val_loss: 0.0307 - val_precision: 0.9900 - val_recall: 0.9887\n",
            "Epoch 71/100\n",
            "\u001b[1m500/500\u001b[0m \u001b[32m━━━━━━━━━━━━━━━━━━━━\u001b[0m\u001b[37m\u001b[0m \u001b[1m11s\u001b[0m 15ms/step - accuracy: 0.9890 - auc: 0.9987 - loss: 0.0431 - precision: 0.9843 - recall: 0.9940 - val_accuracy: 0.9890 - val_auc: 0.9992 - val_loss: 0.0318 - val_precision: 0.9915 - val_recall: 0.9865\n",
            "Epoch 72/100\n",
            "\u001b[1m500/500\u001b[0m \u001b[32m━━━━━━━━━━━━━━━━━━━━\u001b[0m\u001b[37m\u001b[0m \u001b[1m6s\u001b[0m 12ms/step - accuracy: 0.9871 - auc: 0.9991 - loss: 0.0436 - precision: 0.9818 - recall: 0.9925 - val_accuracy: 0.9896 - val_auc: 0.9992 - val_loss: 0.0312 - val_precision: 0.9912 - val_recall: 0.9880\n",
            "Epoch 73/100\n",
            "\u001b[1m500/500\u001b[0m \u001b[32m━━━━━━━━━━━━━━━━━━━━\u001b[0m\u001b[37m\u001b[0m \u001b[1m9s\u001b[0m 18ms/step - accuracy: 0.9902 - auc: 0.9990 - loss: 0.0391 - precision: 0.9854 - recall: 0.9951 - val_accuracy: 0.9871 - val_auc: 0.9992 - val_loss: 0.0353 - val_precision: 0.9942 - val_recall: 0.9800\n",
            "Epoch 74/100\n",
            "\u001b[1m500/500\u001b[0m \u001b[32m━━━━━━━━━━━━━━━━━━━━\u001b[0m\u001b[37m\u001b[0m \u001b[1m7s\u001b[0m 12ms/step - accuracy: 0.9887 - auc: 0.9990 - loss: 0.0433 - precision: 0.9835 - recall: 0.9941 - val_accuracy: 0.9887 - val_auc: 0.9992 - val_loss: 0.0308 - val_precision: 0.9892 - val_recall: 0.9883\n",
            "Epoch 75/100\n",
            "\u001b[1m500/500\u001b[0m \u001b[32m━━━━━━━━━━━━━━━━━━━━\u001b[0m\u001b[37m\u001b[0m \u001b[1m7s\u001b[0m 15ms/step - accuracy: 0.9896 - auc: 0.9991 - loss: 0.0393 - precision: 0.9857 - recall: 0.9935 - val_accuracy: 0.9882 - val_auc: 0.9991 - val_loss: 0.0317 - val_precision: 0.9922 - val_recall: 0.9843\n",
            "Epoch 76/100\n",
            "\u001b[1m500/500\u001b[0m \u001b[32m━━━━━━━━━━━━━━━━━━━━\u001b[0m\u001b[37m\u001b[0m \u001b[1m6s\u001b[0m 12ms/step - accuracy: 0.9891 - auc: 0.9990 - loss: 0.0391 - precision: 0.9848 - recall: 0.9935 - val_accuracy: 0.9879 - val_auc: 0.9987 - val_loss: 0.0361 - val_precision: 0.9820 - val_recall: 0.9940\n",
            "Epoch 77/100\n",
            "\u001b[1m500/500\u001b[0m \u001b[32m━━━━━━━━━━━━━━━━━━━━\u001b[0m\u001b[37m\u001b[0m \u001b[1m10s\u001b[0m 13ms/step - accuracy: 0.9894 - auc: 0.9990 - loss: 0.0396 - precision: 0.9855 - recall: 0.9937 - val_accuracy: 0.9879 - val_auc: 0.9990 - val_loss: 0.0336 - val_precision: 0.9820 - val_recall: 0.9940\n",
            "Epoch 78/100\n",
            "\u001b[1m500/500\u001b[0m \u001b[32m━━━━━━━━━━━━━━━━━━━━\u001b[0m\u001b[37m\u001b[0m \u001b[1m7s\u001b[0m 15ms/step - accuracy: 0.9880 - auc: 0.9988 - loss: 0.0451 - precision: 0.9837 - recall: 0.9924 - val_accuracy: 0.9877 - val_auc: 0.9986 - val_loss: 0.0357 - val_precision: 0.9817 - val_recall: 0.9940\n",
            "Epoch 79/100\n",
            "\u001b[1m500/500\u001b[0m \u001b[32m━━━━━━━━━━━━━━━━━━━━\u001b[0m\u001b[37m\u001b[0m \u001b[1m9s\u001b[0m 12ms/step - accuracy: 0.9898 - auc: 0.9993 - loss: 0.0371 - precision: 0.9858 - recall: 0.9941 - val_accuracy: 0.9892 - val_auc: 0.9991 - val_loss: 0.0322 - val_precision: 0.9912 - val_recall: 0.9872\n",
            "\n",
            "Run 5 Results:\n",
            "Test Loss: 0.0805\n",
            "Test Accuracy: 0.9721\n",
            "Test Precision: 0.9472\n",
            "Test Recall: 0.9408\n",
            "Test AUC: 0.9921\n"
          ]
        }
      ]
    },
    {
      "cell_type": "code",
      "source": [
        "print(\"\\n\\nFinal Summary:\")\n",
        "print(\"=\"*50)\n",
        "for metric_name, values in metrics.items():\n",
        "    mean = np.mean(values)\n",
        "    std = np.std(values)\n",
        "    print(f\"{metric_name}: {mean:.4f} ± {std:.4f}\")"
      ],
      "metadata": {
        "id": "8dzGTaS75d1o",
        "colab": {
          "base_uri": "https://localhost:8080/"
        },
        "outputId": "dc7736a2-9c69-4234-8fc1-160f001b09d5"
      },
      "execution_count": null,
      "outputs": [
        {
          "output_type": "stream",
          "name": "stdout",
          "text": [
            "\n",
            "\n",
            "Final Summary:\n",
            "==================================================\n",
            "accuracy: 0.9716 ± 0.0007\n",
            "precision: 0.9461 ± 0.0042\n",
            "recall: 0.9402 ± 0.0063\n",
            "auc: 0.9914 ± 0.0016\n",
            "loss: 0.0857 ± 0.0064\n"
          ]
        }
      ]
    },
    {
      "cell_type": "code",
      "source": [
        "def plot_training_history(history):\n",
        "    plt.figure(figsize=(12, 4))\n",
        "\n",
        "\n",
        "    plt.subplot(1, 2, 1)\n",
        "    plt.plot(history.history['accuracy'], label='Train Accuracy')\n",
        "    plt.plot(history.history['val_accuracy'], label='Validation Accuracy')\n",
        "    plt.title('Model Accuracy')\n",
        "    plt.ylabel('Accuracy')\n",
        "    plt.xlabel('Epoch')\n",
        "    plt.legend()\n",
        "\n",
        "\n",
        "    plt.subplot(1, 2, 2)\n",
        "    plt.plot(history.history['loss'], label='Train Loss')\n",
        "    plt.plot(history.history['val_loss'], label='Validation Loss')\n",
        "    plt.title('Model Loss')\n",
        "    plt.ylabel('Loss')\n",
        "    plt.xlabel('Epoch')\n",
        "    plt.legend()\n",
        "\n",
        "    plt.tight_layout()\n",
        "    plt.show()\n",
        "\n",
        "plot_training_history(history)"
      ],
      "metadata": {
        "colab": {
          "base_uri": "https://localhost:8080/",
          "height": 407
        },
        "id": "mAzsarHf5o9c",
        "outputId": "136fc2aa-7fd6-4b79-cd91-93d9449c430e"
      },
      "execution_count": null,
      "outputs": [
        {
          "output_type": "display_data",
          "data": {
            "text/plain": [
              "<Figure size 1200x400 with 2 Axes>"
            ],
            "image/png": "[encoded data removed]"
          },
          "metadata": {}
        }
      ]
    },
    {
      "cell_type": "code",
      "source": [
        "model.save('/content/drive/MyDrive/Thesis/backorder_lstm_model_dataset_3_2.h5')\n",
        "print(\"LSTM model saved successfully!\")"
      ],
      "metadata": {
        "colab": {
          "base_uri": "https://localhost:8080/"
        },
        "id": "4DK-rjK856-X",
        "outputId": "4884b167-5efd-4d9a-e671-4eb0a479173d"
      },
      "execution_count": null,
      "outputs": [
        {
          "output_type": "stream",
          "name": "stderr",
          "text": [
            "WARNING:absl:You are saving your model as an HDF5 file via `model.save()` or `keras.saving.save_model(model)`. This file format is considered legacy. We recommend using instead the native Keras format, e.g. `model.save('my_model.keras')` or `keras.saving.save_model(model, 'my_model.keras')`. \n"
          ]
        },
        {
          "output_type": "stream",
          "name": "stdout",
          "text": [
            "LSTM model saved successfully!\n"
          ]
        }
      ]
    }
  ],
  "metadata": {
    "accelerator": "GPU",
    "colab": {
      "gpuType": "T4",
      "provenance": []
    },
    "kernelspec": {
      "display_name": "Python 3",
      "name": "python3"
    },
    "language_info": {
      "name": "python"
    }
  },
  "nbformat": 4,
  "nbformat_minor": 0
}